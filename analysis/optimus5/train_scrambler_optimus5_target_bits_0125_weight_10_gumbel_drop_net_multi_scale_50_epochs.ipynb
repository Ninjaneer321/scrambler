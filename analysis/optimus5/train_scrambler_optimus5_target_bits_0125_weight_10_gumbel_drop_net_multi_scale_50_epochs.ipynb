{
 "cells": [
  {
   "cell_type": "code",
   "execution_count": 1,
   "metadata": {
    "scrolled": true
   },
   "outputs": [
    {
     "name": "stderr",
     "output_type": "stream",
     "text": [
      "Using TensorFlow backend.\n"
     ]
    }
   ],
   "source": [
    "import keras\n",
    "from keras.models import Sequential, Model, load_model\n",
    "\n",
    "from keras.layers import Dense, Dropout, Activation, Flatten, Input, Lambda\n",
    "from keras.layers import Conv2D, MaxPooling2D, AveragePooling2D, Conv1D, MaxPooling1D, LSTM, ConvLSTM2D, GRU, CuDNNLSTM, CuDNNGRU, BatchNormalization, LocallyConnected2D, Permute, TimeDistributed, Bidirectional\n",
    "from keras.layers import Concatenate, Reshape, Softmax, Conv2DTranspose, Embedding, Multiply\n",
    "from keras.callbacks import ModelCheckpoint, EarlyStopping, Callback\n",
    "from keras import regularizers\n",
    "from keras import backend as K\n",
    "from keras.utils.generic_utils import Progbar\n",
    "from keras.layers.merge import _Merge\n",
    "import keras.losses\n",
    "\n",
    "from functools import partial\n",
    "\n",
    "from collections import defaultdict\n",
    "\n",
    "import tensorflow as tf\n",
    "from tensorflow.python.framework import ops\n",
    "\n",
    "import isolearn.keras as iso\n",
    "\n",
    "import numpy as np\n",
    "\n",
    "import tensorflow as tf\n",
    "import logging\n",
    "logging.getLogger('tensorflow').setLevel(logging.ERROR)\n",
    "from sklearn import preprocessing\n",
    "import pandas as pd\n",
    "\n",
    "import os\n",
    "import pickle\n",
    "import numpy as np\n",
    "\n",
    "import scipy.sparse as sp\n",
    "import scipy.io as spio\n",
    "import scipy as scp\n",
    "import matplotlib.pyplot as plt\n",
    "\n",
    "import isolearn.io as isoio\n",
    "import isolearn.keras as isol\n",
    "\n",
    "from sequence_logo_helper import plot_dna_logo\n",
    "\n",
    "import pandas as pd\n",
    "\n",
    "from keras.backend.tensorflow_backend import set_session\n",
    "\n",
    "def contain_tf_gpu_mem_usage() :\n",
    "    config = tf.ConfigProto()\n",
    "    config.gpu_options.allow_growth = True\n",
    "    sess = tf.Session(config=config)\n",
    "    set_session(sess)\n",
    "\n",
    "contain_tf_gpu_mem_usage()\n",
    "\n",
    "class EpochVariableCallback(Callback) :\n",
    "    \n",
    "    def __init__(self, my_variable, my_func) :\n",
    "        self.my_variable = my_variable       \n",
    "        self.my_func = my_func\n",
    "        \n",
    "    def on_epoch_begin(self, epoch, logs={}) :\n",
    "        K.set_value(self.my_variable, self.my_func(K.get_value(self.my_variable), epoch))\n"
   ]
  },
  {
   "cell_type": "code",
   "execution_count": 2,
   "metadata": {
    "scrolled": true
   },
   "outputs": [
    {
     "name": "stdout",
     "output_type": "stream",
     "text": [
      "x_train.shape = (15008, 1, 50, 4)\n",
      "x_test.shape = (3200, 1, 50, 4)\n",
      "x_extra.shape = (3, 1, 50, 4)\n",
      "y_train.shape = (15008, 1)\n",
      "y_test.shape = (3200, 1)\n",
      "y_extra.shape = (3, 1)\n"
     ]
    }
   ],
   "source": [
    "\n",
    "#optimus 5-prime functions \n",
    "def test_data(df, model, test_seq, obs_col, output_col='pred'):\n",
    "    '''Predict mean ribosome load using model and test set UTRs'''\n",
    "    \n",
    "    # Scale the test set mean ribosome load\n",
    "    scaler = preprocessing.StandardScaler()\n",
    "    scaler.fit(df[obs_col].reshape(-1,1))\n",
    "    \n",
    "    # Make predictions\n",
    "    predictions = model.predict(test_seq).reshape(-1)\n",
    "    \n",
    "    # Inverse scaled predicted mean ribosome load and return in a column labeled 'pred'\n",
    "    df.loc[:,output_col] = scaler.inverse_transform(predictions)\n",
    "    return df\n",
    "\n",
    "\n",
    "def one_hot_encode(df, col='utr', seq_len=50):\n",
    "    # Dictionary returning one-hot encoding of nucleotides. \n",
    "    nuc_d = {'a':[1,0,0,0],'c':[0,1,0,0],'g':[0,0,1,0],'t':[0,0,0,1], 'n':[0,0,0,0]}\n",
    "    \n",
    "    # Creat empty matrix.\n",
    "    vectors=np.empty([len(df),seq_len,4])\n",
    "    \n",
    "    # Iterate through UTRs and one-hot encode\n",
    "    for i,seq in enumerate(df[col].str[:seq_len]): \n",
    "        seq = seq.lower()\n",
    "        a = np.array([nuc_d[x] for x in seq])\n",
    "        vectors[i] = a\n",
    "    return vectors\n",
    "\n",
    "\n",
    "def r2(x,y):\n",
    "    slope, intercept, r_value, p_value, std_err = stats.linregress(x,y)\n",
    "    return r_value**2\n",
    "\n",
    "\n",
    "#Train data\n",
    "e_train = pd.read_csv(\"bottom5KIFuAUGTop5KIFuAUG.csv\")\n",
    "e_train.loc[:,'scaled_rl'] = preprocessing.StandardScaler().fit_transform(e_train.loc[:,'rl'].values.reshape(-1,1))\n",
    "\n",
    "seq_e_train = one_hot_encode(e_train,seq_len=50)\n",
    "x_train = seq_e_train\n",
    "x_train = np.reshape(x_train, (x_train.shape[0], 1, x_train.shape[1], x_train.shape[2]))\n",
    "y_train = np.array(e_train['scaled_rl'].values)\n",
    "y_train = np.reshape(y_train, (y_train.shape[0],1))\n",
    "\n",
    "#Test data\n",
    "\n",
    "e_test = pd.read_csv(\"randomSampleTestingAllAUGtypes.csv\")\n",
    "e_test.loc[:,'scaled_rl'] = preprocessing.StandardScaler().fit_transform(e_test.loc[:,'rl'].values.reshape(-1,1))\n",
    "\n",
    "seq_e_test = one_hot_encode(e_test, seq_len=50)\n",
    "x_test = seq_e_test\n",
    "x_test = np.reshape(x_test, (x_test.shape[0], 1, x_test.shape[1], x_test.shape[2]))\n",
    "y_test = np.array(e_test['scaled_rl'].values)\n",
    "y_test = np.reshape(y_test, (y_test.shape[0],1))\n",
    "\n",
    "\n",
    "e_extra = pd.DataFrame({\n",
    "    'utr' : [\n",
    "        \"CCGGCTTATCAATGGGAAGCGTCGATTGCGACAAGGGTCGTGCTCGCTAG\",\n",
    "        \"CCGGCTTATCAATGGGAAGCGTCGATTGCGACAAGGGTCGTTAGCGCTAG\",\n",
    "        \"CCGGCTTATCAATGGGAATGGTCGATTGCGACAAGGGTCGTTAGCGCTAG\"\n",
    "    ]\n",
    "})\n",
    "seq_e_extra = one_hot_encode(e_extra, seq_len=50)\n",
    "x_extra = seq_e_extra\n",
    "x_extra = np.reshape(x_extra, (x_extra.shape[0], 1, x_extra.shape[1], x_extra.shape[2]))\n",
    "\n",
    "y_extra = np.zeros((x_extra.shape[0],1))\n",
    "\n",
    "print(\"x_train.shape = \" + str(x_train.shape))\n",
    "print(\"x_test.shape = \" + str(x_test.shape))\n",
    "print(\"x_extra.shape = \" + str(x_extra.shape))\n",
    "\n",
    "print(\"y_train.shape = \" + str(y_train.shape))\n",
    "print(\"y_test.shape = \" + str(y_test.shape))\n",
    "print(\"y_extra.shape = \" + str(y_extra.shape))\n"
   ]
  },
  {
   "cell_type": "code",
   "execution_count": 3,
   "metadata": {
    "scrolled": true
   },
   "outputs": [],
   "source": [
    "#Define sequence template\n",
    "\n",
    "sequence_template = \"N\" * 50\n",
    "sequence_mask = np.array([1 if sequence_template[j] == 'N' else 0 for j in range(len(sequence_template))])\n"
   ]
  },
  {
   "cell_type": "code",
   "execution_count": 4,
   "metadata": {
    "scrolled": true
   },
   "outputs": [
    {
     "data": {
      "image/png": "[encoded data removed]",
      "text/plain": [
       "<Figure size 1008x46.8 with 1 Axes>"
      ]
     },
     "metadata": {},
     "output_type": "display_data"
    }
   ],
   "source": [
    "#Visualize background sequence distribution\n",
    "\n",
    "pseudo_count = 1.0\n",
    "\n",
    "x_mean = (np.sum(x_train, axis=(0, 1)) + pseudo_count) / (x_train.shape[0] + 4. * pseudo_count)\n",
    "x_mean_logits = np.log(x_mean / (1. - x_mean))\n",
    "\n",
    "plot_dna_logo(np.copy(x_mean), sequence_template=sequence_template, figsize=(14, 0.65), logo_height=1.0, plot_start=0, plot_end=205)\n"
   ]
  },
  {
   "cell_type": "code",
   "execution_count": 5,
   "metadata": {
    "scrolled": true
   },
   "outputs": [
    {
     "name": "stdout",
     "output_type": "stream",
     "text": [
      "Mean conservation (bits) = 0.032049298346210106\n"
     ]
    }
   ],
   "source": [
    "#Calculate mean training set conservation\n",
    "\n",
    "entropy = np.sum(x_mean * -np.log(x_mean), axis=-1) / np.log(2.0)\n",
    "conservation = 2.0 - entropy\n",
    "\n",
    "x_mean_conservation = np.sum(conservation) / np.sum(sequence_mask)\n",
    "\n",
    "print(\"Mean conservation (bits) = \" + str(x_mean_conservation))\n"
   ]
  },
  {
   "cell_type": "code",
   "execution_count": 6,
   "metadata": {
    "scrolled": true
   },
   "outputs": [
    {
     "name": "stdout",
     "output_type": "stream",
     "text": [
      "Mean KL Div against background (bits) = 1.9679329305814974\n"
     ]
    }
   ],
   "source": [
    "#Calculate mean training set kl-divergence against background\n",
    "\n",
    "x_train_clipped = np.clip(np.copy(x_train[:, 0, :, :]), 1e-8, 1. - 1e-8)\n",
    "\n",
    "kl_divs = np.sum(x_train_clipped * np.log(x_train_clipped / np.tile(np.expand_dims(x_mean, axis=0), (x_train_clipped.shape[0], 1, 1))), axis=-1) / np.log(2.0)\n",
    "\n",
    "x_mean_kl_divs = np.sum(kl_divs * sequence_mask, axis=-1) / np.sum(sequence_mask)\n",
    "x_mean_kl_div = np.mean(x_mean_kl_divs)\n",
    "\n",
    "print(\"Mean KL Div against background (bits) = \" + str(x_mean_kl_div))\n"
   ]
  },
  {
   "cell_type": "code",
   "execution_count": 7,
   "metadata": {
    "scrolled": true
   },
   "outputs": [],
   "source": [
    "from tensorflow.python.framework import ops\n",
    "\n",
    "#Stochastic Binarized Neuron helper functions (Tensorflow)\n",
    "#ST Estimator code adopted from https://r2rt.com/beyond-binary-ternary-and-one-hot-neurons.html\n",
    "#See Github https://github.com/spitis/\n",
    "\n",
    "def st_sampled_softmax(logits):\n",
    "    with ops.name_scope(\"STSampledSoftmax\") as namescope :\n",
    "        nt_probs = tf.nn.softmax(logits)\n",
    "        onehot_dim = logits.get_shape().as_list()[1]\n",
    "        sampled_onehot = tf.one_hot(tf.squeeze(tf.multinomial(logits, 1), 1), onehot_dim, 1.0, 0.0)\n",
    "        with tf.get_default_graph().gradient_override_map({'Ceil': 'Identity', 'Mul': 'STMul'}):\n",
    "            return tf.ceil(sampled_onehot * nt_probs)\n",
    "\n",
    "def st_hardmax_softmax(logits):\n",
    "    with ops.name_scope(\"STHardmaxSoftmax\") as namescope :\n",
    "        nt_probs = tf.nn.softmax(logits)\n",
    "        onehot_dim = logits.get_shape().as_list()[1]\n",
    "        sampled_onehot = tf.one_hot(tf.argmax(nt_probs, 1), onehot_dim, 1.0, 0.0)\n",
    "        with tf.get_default_graph().gradient_override_map({'Ceil': 'Identity', 'Mul': 'STMul'}):\n",
    "            return tf.ceil(sampled_onehot * nt_probs)\n",
    "\n",
    "@ops.RegisterGradient(\"STMul\")\n",
    "def st_mul(op, grad):\n",
    "    return [grad, grad]\n",
    "\n",
    "#Gumbel Distribution Sampler\n",
    "def gumbel_softmax(logits, temperature=0.5) :\n",
    "    gumbel_dist = tf.contrib.distributions.RelaxedOneHotCategorical(temperature, logits=logits)\n",
    "    batch_dim = logits.get_shape().as_list()[0]\n",
    "    onehot_dim = logits.get_shape().as_list()[1]\n",
    "    return gumbel_dist.sample()\n"
   ]
  },
  {
   "cell_type": "code",
   "execution_count": 8,
   "metadata": {
    "scrolled": true
   },
   "outputs": [],
   "source": [
    "#aparent_l_test, aparent_d_test#PWM Masking and Sampling helper functions\n",
    "\n",
    "def mask_pwm(inputs) :\n",
    "    pwm, onehot_template, onehot_mask = inputs\n",
    "\n",
    "    return pwm * onehot_mask + onehot_template\n",
    "\n",
    "def sample_pwm_st(pwm_logits) :\n",
    "    n_sequences = K.shape(pwm_logits)[0]\n",
    "    seq_length = K.shape(pwm_logits)[2]\n",
    "\n",
    "    flat_pwm = K.reshape(pwm_logits, (n_sequences * seq_length, 4))\n",
    "    sampled_pwm = st_sampled_softmax(flat_pwm)\n",
    "\n",
    "    return K.reshape(sampled_pwm, (n_sequences, 1, seq_length, 4))\n",
    "\n",
    "def sample_pwm_gumbel(pwm_logits) :\n",
    "    n_sequences = K.shape(pwm_logits)[0]\n",
    "    seq_length = K.shape(pwm_logits)[2]\n",
    "\n",
    "    flat_pwm = K.reshape(pwm_logits, (n_sequences * seq_length, 4))\n",
    "    sampled_pwm = gumbel_softmax(flat_pwm, temperature=0.5)\n",
    "\n",
    "    return K.reshape(sampled_pwm, (n_sequences, 1, seq_length, 4))\n",
    "\n",
    "#Generator helper functions\n",
    "def initialize_sequence_templates(generator, sequence_templates, background_matrices) :\n",
    "\n",
    "    embedding_templates = []\n",
    "    embedding_masks = []\n",
    "    embedding_backgrounds = []\n",
    "\n",
    "    for k in range(len(sequence_templates)) :\n",
    "        sequence_template = sequence_templates[k]\n",
    "        onehot_template = iso.OneHotEncoder(seq_length=len(sequence_template))(sequence_template).reshape((1, len(sequence_template), 4))\n",
    "\n",
    "        for j in range(len(sequence_template)) :\n",
    "            if sequence_template[j] not in ['N', 'X'] :\n",
    "                nt_ix = np.argmax(onehot_template[0, j, :])\n",
    "                onehot_template[:, j, :] = -4.0\n",
    "                onehot_template[:, j, nt_ix] = 10.0\n",
    "            elif sequence_template[j] == 'X' :\n",
    "                onehot_template[:, j, :] = -1.0\n",
    "\n",
    "        onehot_mask = np.zeros((1, len(sequence_template), 4))\n",
    "        for j in range(len(sequence_template)) :\n",
    "            if sequence_template[j] == 'N' :\n",
    "                onehot_mask[:, j, :] = 1.0\n",
    "\n",
    "        embedding_templates.append(onehot_template.reshape(1, -1))\n",
    "        embedding_masks.append(onehot_mask.reshape(1, -1))\n",
    "        embedding_backgrounds.append(background_matrices[k].reshape(1, -1))\n",
    "\n",
    "    embedding_templates = np.concatenate(embedding_templates, axis=0)\n",
    "    embedding_masks = np.concatenate(embedding_masks, axis=0)\n",
    "    embedding_backgrounds = np.concatenate(embedding_backgrounds, axis=0)\n",
    "\n",
    "    generator.get_layer('template_dense').set_weights([embedding_templates])\n",
    "    generator.get_layer('template_dense').trainable = False\n",
    "\n",
    "    generator.get_layer('mask_dense').set_weights([embedding_masks])\n",
    "    generator.get_layer('mask_dense').trainable = False\n",
    "    \n",
    "    generator.get_layer('background_dense').set_weights([embedding_backgrounds])\n",
    "    generator.get_layer('background_dense').trainable = False\n",
    "\n",
    "#Generator construction function\n",
    "def build_sampler(batch_size, seq_length, n_classes=1, n_samples=1, sample_mode='st') :\n",
    "\n",
    "    #Initialize Reshape layer\n",
    "    reshape_layer = Reshape((1, seq_length, 4))\n",
    "    \n",
    "    #Initialize background matrix\n",
    "    onehot_background_dense = Embedding(n_classes, seq_length * 4, embeddings_initializer='zeros', name='background_dense')\n",
    "\n",
    "    #Initialize template and mask matrices\n",
    "    onehot_template_dense = Embedding(n_classes, seq_length * 4, embeddings_initializer='zeros', name='template_dense')\n",
    "    onehot_mask_dense = Embedding(n_classes, seq_length * 4, embeddings_initializer='ones', name='mask_dense')\n",
    "\n",
    "    #Initialize Templating and Masking Lambda layer\n",
    "    masking_layer = Lambda(mask_pwm, output_shape = (1, seq_length, 4), name='masking_layer')\n",
    "    background_layer = Lambda(lambda x: x[0] + x[1], name='background_layer')\n",
    "    \n",
    "    #Initialize PWM normalization layer\n",
    "    pwm_layer = Softmax(axis=-1, name='pwm')\n",
    "    \n",
    "    #Initialize sampling layers\n",
    "    sample_func = None\n",
    "    if sample_mode == 'st' :\n",
    "        sample_func = sample_pwm_st\n",
    "    elif sample_mode == 'gumbel' :\n",
    "        sample_func = sample_pwm_gumbel\n",
    "    \n",
    "    upsampling_layer = Lambda(lambda x: K.tile(x, [n_samples, 1, 1, 1]), name='upsampling_layer')\n",
    "    sampling_layer = Lambda(sample_func, name='pwm_sampler')\n",
    "    permute_layer = Lambda(lambda x: K.permute_dimensions(K.reshape(x, (n_samples, batch_size, 1, seq_length, 4)), (1, 0, 2, 3, 4)), name='permute_layer')\n",
    "    \n",
    "    def _sampler_func(class_input, raw_logits) :\n",
    "        \n",
    "        #Get Template and Mask\n",
    "        onehot_background = reshape_layer(onehot_background_dense(class_input))\n",
    "        onehot_template = reshape_layer(onehot_template_dense(class_input))\n",
    "        onehot_mask = reshape_layer(onehot_mask_dense(class_input))\n",
    "        \n",
    "        #Add Template and Multiply Mask\n",
    "        pwm_logits = masking_layer([background_layer([raw_logits, onehot_background]), onehot_template, onehot_mask])\n",
    "        \n",
    "        #Compute PWM (Nucleotide-wise Softmax)\n",
    "        pwm = pwm_layer(pwm_logits)\n",
    "        \n",
    "        #Tile each PWM to sample from and create sample axis\n",
    "        pwm_logits_upsampled = upsampling_layer(pwm_logits)\n",
    "        sampled_pwm = sampling_layer(pwm_logits_upsampled)\n",
    "        sampled_pwm = permute_layer(sampled_pwm)\n",
    "\n",
    "        sampled_mask = permute_layer(upsampling_layer(onehot_mask))\n",
    "        \n",
    "        return pwm_logits, pwm, sampled_pwm, onehot_mask, sampled_mask\n",
    "    \n",
    "    return _sampler_func\n"
   ]
  },
  {
   "cell_type": "code",
   "execution_count": 9,
   "metadata": {},
   "outputs": [],
   "source": [
    "#Scrambler network definition\n",
    "\n",
    "def make_resblock(n_channels=64, window_size=8, dilation_rate=1, group_ix=0, layer_ix=0, drop_rate=0.0) :\n",
    "\n",
    "    #Initialize res block layers\n",
    "    batch_norm_0 = BatchNormalization(name='scrambler_resblock_' + str(group_ix) + '_' + str(layer_ix) + '_batch_norm_0')\n",
    "\n",
    "    relu_0 = Lambda(lambda x: K.relu(x, alpha=0.0))\n",
    "\n",
    "    conv_0 = Conv2D(n_channels, (1, window_size), dilation_rate=dilation_rate, strides=(1, 1), padding='same', activation='linear', kernel_initializer='glorot_normal', name='scrambler_resblock_' + str(group_ix) + '_' + str(layer_ix) + '_conv_0')\n",
    "\n",
    "    batch_norm_1 = BatchNormalization(name='scrambler_resblock_' + str(group_ix) + '_' + str(layer_ix) + '_batch_norm_1')\n",
    "\n",
    "    relu_1 = Lambda(lambda x: K.relu(x, alpha=0.0))\n",
    "\n",
    "    conv_1 = Conv2D(n_channels, (1, window_size), dilation_rate=dilation_rate, strides=(1, 1), padding='same', activation='linear', kernel_initializer='glorot_normal', name='scrambler_resblock_' + str(group_ix) + '_' + str(layer_ix) + '_conv_1')\n",
    "\n",
    "    skip_1 = Lambda(lambda x: x[0] + x[1], name='scrambler_resblock_' + str(group_ix) + '_' + str(layer_ix) + '_skip_1')\n",
    "\n",
    "    drop_1 = None\n",
    "    if drop_rate > 0.0 :\n",
    "        drop_1 = Dropout(drop_rate)\n",
    "    \n",
    "    #Execute res block\n",
    "    def _resblock_func(input_tensor) :\n",
    "        batch_norm_0_out = batch_norm_0(input_tensor)\n",
    "        relu_0_out = relu_0(batch_norm_0_out)\n",
    "        conv_0_out = conv_0(relu_0_out)\n",
    "\n",
    "        batch_norm_1_out = batch_norm_1(conv_0_out)\n",
    "        relu_1_out = relu_1(batch_norm_1_out)\n",
    "        \n",
    "        if drop_rate > 0.0 :\n",
    "            conv_1_out = drop_1(conv_1(relu_1_out))\n",
    "        else :\n",
    "            conv_1_out = conv_1(relu_1_out)\n",
    "\n",
    "        skip_1_out = skip_1([conv_1_out, input_tensor])\n",
    "        \n",
    "        return skip_1_out\n",
    "\n",
    "    return _resblock_func\n",
    "\n",
    "def mask_dropout_multi_scale(mask, drop_scales=[1, 2, 4, 7], min_drop_rate=0.0, max_drop_rate=0.5) :\n",
    "    \n",
    "    rates = K.random_uniform(shape=(K.shape(mask)[0], 1, 1, 1), minval=min_drop_rate, maxval=max_drop_rate)\n",
    "    \n",
    "    scale_logits = K.random_uniform(shape=(K.shape(mask)[0], len(drop_scales), 1, 1, 1), minval=-5., maxval=5.)\n",
    "    scale_probs = K.softmax(scale_logits, axis=1)\n",
    "    \n",
    "    ret_mask = mask\n",
    "    for drop_scale_ix, drop_scale in enumerate(drop_scales) :\n",
    "        ret_mask = mask_dropout(ret_mask, rates * scale_probs[:, drop_scale_ix, ...], drop_scale=drop_scale)\n",
    "    \n",
    "    return K.switch(K.learning_phase(), ret_mask, mask)\n",
    "\n",
    "def mask_dropout(mask, drop_rates, drop_scale=1) :\n",
    "    \n",
    "    random_tensor_downsampled = K.random_uniform(shape=(\n",
    "        K.shape(mask)[0],\n",
    "        1,\n",
    "        K.cast(K.shape(mask)[2] / drop_scale, dtype=tf.int32),\n",
    "        K.shape(mask)[3]\n",
    "    ), minval=0.0, maxval=1.0)\n",
    "    \n",
    "    keep_mask_downsampled = random_tensor_downsampled >= drop_rates\n",
    "    \n",
    "    keep_mask = K.repeat_elements(keep_mask_downsampled, rep=drop_scale, axis=2)\n",
    "    \n",
    "    ret_mask = mask * K.cast(keep_mask, dtype=tf.float32)\n",
    "    \n",
    "    return ret_mask\n",
    "\n",
    "def mask_dropout_single_scale(mask, drop_scale=1, min_drop_rate=0.0, max_drop_rate=0.5) :\n",
    "    \n",
    "    rates = K.random_uniform(shape=(K.shape(mask)[0], 1, 1, 1), minval=min_drop_rate, maxval=max_drop_rate)\n",
    "    \n",
    "    random_tensor_downsampled = K.random_uniform(shape=(\n",
    "        K.shape(mask)[0],\n",
    "        1,\n",
    "        K.cast(K.shape(mask)[2] / drop_scale, dtype=tf.int32),\n",
    "        K.shape(mask)[3]\n",
    "    ), minval=0.0, maxval=1.0)\n",
    "    \n",
    "    keep_mask_downsampled = random_tensor_downsampled >= rates\n",
    "    \n",
    "    keep_mask = K.repeat_elements(keep_mask_downsampled, rep=drop_scale, axis=2)\n",
    "    \n",
    "    ret_mask = mask * K.cast(keep_mask, dtype=tf.float32)\n",
    "    \n",
    "    return K.switch(K.learning_phase(), ret_mask, mask)\n",
    "\n",
    "def load_scrambler_network(seq_length=50, n_groups=1, n_resblocks_per_group=4, n_channels=32, window_size=8, dilation_rates=[1], drop_rate=0.0, drop_scales=[1, 5], min_drop_rate=0.0, max_drop_rate=0.5) :\n",
    "\n",
    "    #Discriminator network definition\n",
    "    conv_0 = Conv2D(n_channels, (1, 1), strides=(1, 1), padding='same', activation='linear', kernel_initializer='glorot_normal', name='scrambler_conv_0')\n",
    "    \n",
    "    mask_drop = Lambda(lambda x: mask_dropout_multi_scale(x, drop_scales=drop_scales, min_drop_rate=min_drop_rate, max_drop_rate=max_drop_rate), output_shape=(1, seq_length, 1), name='scrambler_mask_drop')\n",
    "    #mask_drop = Lambda(lambda x: mask_dropout_single_scale(x, drop_scale=drop_scales[0], min_drop_rate=min_drop_rate, max_drop_rate=max_drop_rate), output_shape=(1, seq_length, 1), name='scrambler_mask_drop')\n",
    "    mask_concat = Concatenate(axis=-1)\n",
    "    mask_multiply = Lambda(lambda x: x[0] * x[1])\n",
    "    \n",
    "    skip_convs = []\n",
    "    resblock_groups = []\n",
    "    for group_ix in range(n_groups) :\n",
    "        \n",
    "        skip_convs.append(Conv2D(n_channels, (1, 1), strides=(1, 1), padding='same', activation='linear', kernel_initializer='glorot_normal', name='scrambler_skip_conv_' + str(group_ix)))\n",
    "        \n",
    "        resblocks = []\n",
    "        for layer_ix in range(n_resblocks_per_group) :\n",
    "            resblocks.append(make_resblock(n_channels=n_channels, window_size=window_size, dilation_rate=dilation_rates[group_ix], group_ix=group_ix, layer_ix=layer_ix, drop_rate=drop_rate))\n",
    "        \n",
    "        resblock_groups.append(resblocks)\n",
    "\n",
    "    last_block_conv = Conv2D(n_channels, (1, 1), strides=(1, 1), padding='same', activation='linear', kernel_initializer='glorot_normal', name='scrambler_last_block_conv')\n",
    "    \n",
    "    skip_add = Lambda(lambda x: x[0] + x[1], name='scrambler_skip_add')\n",
    "    \n",
    "    final_conv = Conv2D(1, (1, 1), strides=(1, 1), padding='same', activation='softplus', kernel_initializer='glorot_normal', name='scrambler_final_conv')\n",
    "    \n",
    "    onehot_to_logits = Lambda(lambda x: 2. * x - 1., name='scrambler_onehot_to_logits')\n",
    "    \n",
    "    scale_logits = Lambda(lambda x: x[1] * K.tile(x[0], (1, 1, 1, 4)), name='scrambler_logit_scale')\n",
    "    \n",
    "    def _scrambler_func(sequence_input, mask_input) :\n",
    "        \n",
    "        mask_dropped = mask_drop(mask_input)\n",
    "        \n",
    "        conv_0_out = conv_0(mask_concat([sequence_input, mask_dropped]))\n",
    "        \n",
    "        #Connect group of res blocks\n",
    "        output_tensor = conv_0_out\n",
    "\n",
    "        #Res block group execution\n",
    "        skip_conv_outs = []\n",
    "        for group_ix in range(n_groups) :\n",
    "            skip_conv_out = skip_convs[group_ix](output_tensor)\n",
    "            skip_conv_outs.append(skip_conv_out)\n",
    "\n",
    "            for layer_ix in range(n_resblocks_per_group) :\n",
    "                output_tensor = resblock_groups[group_ix][layer_ix](output_tensor)\n",
    "        \n",
    "        #Last res block extr conv\n",
    "        last_block_conv_out = last_block_conv(output_tensor)\n",
    "\n",
    "        skip_add_out = last_block_conv_out\n",
    "        for group_ix in range(n_groups) :\n",
    "            skip_add_out = skip_add([skip_add_out, skip_conv_outs[group_ix]])\n",
    "\n",
    "        #Final conv out\n",
    "        final_conv_out = mask_multiply([final_conv(skip_add_out), mask_dropped])\n",
    "        \n",
    "        #Scale logits by importance scores\n",
    "        scaled_logits = scale_logits([final_conv_out, onehot_to_logits(sequence_input)])\n",
    "        \n",
    "        return scaled_logits, final_conv_out\n",
    "\n",
    "    return _scrambler_func\n"
   ]
  },
  {
   "cell_type": "code",
   "execution_count": 10,
   "metadata": {
    "scrolled": true
   },
   "outputs": [],
   "source": [
    "#Keras loss functions\n",
    "\n",
    "def get_margin_entropy_ame_masked(pwm_start, pwm_end, pwm_background, max_bits=1.0) :\n",
    "    \n",
    "    def _margin_entropy_ame_masked(pwm, pwm_mask) :\n",
    "        conservation = pwm[:, 0, pwm_start:pwm_end, :] * K.log(K.clip(pwm[:, 0, pwm_start:pwm_end, :], K.epsilon(), 1. - K.epsilon()) / K.constant(pwm_background[pwm_start:pwm_end, :])) / K.log(2.0)\n",
    "        conservation = K.sum(conservation, axis=-1)\n",
    "        \n",
    "        mask = K.max(pwm_mask[:, 0, pwm_start:pwm_end, :], axis=-1)\n",
    "        n_unmasked = K.sum(mask, axis=-1)\n",
    "        \n",
    "        mean_conservation = K.sum(conservation * mask, axis=-1) / n_unmasked\n",
    "\n",
    "        margin_conservation = K.switch(mean_conservation > K.constant(max_bits, shape=(1,)), mean_conservation - K.constant(max_bits, shape=(1,)), K.zeros_like(mean_conservation))\n",
    "    \n",
    "        return margin_conservation\n",
    "    \n",
    "    return _margin_entropy_ame_masked\n",
    "\n",
    "def get_target_entropy_sme_masked(pwm_start, pwm_end, pwm_background, target_bits=1.0) :\n",
    "    \n",
    "    def _target_entropy_sme_masked(pwm, pwm_mask) :\n",
    "        conservation = pwm[:, 0, pwm_start:pwm_end, :] * K.log(K.clip(pwm[:, 0, pwm_start:pwm_end, :], K.epsilon(), 1. - K.epsilon()) / K.constant(pwm_background[pwm_start:pwm_end, :])) / K.log(2.0)\n",
    "        conservation = K.sum(conservation, axis=-1)\n",
    "        \n",
    "        mask = K.max(pwm_mask[:, 0, pwm_start:pwm_end, :], axis=-1)\n",
    "        n_unmasked = K.sum(mask, axis=-1)\n",
    "        \n",
    "        mean_conservation = K.sum(conservation * mask, axis=-1) / n_unmasked\n",
    "\n",
    "        return (mean_conservation - target_bits)**2\n",
    "    \n",
    "    return _target_entropy_sme_masked\n",
    "\n",
    "def get_margin_lum_ame_masked(pwm_start, pwm_end) :\n",
    "    \n",
    "    def _margin_lum_ame(importance_scores, pwm_mask, max_lum) :\n",
    "        p_ons = 2. * K.sigmoid(importance_scores[:, 0, pwm_start:pwm_end, 0]) - 1.\n",
    "        \n",
    "        mask = K.max(pwm_mask[:, 0, pwm_start:pwm_end, :], axis=-1)\n",
    "        n_unmasked = K.sum(mask, axis=-1)\n",
    "        \n",
    "        mean_p_on = K.switch(n_unmasked > 0, K.sum(p_ons * mask, axis=-1) / n_unmasked, max_lum[:, 0])\n",
    "\n",
    "        margin_p_on = K.switch(mean_p_on > max_lum[:, 0], mean_p_on - max_lum[:, 0], K.zeros_like(mean_p_on))\n",
    "    \n",
    "        return margin_p_on\n",
    "    \n",
    "    return _margin_lum_ame\n",
    "\n",
    "def get_target_lum_sme_masked(pwm_start, pwm_end) :\n",
    "    \n",
    "    def _target_lum_sme(importance_scores, pwm_mask, target_lum) :\n",
    "        p_ons = 2. * K.sigmoid(importance_scores[:, 0, pwm_start:pwm_end, 0]) - 1.\n",
    "        \n",
    "        mask = K.max(pwm_mask[:, 0, pwm_start:pwm_end, :], axis=-1)\n",
    "        n_unmasked = K.sum(mask, axis=-1)\n",
    "        \n",
    "        mean_p_on = K.switch(n_unmasked > 0, K.sum(p_ons * mask, axis=-1) / n_unmasked, target_lum[:, 0])\n",
    "        \n",
    "        return (mean_p_on - target_lum[:, 0])**2\n",
    "    \n",
    "    return _target_lum_sme\n",
    "\n",
    "def get_weighted_loss(loss_coeff=1.) :\n",
    "    \n",
    "    def _min_pred(y_true, y_pred) :\n",
    "        return loss_coeff * y_pred\n",
    "    \n",
    "    return _min_pred\n",
    "\n",
    "def get_mse(loss_coeff=1.) :\n",
    "    #returns mse function for optimus \n",
    "    def _mse(y_true, y_pred):\n",
    "        return K.mean((y_true - y_pred)**2, axis=-1)\n",
    "    return _mse\n"
   ]
  },
  {
   "cell_type": "code",
   "execution_count": 11,
   "metadata": {},
   "outputs": [],
   "source": [
    "K.clear_session()"
   ]
  },
  {
   "cell_type": "code",
   "execution_count": 12,
   "metadata": {},
   "outputs": [],
   "source": [
    "#Initialize Encoder and Decoder networks\n",
    "batch_size = 32\n",
    "seq_length = 50\n",
    "n_samples = 32\n",
    "#sample_mode = 'st'\n",
    "sample_mode = 'gumbel'\n",
    "\n",
    "#Resnet parameters\n",
    "resnet_n_groups = 5\n",
    "resnet_n_resblocks_per_group = 4\n",
    "resnet_n_channels = 32\n",
    "resnet_window_size = 3\n",
    "resnet_dilation_rates = [1, 2, 4, 2, 1]\n",
    "resnet_drop_rate = 0.0\n",
    "\n",
    "resnet_min_drop_rate = 0.0\n",
    "resnet_max_drop_rate = 0.15\n",
    "resnet_drop_scales = [1, 2, 5]\n",
    "\n",
    "#Load scrambler\n",
    "scrambler = load_scrambler_network(\n",
    "    seq_length=seq_length,\n",
    "    n_groups=resnet_n_groups,\n",
    "    n_resblocks_per_group=resnet_n_resblocks_per_group,\n",
    "    n_channels=resnet_n_channels, window_size=resnet_window_size,\n",
    "    dilation_rates=resnet_dilation_rates,\n",
    "    drop_rate=resnet_drop_rate,\n",
    "    min_drop_rate=resnet_min_drop_rate,\n",
    "    max_drop_rate=resnet_max_drop_rate,\n",
    "    drop_scales=resnet_drop_scales\n",
    ")\n",
    "\n",
    "#Load sampler\n",
    "sampler = build_sampler(batch_size, seq_length, n_classes=1, n_samples=n_samples, sample_mode=sample_mode)\n"
   ]
  },
  {
   "cell_type": "code",
   "execution_count": 13,
   "metadata": {
    "scrolled": true
   },
   "outputs": [],
   "source": [
    "#Load Predictor\n",
    "predictor_path = 'optimusRetrainedMain.hdf5'\n",
    "\n",
    "predictor = load_model(predictor_path)\n",
    "\n",
    "predictor.trainable = False\n",
    "predictor.compile(optimizer=keras.optimizers.SGD(lr=0.1), loss='mean_squared_error')\n"
   ]
  },
  {
   "cell_type": "code",
   "execution_count": 14,
   "metadata": {
    "scrolled": true
   },
   "outputs": [
    {
     "name": "stdout",
     "output_type": "stream",
     "text": [
      "\n",
      "WARNING: The TensorFlow contrib module will not be included in TensorFlow 2.0.\n",
      "For more information, please see:\n",
      "  * https://github.com/tensorflow/community/blob/master/rfcs/20180907-contrib-sunset.md\n",
      "  * https://github.com/tensorflow/addons\n",
      "If you depend on functionality not listed there, please file an issue.\n",
      "\n"
     ]
    }
   ],
   "source": [
    "#Build scrambler model\n",
    "scrambler_class = Input(shape=(1,), name='scrambler_class')\n",
    "scrambler_input = Input(shape=(1, seq_length, 4), name='scrambler_input')\n",
    "scrambler_drop = Input(shape=(1, seq_length, 1), name='scrambler_drop')\n",
    "\n",
    "scrambler_logits, importance_scores = scrambler(scrambler_input, scrambler_drop)\n",
    "\n",
    "pwm_logits, pwm, sampled_pwm, _, _ = sampler(scrambler_class, scrambler_logits)\n",
    "\n",
    "scrambler_model = Model([scrambler_input, scrambler_drop, scrambler_class], [pwm_logits, pwm, sampled_pwm, importance_scores])\n",
    "\n",
    "#Initialize Sequence Templates and Masks\n",
    "initialize_sequence_templates(scrambler_model, [sequence_template], [x_mean_logits])\n",
    "\n",
    "scrambler_model.compile(\n",
    "    optimizer=keras.optimizers.Adam(lr=0.001, beta_1=0.9, beta_2=0.999),\n",
    "    loss='mean_squared_error'\n",
    ")\n"
   ]
  },
  {
   "cell_type": "code",
   "execution_count": 15,
   "metadata": {
    "scrolled": true
   },
   "outputs": [],
   "source": [
    "#Build Auto-scrambler pipeline\n",
    "\n",
    "#Define model inputs\n",
    "ae_scrambler_class = Input(shape=(1,), name='ae_scrambler_class')\n",
    "ae_scrambler_input = Input(shape=(1, seq_length, 4), name='ae_scrambler_input')\n",
    "ae_scrambler_drop = Input(shape=(1, seq_length, 1), name='ae_scrambler_drop')\n",
    "\n",
    "#Run encoder and decoder\n",
    "_, scrambled_pwm, scrambled_sample, pwm_mask, _ = sampler(ae_scrambler_class, scrambler(ae_scrambler_input, ae_scrambler_drop)[0])\n",
    "\n",
    "#Define layer to deflate sample axis\n",
    "deflate_scrambled_sample = Lambda(lambda x: K.reshape(x, (batch_size * n_samples, 1, seq_length, 4)), name='deflate_scrambled_sample')\n",
    "\n",
    "#Deflate sample axis\n",
    "scrambled_sample_deflated = deflate_scrambled_sample(scrambled_sample)\n"
   ]
  },
  {
   "cell_type": "code",
   "execution_count": 16,
   "metadata": {
    "scrolled": true
   },
   "outputs": [],
   "source": [
    "\n",
    "def _make_prediction(inputs, predictor=predictor) :\n",
    "    pred_seq_in = inputs\n",
    "     \n",
    "    pred_seq_in_perm = tf.squeeze(pred_seq_in, 1)\n",
    "    \n",
    "    outputs = predictor(pred_seq_in_perm)\n",
    "    \n",
    "    return outputs\n",
    "\n",
    "def _make_prediction_scrambled(inputs, predictor=predictor, n_samples=n_samples) :\n",
    "    pred_seq_in = inputs\n",
    "     \n",
    "    pred_seq_in_perm = tf.squeeze(pred_seq_in, 1)\n",
    "    \n",
    "    outputs = predictor(pred_seq_in_perm)\n",
    "    \n",
    "    return outputs\n",
    "\n",
    "#Make reference prediction on non-scrambled input sequence\n",
    "y_pred_non_scrambled = Lambda(_make_prediction, name='make_prediction_non_scrambled')(ae_scrambler_input)\n",
    "\n",
    "#Make prediction on scrambled sequence samples\n",
    "y_pred_scrambled_deflated = Lambda(_make_prediction_scrambled, name='make_prediction_scrambled')(scrambled_sample_deflated)\n"
   ]
  },
  {
   "cell_type": "code",
   "execution_count": 17,
   "metadata": {
    "scrolled": true
   },
   "outputs": [],
   "source": [
    "#Define layer to inflate sample axis\n",
    "inflate_scrambled_prediction = Lambda(lambda x: K.reshape(x, (batch_size, n_samples)), name='inflate_scrambled_prediction')\n",
    "\n",
    "#Inflate sample axis\n",
    "y_pred_scrambled = inflate_scrambled_prediction(y_pred_scrambled_deflated)\n",
    "\n",
    "#Cost function parameters\n",
    "pwm_start = 0\n",
    "pwm_end = 50\n",
    "target_bits = 0.125\n",
    "\n",
    "#OPTIMUS: switched to MSE \n",
    "mse_loss_func = get_mse()\n",
    "\n",
    "#Conservation cost\n",
    "conservation_loss_func = get_target_entropy_sme_masked(pwm_start=pwm_start, pwm_end=pwm_end, pwm_background=x_mean, target_bits=1.8)\n",
    "\n",
    "#Entropy cost\n",
    "entropy_loss_func = get_target_entropy_sme_masked(pwm_start=pwm_start, pwm_end=pwm_end, pwm_background=x_mean, target_bits=target_bits)\n",
    "#entropy_loss_func = get_margin_entropy_ame_masked(pwm_start=pwm_start, pwm_end=pwm_end, pwm_background=x_mean, max_bits=target_bits)\n",
    "\n",
    "#Define annealing coefficient\n",
    "anneal_coeff = K.variable(1.0)\n",
    "\n",
    "#Execute NLL cost\n",
    "mse_loss = Lambda(lambda x: mse_loss_func(K.tile(x[0], (1, K.shape(x[1])[1])), x[1]), name='mse')([y_pred_non_scrambled, y_pred_scrambled])\n",
    "\n",
    "#Execute conservation cost\n",
    "conservation_loss = Lambda(lambda x: anneal_coeff * conservation_loss_func(x[0], x[1]), name='conservation')([scrambled_pwm, pwm_mask])\n",
    "\n",
    "#Execute entropy cost\n",
    "entropy_loss = Lambda(lambda x: (1. - anneal_coeff) * entropy_loss_func(x[0], x[1]), name='entropy')([scrambled_pwm, pwm_mask])\n",
    "\n",
    "loss_model = Model(\n",
    "    [ae_scrambler_class, ae_scrambler_input, ae_scrambler_drop],\n",
    "    [mse_loss, conservation_loss, entropy_loss]\n",
    ")\n",
    "\n",
    "#Initialize Sequence Templates and Masks\n",
    "initialize_sequence_templates(loss_model, [sequence_template], [x_mean_logits])\n",
    "\n",
    "opt = keras.optimizers.Adam(lr=0.0001, beta_1=0.5, beta_2=0.9)\n",
    "#opt = keras.optimizers.Adam(lr=0.0001, beta_1=0.9, beta_2=0.999)\n",
    "\n",
    "loss_model.compile(\n",
    "    optimizer=opt,\n",
    "    loss={\n",
    "        'mse' : get_weighted_loss(loss_coeff=1.0),\n",
    "        'conservation' : get_weighted_loss(loss_coeff=1.0),\n",
    "        'entropy' : get_weighted_loss(loss_coeff=10.0)\n",
    "    }\n",
    ")\n",
    "\n"
   ]
  },
  {
   "cell_type": "code",
   "execution_count": 18,
   "metadata": {
    "scrolled": true
   },
   "outputs": [
    {
     "name": "stdout",
     "output_type": "stream",
     "text": [
      "Model save name = autoscrambler_dataset_egfp_unmod_1_sample_mode_gumbel_n_samples_32_resnet_5_4_32_3_00_00_to_015_n_epochs_50_target_bits_0125_example_if_uorf_seqs_drop_multi_scale_weight_10\n"
     ]
    }
   ],
   "source": [
    "#Training configuration\n",
    "\n",
    "#Define number of training epochs\n",
    "n_epochs = 50\n",
    "\n",
    "#Define experiment suffix (optional)\n",
    "experiment_suffix = \"_example_if_uorf_seqs_drop_multi_scale_weight_10\"\n",
    "\n",
    "#Define anneal function\n",
    "def _anneal_func(val, epoch, n_epochs=n_epochs) :\n",
    "    if epoch in [0] :\n",
    "        return 1.0\n",
    "    \n",
    "    return 0.0\n",
    "\n",
    "architecture_str = \"resnet_\" + str(resnet_n_groups) + \"_\" + str(resnet_n_resblocks_per_group) + \"_\" + str(resnet_n_channels) + \"_\" + str(resnet_window_size) + \"_\" + str(resnet_drop_rate).replace(\".\", \"\") + \"_\" + str(resnet_min_drop_rate).replace(\".\", \"\") + \"_to_\" + str(resnet_max_drop_rate).replace(\".\", \"\")\n",
    "\n",
    "dataset_name = \"egfp_unmod_1\"\n",
    "\n",
    "model_name = \"autoscrambler_dataset_\" + dataset_name + \"_sample_mode_\" + sample_mode + \"_n_samples_\" + str(n_samples) + \"_\" + architecture_str + \"_n_epochs_\" + str(n_epochs) + \"_target_bits_\" + str(target_bits).replace(\".\", \"\") + experiment_suffix\n",
    "\n",
    "print(\"Model save name = \" + model_name)\n"
   ]
  },
  {
   "cell_type": "code",
   "execution_count": 19,
   "metadata": {
    "scrolled": true
   },
   "outputs": [
    {
     "name": "stdout",
     "output_type": "stream",
     "text": [
      "Train on 15008 samples, validate on 3200 samples\n",
      "Epoch 1/50\n",
      "15008/15008 [==============================] - 50s 3ms/step - loss: 0.3864 - mse_loss: 0.3254 - conservation_loss: 0.0611 - entropy_loss: 0.0000e+00 - val_loss: 0.0392 - val_mse_loss: 2.1446e-07 - val_conservation_loss: 0.0392 - val_entropy_loss: 0.0000e+00\n",
      "Epoch 2/50\n",
      "15008/15008 [==============================] - 34s 2ms/step - loss: 2.5632 - mse_loss: 1.2076 - conservation_loss: 0.0000e+00 - entropy_loss: 1.3556 - val_loss: 0.8145 - val_mse_loss: 0.7131 - val_conservation_loss: 0.0000e+00 - val_entropy_loss: 0.1013\n",
      "Epoch 3/50\n",
      "15008/15008 [==============================] - 37s 2ms/step - loss: 1.0375 - mse_loss: 0.9359 - conservation_loss: 0.0000e+00 - entropy_loss: 0.1016 - val_loss: 0.6950 - val_mse_loss: 0.5893 - val_conservation_loss: 0.0000e+00 - val_entropy_loss: 0.1057\n",
      "Epoch 4/50\n",
      "15008/15008 [==============================] - 37s 2ms/step - loss: 0.9467 - mse_loss: 0.8222 - conservation_loss: 0.0000e+00 - entropy_loss: 0.1245 - val_loss: 0.7495 - val_mse_loss: 0.6600 - val_conservation_loss: 0.0000e+00 - val_entropy_loss: 0.0895\n",
      "Epoch 5/50\n",
      "15008/15008 [==============================] - 37s 2ms/step - loss: 0.8831 - mse_loss: 0.7504 - conservation_loss: 0.0000e+00 - entropy_loss: 0.1327 - val_loss: 0.6408 - val_mse_loss: 0.5481 - val_conservation_loss: 0.0000e+00 - val_entropy_loss: 0.0927\n",
      "Epoch 6/50\n",
      "15008/15008 [==============================] - 38s 3ms/step - loss: 0.8323 - mse_loss: 0.6986 - conservation_loss: 0.0000e+00 - entropy_loss: 0.1336 - val_loss: 0.6517 - val_mse_loss: 0.5489 - val_conservation_loss: 0.0000e+00 - val_entropy_loss: 0.1027\n",
      "Epoch 7/50\n",
      "15008/15008 [==============================] - 37s 2ms/step - loss: 0.8138 - mse_loss: 0.6898 - conservation_loss: 0.0000e+00 - entropy_loss: 0.1240 - val_loss: 0.6375 - val_mse_loss: 0.5061 - val_conservation_loss: 0.0000e+00 - val_entropy_loss: 0.1314\n",
      "Epoch 8/50\n",
      "15008/15008 [==============================] - 42s 3ms/step - loss: 0.7880 - mse_loss: 0.6717 - conservation_loss: 0.0000e+00 - entropy_loss: 0.1163 - val_loss: 0.6665 - val_mse_loss: 0.5839 - val_conservation_loss: 0.0000e+00 - val_entropy_loss: 0.0826\n",
      "Epoch 9/50\n",
      "15008/15008 [==============================] - 44s 3ms/step - loss: 0.7677 - mse_loss: 0.6590 - conservation_loss: 0.0000e+00 - entropy_loss: 0.1087 - val_loss: 0.6549 - val_mse_loss: 0.5841 - val_conservation_loss: 0.0000e+00 - val_entropy_loss: 0.0708\n",
      "Epoch 10/50\n",
      "15008/15008 [==============================] - 47s 3ms/step - loss: 0.7467 - mse_loss: 0.6427 - conservation_loss: 0.0000e+00 - entropy_loss: 0.1040 - val_loss: 0.6992 - val_mse_loss: 0.6338 - val_conservation_loss: 0.0000e+00 - val_entropy_loss: 0.0654\n",
      "Epoch 11/50\n",
      "15008/15008 [==============================] - 53s 4ms/step - loss: 0.7410 - mse_loss: 0.6407 - conservation_loss: 0.0000e+00 - entropy_loss: 0.1003 - val_loss: 0.6284 - val_mse_loss: 0.5474 - val_conservation_loss: 0.0000e+00 - val_entropy_loss: 0.0810\n",
      "Epoch 12/50\n",
      "15008/15008 [==============================] - 55s 4ms/step - loss: 0.7336 - mse_loss: 0.6329 - conservation_loss: 0.0000e+00 - entropy_loss: 0.1007 - val_loss: 0.6233 - val_mse_loss: 0.5310 - val_conservation_loss: 0.0000e+00 - val_entropy_loss: 0.0923\n",
      "Epoch 13/50\n",
      "15008/15008 [==============================] - 55s 4ms/step - loss: 0.7202 - mse_loss: 0.6259 - conservation_loss: 0.0000e+00 - entropy_loss: 0.0942 - val_loss: 0.6856 - val_mse_loss: 0.6432 - val_conservation_loss: 0.0000e+00 - val_entropy_loss: 0.0424\n",
      "Epoch 14/50\n",
      "15008/15008 [==============================] - 55s 4ms/step - loss: 0.7212 - mse_loss: 0.6301 - conservation_loss: 0.0000e+00 - entropy_loss: 0.0911 - val_loss: 0.5998 - val_mse_loss: 0.5226 - val_conservation_loss: 0.0000e+00 - val_entropy_loss: 0.0772\n",
      "Epoch 15/50\n",
      "15008/15008 [==============================] - 55s 4ms/step - loss: 0.7119 - mse_loss: 0.6221 - conservation_loss: 0.0000e+00 - entropy_loss: 0.0898 - val_loss: 0.6673 - val_mse_loss: 0.6021 - val_conservation_loss: 0.0000e+00 - val_entropy_loss: 0.0652\n",
      "Epoch 16/50\n",
      "15008/15008 [==============================] - 55s 4ms/step - loss: 0.6961 - mse_loss: 0.6063 - conservation_loss: 0.0000e+00 - entropy_loss: 0.0898 - val_loss: 0.6448 - val_mse_loss: 0.5698 - val_conservation_loss: 0.0000e+00 - val_entropy_loss: 0.0750\n",
      "Epoch 17/50\n",
      "15008/15008 [==============================] - 55s 4ms/step - loss: 0.6867 - mse_loss: 0.5990 - conservation_loss: 0.0000e+00 - entropy_loss: 0.0878 - val_loss: 0.6245 - val_mse_loss: 0.5529 - val_conservation_loss: 0.0000e+00 - val_entropy_loss: 0.0716\n",
      "Epoch 18/50\n",
      "15008/15008 [==============================] - 55s 4ms/step - loss: 0.6911 - mse_loss: 0.6032 - conservation_loss: 0.0000e+00 - entropy_loss: 0.0879 - val_loss: 0.6976 - val_mse_loss: 0.6284 - val_conservation_loss: 0.0000e+00 - val_entropy_loss: 0.0692\n",
      "Epoch 19/50\n",
      "15008/15008 [==============================] - 55s 4ms/step - loss: 0.6797 - mse_loss: 0.5933 - conservation_loss: 0.0000e+00 - entropy_loss: 0.0864 - val_loss: 0.6272 - val_mse_loss: 0.5422 - val_conservation_loss: 0.0000e+00 - val_entropy_loss: 0.0849\n",
      "Epoch 20/50\n",
      "15008/15008 [==============================] - 55s 4ms/step - loss: 0.6909 - mse_loss: 0.6083 - conservation_loss: 0.0000e+00 - entropy_loss: 0.0826 - val_loss: 0.6505 - val_mse_loss: 0.6019 - val_conservation_loss: 0.0000e+00 - val_entropy_loss: 0.0485\n",
      "Epoch 21/50\n",
      "15008/15008 [==============================] - 55s 4ms/step - loss: 0.6704 - mse_loss: 0.5839 - conservation_loss: 0.0000e+00 - entropy_loss: 0.0865 - val_loss: 0.6478 - val_mse_loss: 0.5820 - val_conservation_loss: 0.0000e+00 - val_entropy_loss: 0.0658\n",
      "Epoch 22/50\n",
      "15008/15008 [==============================] - 55s 4ms/step - loss: 0.6674 - mse_loss: 0.5807 - conservation_loss: 0.0000e+00 - entropy_loss: 0.0867 - val_loss: 0.6200 - val_mse_loss: 0.5447 - val_conservation_loss: 0.0000e+00 - val_entropy_loss: 0.0753\n",
      "Epoch 23/50\n",
      "15008/15008 [==============================] - 55s 4ms/step - loss: 0.6605 - mse_loss: 0.5756 - conservation_loss: 0.0000e+00 - entropy_loss: 0.0849 - val_loss: 0.7051 - val_mse_loss: 0.6538 - val_conservation_loss: 0.0000e+00 - val_entropy_loss: 0.0513\n",
      "Epoch 24/50\n",
      "15008/15008 [==============================] - 55s 4ms/step - loss: 0.6549 - mse_loss: 0.5737 - conservation_loss: 0.0000e+00 - entropy_loss: 0.0812 - val_loss: 0.6036 - val_mse_loss: 0.5279 - val_conservation_loss: 0.0000e+00 - val_entropy_loss: 0.0757\n",
      "Epoch 25/50\n",
      "15008/15008 [==============================] - 55s 4ms/step - loss: 0.6489 - mse_loss: 0.5713 - conservation_loss: 0.0000e+00 - entropy_loss: 0.0776 - val_loss: 0.6464 - val_mse_loss: 0.5804 - val_conservation_loss: 0.0000e+00 - val_entropy_loss: 0.0660\n",
      "Epoch 26/50\n",
      "15008/15008 [==============================] - 55s 4ms/step - loss: 0.6446 - mse_loss: 0.5674 - conservation_loss: 0.0000e+00 - entropy_loss: 0.0771 - val_loss: 0.6520 - val_mse_loss: 0.5960 - val_conservation_loss: 0.0000e+00 - val_entropy_loss: 0.0560\n",
      "Epoch 27/50\n",
      "15008/15008 [==============================] - 55s 4ms/step - loss: 0.6389 - mse_loss: 0.5613 - conservation_loss: 0.0000e+00 - entropy_loss: 0.0776 - val_loss: 0.6866 - val_mse_loss: 0.6329 - val_conservation_loss: 0.0000e+00 - val_entropy_loss: 0.0537\n",
      "Epoch 28/50\n",
      "15008/15008 [==============================] - 55s 4ms/step - loss: 0.6384 - mse_loss: 0.5590 - conservation_loss: 0.0000e+00 - entropy_loss: 0.0794 - val_loss: 0.6509 - val_mse_loss: 0.5886 - val_conservation_loss: 0.0000e+00 - val_entropy_loss: 0.0623\n",
      "Epoch 29/50\n",
      "15008/15008 [==============================] - 55s 4ms/step - loss: 0.6284 - mse_loss: 0.5565 - conservation_loss: 0.0000e+00 - entropy_loss: 0.0719 - val_loss: 0.6567 - val_mse_loss: 0.5999 - val_conservation_loss: 0.0000e+00 - val_entropy_loss: 0.0567\n",
      "Epoch 30/50\n",
      "15008/15008 [==============================] - 55s 4ms/step - loss: 0.6350 - mse_loss: 0.5611 - conservation_loss: 0.0000e+00 - entropy_loss: 0.0739 - val_loss: 0.7291 - val_mse_loss: 0.6881 - val_conservation_loss: 0.0000e+00 - val_entropy_loss: 0.0410\n",
      "Epoch 31/50\n",
      "15008/15008 [==============================] - 55s 4ms/step - loss: 0.6434 - mse_loss: 0.5674 - conservation_loss: 0.0000e+00 - entropy_loss: 0.0760 - val_loss: 0.6579 - val_mse_loss: 0.6024 - val_conservation_loss: 0.0000e+00 - val_entropy_loss: 0.0555\n"
     ]
    },
    {
     "name": "stdout",
     "output_type": "stream",
     "text": [
      "Epoch 32/50\n",
      "15008/15008 [==============================] - 55s 4ms/step - loss: 0.6208 - mse_loss: 0.5523 - conservation_loss: 0.0000e+00 - entropy_loss: 0.0685 - val_loss: 0.7945 - val_mse_loss: 0.7603 - val_conservation_loss: 0.0000e+00 - val_entropy_loss: 0.0342\n",
      "Epoch 33/50\n",
      "15008/15008 [==============================] - 55s 4ms/step - loss: 0.6192 - mse_loss: 0.5514 - conservation_loss: 0.0000e+00 - entropy_loss: 0.0678 - val_loss: 0.6709 - val_mse_loss: 0.6294 - val_conservation_loss: 0.0000e+00 - val_entropy_loss: 0.0415\n",
      "Epoch 34/50\n",
      "15008/15008 [==============================] - 55s 4ms/step - loss: 0.6153 - mse_loss: 0.5469 - conservation_loss: 0.0000e+00 - entropy_loss: 0.0684 - val_loss: 0.6847 - val_mse_loss: 0.6406 - val_conservation_loss: 0.0000e+00 - val_entropy_loss: 0.0441\n",
      "Epoch 35/50\n",
      "15008/15008 [==============================] - 55s 4ms/step - loss: 0.6035 - mse_loss: 0.5368 - conservation_loss: 0.0000e+00 - entropy_loss: 0.0667 - val_loss: 0.6286 - val_mse_loss: 0.5563 - val_conservation_loss: 0.0000e+00 - val_entropy_loss: 0.0723\n",
      "Epoch 36/50\n",
      "15008/15008 [==============================] - 55s 4ms/step - loss: 0.5976 - mse_loss: 0.5314 - conservation_loss: 0.0000e+00 - entropy_loss: 0.0662 - val_loss: 0.6863 - val_mse_loss: 0.6279 - val_conservation_loss: 0.0000e+00 - val_entropy_loss: 0.0584\n",
      "Epoch 37/50\n",
      "15008/15008 [==============================] - 55s 4ms/step - loss: 0.6046 - mse_loss: 0.5404 - conservation_loss: 0.0000e+00 - entropy_loss: 0.0643 - val_loss: 0.6237 - val_mse_loss: 0.5646 - val_conservation_loss: 0.0000e+00 - val_entropy_loss: 0.0590\n",
      "Epoch 38/50\n",
      "15008/15008 [==============================] - 55s 4ms/step - loss: 0.5933 - mse_loss: 0.5294 - conservation_loss: 0.0000e+00 - entropy_loss: 0.0639 - val_loss: 0.6039 - val_mse_loss: 0.5469 - val_conservation_loss: 0.0000e+00 - val_entropy_loss: 0.0570\n",
      "Epoch 39/50\n",
      "15008/15008 [==============================] - 55s 4ms/step - loss: 0.6030 - mse_loss: 0.5390 - conservation_loss: 0.0000e+00 - entropy_loss: 0.0640 - val_loss: 0.6244 - val_mse_loss: 0.5410 - val_conservation_loss: 0.0000e+00 - val_entropy_loss: 0.0834\n",
      "Epoch 40/50\n",
      "15008/15008 [==============================] - 55s 4ms/step - loss: 0.6004 - mse_loss: 0.5342 - conservation_loss: 0.0000e+00 - entropy_loss: 0.0662 - val_loss: 0.6048 - val_mse_loss: 0.5494 - val_conservation_loss: 0.0000e+00 - val_entropy_loss: 0.0554\n",
      "Epoch 41/50\n",
      "15008/15008 [==============================] - 54s 4ms/step - loss: 0.5808 - mse_loss: 0.5161 - conservation_loss: 0.0000e+00 - entropy_loss: 0.0647 - val_loss: 0.6250 - val_mse_loss: 0.5693 - val_conservation_loss: 0.0000e+00 - val_entropy_loss: 0.0557\n",
      "Epoch 42/50\n",
      "15008/15008 [==============================] - 55s 4ms/step - loss: 0.5925 - mse_loss: 0.5285 - conservation_loss: 0.0000e+00 - entropy_loss: 0.0640 - val_loss: 0.6861 - val_mse_loss: 0.6483 - val_conservation_loss: 0.0000e+00 - val_entropy_loss: 0.0378\n",
      "Epoch 43/50\n",
      "15008/15008 [==============================] - 55s 4ms/step - loss: 0.5883 - mse_loss: 0.5252 - conservation_loss: 0.0000e+00 - entropy_loss: 0.0631 - val_loss: 0.5695 - val_mse_loss: 0.5132 - val_conservation_loss: 0.0000e+00 - val_entropy_loss: 0.0562\n",
      "Epoch 44/50\n",
      "15008/15008 [==============================] - 54s 4ms/step - loss: 0.5795 - mse_loss: 0.5182 - conservation_loss: 0.0000e+00 - entropy_loss: 0.0614 - val_loss: 0.6316 - val_mse_loss: 0.5890 - val_conservation_loss: 0.0000e+00 - val_entropy_loss: 0.0426\n",
      "Epoch 45/50\n",
      "15008/15008 [==============================] - 55s 4ms/step - loss: 0.5810 - mse_loss: 0.5177 - conservation_loss: 0.0000e+00 - entropy_loss: 0.0633 - val_loss: 0.5571 - val_mse_loss: 0.4899 - val_conservation_loss: 0.0000e+00 - val_entropy_loss: 0.0672\n",
      "Epoch 46/50\n",
      "15008/15008 [==============================] - 55s 4ms/step - loss: 0.5866 - mse_loss: 0.5241 - conservation_loss: 0.0000e+00 - entropy_loss: 0.0625 - val_loss: 0.6204 - val_mse_loss: 0.5681 - val_conservation_loss: 0.0000e+00 - val_entropy_loss: 0.0523\n",
      "Epoch 47/50\n",
      "15008/15008 [==============================] - 55s 4ms/step - loss: 0.5772 - mse_loss: 0.5146 - conservation_loss: 0.0000e+00 - entropy_loss: 0.0626 - val_loss: 0.6588 - val_mse_loss: 0.6221 - val_conservation_loss: 0.0000e+00 - val_entropy_loss: 0.0367\n",
      "Epoch 48/50\n",
      "15008/15008 [==============================] - 54s 4ms/step - loss: 0.5700 - mse_loss: 0.5115 - conservation_loss: 0.0000e+00 - entropy_loss: 0.0585 - val_loss: 0.6303 - val_mse_loss: 0.5766 - val_conservation_loss: 0.0000e+00 - val_entropy_loss: 0.0536\n",
      "Epoch 49/50\n",
      "15008/15008 [==============================] - 55s 4ms/step - loss: 0.5787 - mse_loss: 0.5173 - conservation_loss: 0.0000e+00 - entropy_loss: 0.0614 - val_loss: 0.6235 - val_mse_loss: 0.5757 - val_conservation_loss: 0.0000e+00 - val_entropy_loss: 0.0478\n",
      "Epoch 50/50\n",
      "15008/15008 [==============================] - 55s 4ms/step - loss: 0.5730 - mse_loss: 0.5147 - conservation_loss: 0.0000e+00 - entropy_loss: 0.0583 - val_loss: 0.6011 - val_mse_loss: 0.5440 - val_conservation_loss: 0.0000e+00 - val_entropy_loss: 0.0570\n"
     ]
    }
   ],
   "source": [
    "#Execute training procedure\n",
    "\n",
    "callbacks =[\n",
    "    EpochVariableCallback(anneal_coeff, _anneal_func)\n",
    "]\n",
    "\n",
    "s_train = np.zeros((x_train.shape[0], 1))\n",
    "s_test = np.zeros((x_test.shape[0], 1))\n",
    "\n",
    "all_ones_mask_train = np.ones((x_train.shape[0], 1, seq_length, 1))\n",
    "all_ones_mask_test = np.ones((x_test.shape[0], 1, seq_length, 1))\n",
    "\n",
    "# train the autoencoder\n",
    "train_history = loss_model.fit(\n",
    "    [s_train, x_train, all_ones_mask_train],\n",
    "    [s_train, s_train, s_train],\n",
    "    shuffle=True,\n",
    "    epochs=n_epochs,\n",
    "    batch_size=batch_size,\n",
    "    validation_data=(\n",
    "        [s_test, x_test, all_ones_mask_test],\n",
    "        [s_test, s_test, s_test]\n",
    "    ),\n",
    "    callbacks=callbacks\n",
    ")\n"
   ]
  },
  {
   "cell_type": "code",
   "execution_count": 20,
   "metadata": {
    "scrolled": true
   },
   "outputs": [
    {
     "data": {
      "image/png": "[encoded data removed]",
      "text/plain": [
       "<Figure size 864x216 with 3 Axes>"
      ]
     },
     "metadata": {},
     "output_type": "display_data"
    }
   ],
   "source": [
    "\n",
    "f, (ax1, ax2, ax3) = plt.subplots(1, 3, figsize=(3 * 4, 3))\n",
    "\n",
    "n_epochs_actual = len(train_history.history['mse_loss'])\n",
    "\n",
    "ax1.plot(np.arange(1, n_epochs_actual + 1), train_history.history['mse_loss'], linewidth=3, color='green')\n",
    "ax1.plot(np.arange(1, n_epochs_actual + 1), train_history.history['val_mse_loss'], linewidth=3, color='orange')\n",
    "\n",
    "plt.sca(ax1)\n",
    "plt.xlabel(\"Epochs\", fontsize=14)\n",
    "plt.ylabel(\"MSE\", fontsize=14)\n",
    "plt.xlim(1, n_epochs_actual)\n",
    "plt.xticks([1, n_epochs_actual], [1, n_epochs_actual], fontsize=12)\n",
    "plt.yticks(fontsize=12)\n",
    "\n",
    "ax2.plot(np.arange(1, n_epochs_actual + 1), train_history.history['entropy_loss'], linewidth=3, color='green')\n",
    "ax2.plot(np.arange(1, n_epochs_actual + 1), train_history.history['val_entropy_loss'], linewidth=3, color='orange')\n",
    "\n",
    "plt.sca(ax2)\n",
    "plt.xlabel(\"Epochs\", fontsize=14)\n",
    "plt.ylabel(\"Entropy Loss\", fontsize=14)\n",
    "plt.xlim(1, n_epochs_actual)\n",
    "plt.xticks([1, n_epochs_actual], [1, n_epochs_actual], fontsize=12)\n",
    "plt.yticks(fontsize=12)\n",
    "\n",
    "ax3.plot(np.arange(1, n_epochs_actual + 1), train_history.history['conservation_loss'], linewidth=3, color='green')\n",
    "ax3.plot(np.arange(1, n_epochs_actual + 1), train_history.history['val_conservation_loss'], linewidth=3, color='orange')\n",
    "\n",
    "plt.sca(ax3)\n",
    "plt.xlabel(\"Epochs\", fontsize=14)\n",
    "plt.ylabel(\"Conservation Loss\", fontsize=14)\n",
    "plt.xlim(1, n_epochs_actual)\n",
    "plt.xticks([1, n_epochs_actual], [1, n_epochs_actual], fontsize=12)\n",
    "plt.yticks(fontsize=12)\n",
    "\n",
    "plt.tight_layout()\n",
    "\n",
    "plt.show()\n"
   ]
  },
  {
   "cell_type": "code",
   "execution_count": 21,
   "metadata": {},
   "outputs": [
    {
     "name": "stdout",
     "output_type": "stream",
     "text": [
      "Saved scrambler model at saved_models/autoscrambler_dataset_egfp_unmod_1_sample_mode_gumbel_n_samples_32_resnet_5_4_32_3_00_00_to_015_n_epochs_50_target_bits_0125_example_if_uorf_seqs_drop_multi_scale_weight_10.h5 \n"
     ]
    }
   ],
   "source": [
    "# Save model and weights\n",
    "save_dir = 'saved_models'\n",
    "\n",
    "if not os.path.isdir(save_dir):\n",
    "    os.makedirs(save_dir)\n",
    "\n",
    "model_path = os.path.join(save_dir, model_name + '.h5')\n",
    "\n",
    "scrambler_model.save(model_path)\n",
    "print('Saved scrambler model at %s ' % (model_path))\n"
   ]
  },
  {
   "cell_type": "code",
   "execution_count": 19,
   "metadata": {},
   "outputs": [
    {
     "name": "stdout",
     "output_type": "stream",
     "text": [
      "Loaded scrambler model saved_models/autoscrambler_dataset_egfp_unmod_1_sample_mode_gumbel_n_samples_32_resnet_5_4_32_3_00_00_to_015_n_epochs_50_target_bits_0125_example_if_uorf_seqs_drop_multi_scale_weight_10.h5 \n"
     ]
    }
   ],
   "source": [
    "#Load models\n",
    "save_dir = 'saved_models'\n",
    "\n",
    "if not os.path.isdir(save_dir):\n",
    "    os.makedirs(save_dir)\n",
    "\n",
    "model_path = os.path.join(save_dir, model_name + '.h5')\n",
    "scrambler_model.load_weights(model_path)\n",
    "\n",
    "print('Loaded scrambler model %s ' % (model_path))\n"
   ]
  },
  {
   "cell_type": "code",
   "execution_count": 20,
   "metadata": {},
   "outputs": [],
   "source": [
    "\n",
    "def _drop_seq_to_mask(s) :\n",
    "    return np.reshape(\n",
    "        np.array([0. if s[i] == 'X' else 1. for i in range(len(s))]),\n",
    "        (1, 1, len(s), 1)\n",
    "    )\n",
    "\n",
    "\n",
    "drop_test = [\n",
    "    _drop_seq_to_mask(\"N\" * 50),\n",
    "    _drop_seq_to_mask(\"N\" * 41 + \"XXX\" + \"N\" * (50 - 3 - 41)),\n",
    "    _drop_seq_to_mask(\"N\" * 47 + \"XXX\" + \"N\" * (50 - 3 - 47)),\n",
    "    \n",
    "    _drop_seq_to_mask(\"N\" * 50),\n",
    "    _drop_seq_to_mask(\"N\" * 11 + \"XXX\" + \"N\" * (41 - 11 - 3) + \"XXX\" + \"N\" * (50 - 3 - 41)),\n",
    "    _drop_seq_to_mask(\"N\" * 17 + \"XXX\" + \"N\" * (47 - 17 - 3) + \"XXX\" + \"N\" * (50 - 3 - 47)),\n",
    "    _drop_seq_to_mask(\"N\" * 17 + \"XXX\" + \"N\" * (41 - 17 - 3) + \"XXX\" + \"N\" * (50 - 3 - 41)),\n",
    "    _drop_seq_to_mask(\"N\" * 11 + \"XXX\" + \"N\" * (47 - 11 - 3) + \"XXX\" + \"N\" * (50 - 3 - 47))\n",
    "]\n",
    "\n",
    "new_x_test = [\n",
    "    x_extra[1:2, ...],\n",
    "    x_extra[1:2, ...],\n",
    "    x_extra[1:2, ...],\n",
    "    \n",
    "    x_extra[2:3, ...],\n",
    "    x_extra[2:3, ...],\n",
    "    x_extra[2:3, ...],\n",
    "    x_extra[2:3, ...],\n",
    "    x_extra[2:3, ...]\n",
    "]\n",
    "\n",
    "drop_test = np.concatenate(drop_test, axis=0)\n",
    "new_x_test = np.concatenate(new_x_test, axis=0)\n"
   ]
  },
  {
   "cell_type": "code",
   "execution_count": 21,
   "metadata": {},
   "outputs": [
    {
     "name": "stdout",
     "output_type": "stream",
     "text": [
      "Predicting example 0...\n",
      "Predicting example 1...\n",
      "Predicting example 2...\n",
      "Predicting example 3...\n",
      "Predicting example 4...\n",
      "Predicting example 5...\n",
      "Predicting example 6...\n",
      "Predicting example 7...\n"
     ]
    }
   ],
   "source": [
    "#Execute training procedure\n",
    "\n",
    "s_test = np.zeros((batch_size, 1))\n",
    "\n",
    "pwm_test = []\n",
    "sample_test = []\n",
    "importance_scores_test = []\n",
    "\n",
    "for data_ix in range(new_x_test.shape[0]) :\n",
    "    \n",
    "    print(\"Predicting example \" + str(data_ix) + \"...\")\n",
    "    \n",
    "    _, temp_pwm, temp_sample, temp_importance_scores = scrambler_model.predict_on_batch(x=[\n",
    "        np.tile(new_x_test[data_ix:data_ix+1], (batch_size, 1, 1, 1)),\n",
    "        np.tile(drop_test[data_ix:data_ix+1], (batch_size, 1, 1, 1)),\n",
    "        s_test\n",
    "    ])\n",
    "    \n",
    "    pwm_test.append(temp_pwm[:1, :])\n",
    "    sample_test.append(temp_sample[:1, :])\n",
    "    importance_scores_test.append(temp_importance_scores[:1, :])\n",
    "\n",
    "pwm_test = np.concatenate(pwm_test, axis=0)\n",
    "sample_test = np.concatenate(sample_test, axis=0)\n",
    "importance_scores_test = np.concatenate(importance_scores_test, axis=0)\n"
   ]
  },
  {
   "cell_type": "code",
   "execution_count": 22,
   "metadata": {},
   "outputs": [
    {
     "name": "stdout",
     "output_type": "stream",
     "text": [
      "Test sequence 0:\n",
      " - Prediction (original) = -1.0\n",
      " - Predictions (scrambled) = [-0.7, -0.9, -1.5, -0.5, -1.5, -0.7, -1.1, -1.0, -0.9, -1.4]\n"
     ]
    },
    {
     "data": {
      "image/png": "[encoded data removed]",
      "text/plain": [
       "<Figure size 864x72 with 1 Axes>"
      ]
     },
     "metadata": {},
     "output_type": "display_data"
    },
    {
     "data": {
      "image/png": "[encoded data removed]",
      "text/plain": [
       "<Figure size 864x72 with 1 Axes>"
      ]
     },
     "metadata": {},
     "output_type": "display_data"
    },
    {
     "name": "stdout",
     "output_type": "stream",
     "text": [
      "Test sequence 1:\n",
      " - Prediction (original) = -1.0\n",
      " - Predictions (scrambled) = [-0.8, -1.1, -1.2, -0.6, -0.5, -0.5, -1.3, -1.3, -0.3, -0.7]\n"
     ]
    },
    {
     "data": {
      "image/png": "[encoded data removed]",
      "text/plain": [
       "<Figure size 864x72 with 1 Axes>"
      ]
     },
     "metadata": {},
     "output_type": "display_data"
    },
    {
     "data": {
      "image/png": "[encoded data removed]",
      "text/plain": [
       "<Figure size 864x72 with 1 Axes>"
      ]
     },
     "metadata": {},
     "output_type": "display_data"
    },
    {
     "name": "stdout",
     "output_type": "stream",
     "text": [
      "Test sequence 2:\n",
      " - Prediction (original) = -1.0\n",
      " - Predictions (scrambled) = [-1.2, -1.6, -1.2, -1.0, -1.1, -1.3, -1.2, -0.7, -1.0, -0.5]\n"
     ]
    },
    {
     "data": {
      "image/png": "[encoded data removed]",
      "text/plain": [
       "<Figure size 864x72 with 1 Axes>"
      ]
     },
     "metadata": {},
     "output_type": "display_data"
    },
    {
     "data": {
      "image/png": "[encoded data removed]",
      "text/plain": [
       "<Figure size 864x72 with 1 Axes>"
      ]
     },
     "metadata": {},
     "output_type": "display_data"
    },
    {
     "name": "stdout",
     "output_type": "stream",
     "text": [
      "Test sequence 3:\n",
      " - Prediction (original) = -0.9\n",
      " - Predictions (scrambled) = [-0.4, -0.5, -0.7, -0.0, -0.8, -0.7, -0.7, -0.0, -0.5, -0.1]\n"
     ]
    },
    {
     "data": {
      "image/png": "[encoded data removed]",
      "text/plain": [
       "<Figure size 864x72 with 1 Axes>"
      ]
     },
     "metadata": {},
     "output_type": "display_data"
    },
    {
     "data": {
      "image/png": "[encoded data removed]",
      "text/plain": [
       "<Figure size 864x72 with 1 Axes>"
      ]
     },
     "metadata": {},
     "output_type": "display_data"
    },
    {
     "name": "stdout",
     "output_type": "stream",
     "text": [
      "Test sequence 4:\n",
      " - Prediction (original) = -0.9\n",
      " - Predictions (scrambled) = [-0.4, -1.0, -0.3, -1.0, -1.0, -0.6, -0.6, -1.2, -1.6, 0.04]\n"
     ]
    },
    {
     "data": {
      "image/png": "[encoded data removed]",
      "text/plain": [
       "<Figure size 864x72 with 1 Axes>"
      ]
     },
     "metadata": {},
     "output_type": "display_data"
    },
    {
     "data": {
      "image/png": "[encoded data removed]",
      "text/plain": [
       "<Figure size 864x72 with 1 Axes>"
      ]
     },
     "metadata": {},
     "output_type": "display_data"
    },
    {
     "name": "stdout",
     "output_type": "stream",
     "text": [
      "Test sequence 5:\n",
      " - Prediction (original) = -0.9\n",
      " - Predictions (scrambled) = [-1.2, -1.2, -1.1, -1.2, -1.5, -1.4, -1.3, -0.7, -1.4, -0.9]\n"
     ]
    },
    {
     "data": {
      "image/png": "[encoded data removed]",
      "text/plain": [
       "<Figure size 864x72 with 1 Axes>"
      ]
     },
     "metadata": {},
     "output_type": "display_data"
    },
    {
     "data": {
      "image/png": "[encoded data removed]",
      "text/plain": [
       "<Figure size 864x72 with 1 Axes>"
      ]
     },
     "metadata": {},
     "output_type": "display_data"
    },
    {
     "name": "stdout",
     "output_type": "stream",
     "text": [
      "Test sequence 6:\n",
      " - Prediction (original) = -0.9\n",
      " - Predictions (scrambled) = [-1.5, -1.7, -1.1, -1.4, -1.2, -0.8, -0.7, -1.2, -1.3, -0.8]\n"
     ]
    },
    {
     "data": {
      "image/png": "[encoded data removed]",
      "text/plain": [
       "<Figure size 864x72 with 1 Axes>"
      ]
     },
     "metadata": {},
     "output_type": "display_data"
    },
    {
     "data": {
      "image/png": "[encoded data removed]",
      "text/plain": [
       "<Figure size 864x72 with 1 Axes>"
      ]
     },
     "metadata": {},
     "output_type": "display_data"
    },
    {
     "name": "stdout",
     "output_type": "stream",
     "text": [
      "Test sequence 7:\n",
      " - Prediction (original) = -0.9\n",
      " - Predictions (scrambled) = [-0.1, -1.0, -0.8, -0.6, -0.7, -0.3, -1.0, -0.8, -1.0, -0.6]\n"
     ]
    },
    {
     "data": {
      "image/png": "[encoded data removed]",
      "text/plain": [
       "<Figure size 864x72 with 1 Axes>"
      ]
     },
     "metadata": {},
     "output_type": "display_data"
    },
    {
     "data": {
      "image/png": "[encoded data removed]",
      "text/plain": [
       "<Figure size 864x72 with 1 Axes>"
      ]
     },
     "metadata": {},
     "output_type": "display_data"
    }
   ],
   "source": [
    "#Visualize a few reconstructed sequence patterns\n",
    "from sequence_logo_helper import plot_dna_logo\n",
    "\n",
    "save_figs = True\n",
    "fig_name = model_name[model_name.index(\"target_bits\"):] + \"_synthetic_examples\"\n",
    "\n",
    "for plot_i in range(0, new_x_test.shape[0]) :\n",
    "    \n",
    "    print(\"Test sequence \" + str(plot_i) + \":\")\n",
    "    \n",
    "    justPred = np.expand_dims(np.expand_dims(new_x_test[plot_i, 0, :, :], axis=0), axis=-1)\n",
    "    justPredReshape = np.reshape(justPred, (1,50,4))\n",
    "    \n",
    "    expanded = np.expand_dims(sample_test[plot_i, :, 0, :, :], axis=-1)\n",
    "    expandedReshape = np.reshape(expanded, (n_samples, 50,4))\n",
    "    \n",
    "    y_test_hat_ref = predictor.predict(x=justPredReshape, batch_size=1)[0][0]\n",
    "    y_test_hat = predictor.predict(x=[expandedReshape], batch_size=32)[:10, 0]\n",
    "    \n",
    "    print(\" - Prediction (original) = \" + str(round(y_test_hat_ref, 2))[:4])\n",
    "    print(\" - Predictions (scrambled) = \" + str([float(str(round(y_test_hat[i], 2))[:4]) for i in range(len(y_test_hat))]))\n",
    "    \n",
    "    plot_dna_logo(new_x_test[plot_i, 0, :, :], sequence_template=sequence_template, figsize=(12, 1), plot_start=0, plot_end=50, save_figs=save_figs, fig_name=fig_name + \"_\" + str(plot_i) + \"_orig_sequence\")\n",
    "    plot_dna_logo(pwm_test[plot_i, 0, :, :], sequence_template=sequence_template, figsize=(12, 1), plot_start=0, plot_end=50, save_figs=save_figs, fig_name=fig_name + \"_\" + str(plot_i) + \"_scrambled_pwm\")\n"
   ]
  },
  {
   "cell_type": "code",
   "execution_count": null,
   "metadata": {},
   "outputs": [],
   "source": []
  }
 ],
 "metadata": {
  "kernelspec": {
   "display_name": "Environment (conda_tensorflow_p36)",
   "language": "python",
   "name": "conda_tensorflow_p36"
  },
  "language_info": {
   "codemirror_mode": {
    "name": "ipython",
    "version": 3
   },
   "file_extension": ".py",
   "mimetype": "text/x-python",
   "name": "python",
   "nbconvert_exporter": "python",
   "pygments_lexer": "ipython3",
   "version": "3.6.5"
  }
 },
 "nbformat": 4,
 "nbformat_minor": 2
}

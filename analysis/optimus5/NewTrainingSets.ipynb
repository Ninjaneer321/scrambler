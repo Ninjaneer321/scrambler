{
 "cells": [
  {
   "cell_type": "code",
   "execution_count": 1,
   "metadata": {},
   "outputs": [],
   "source": [
    "#make new IF datasets for formula 1 autoscrambler training \n",
    "\n",
    "import pandas as pd\n",
    "import numpy as np\n",
    "import seaborn as sns\n",
    "import matplotlib.pyplot as plt"
   ]
  },
  {
   "cell_type": "code",
   "execution_count": 2,
   "metadata": {},
   "outputs": [],
   "source": [
    "#CODE FOR BREAKING UP TRAINING/TESTING DATASET\n",
    "#split up ORF functions \n",
    "#optimus 5' code to find inframe and out of frame uORFS\n",
    "def inframe_aug_vector(utr, kozak_len, exclude_inframe_stop, codon='ATG'):\n",
    "    #finds inframe augs \n",
    "    frame = 0-len(utr)%3\n",
    "    #print (frame)\n",
    "    cds = 'ATGGG'\n",
    "    #cds = ''\n",
    "    stops = ['TAA', 'TGA', 'TAG']\n",
    "    for i in range(0, len(utr) - 2):         \n",
    "        if frame == -1:\n",
    "            if utr[i:i+3] == codon:\n",
    "                if (i + len(cds) > len(utr)):\n",
    "                    cds_to_add = cds[:i + len(cds) - len(utr)]\n",
    "                    stop_info = find_stop(utr, i)\n",
    "                    return -1, utr[i-kozak_len:len(utr)+1] + cds_to_add, stop_info[0], stop_info[1], i\n",
    "                else:\n",
    "                    stop_info = find_stop(utr, i)\n",
    "                    return -1, utr[i-kozak_len:i + len(cds)], stop_info[0], stop_info[1], i\n",
    "\n",
    "            frame += 1\n",
    "            continue\n",
    "        \n",
    "        if frame == -2:\n",
    "            if utr[i:i+3] == codon:\n",
    "                if (i + len(cds) > len(utr)):\n",
    "                    cds_to_add = cds[:i + len(cds) - len(utr)]\n",
    "                    stop_info = find_stop(utr, i)\n",
    "                    return -2, utr[i-kozak_len:len(utr)+1] + cds_to_add, stop_info[0], stop_info[1], i\n",
    "                else:\n",
    "                    stop_info = find_stop(utr, i)\n",
    "                    return -2, utr[i-kozak_len:i + len(cds)], stop_info[0], stop_info[1], i\n",
    "            \n",
    "            frame += 1\n",
    "        \n",
    "        if frame == 0:\n",
    "            if utr[i:i+3] == codon:\n",
    "                if (i + len(cds) > len(utr)):\n",
    "                    cds_to_add = cds[:i + len(cds) - len(utr)]\n",
    "                    stop_info = find_stop(utr, i)\n",
    "                    return 0, utr[i-kozak_len:len(utr)+1] + cds_to_add, stop_info[0], stop_info[1], i\n",
    "                else:\n",
    "                    stop_info = find_stop(utr, i)\n",
    "                    return 0, utr[i-kozak_len:i + len(cds)], stop_info[0], stop_info[1], i                 \n",
    "            frame = -2\n",
    "            \n",
    "    # return the intended start codon if no uAUGs are found\n",
    "    uorf_len = 0\n",
    "    stop_index = 0\n",
    "    uaug_index = 0\n",
    "    return 3, utr[len(utr)-kozak_len:len(utr)+1] + cds, uorf_len, stop_index, uaug_index\n",
    "\n",
    "\n",
    "#split up ORF functions \n",
    "#optimus 5' code to find inframe and out of frame uORFS\n",
    "def inframe_stop(utr, kozak_len, exclude_inframe_stop, codon='ATG'):\n",
    "    #finds inframe augs \n",
    "    #print (\"total utr: \", utr)\n",
    "    #print (len(utr))\n",
    "    frame = 0-len(utr)%3\n",
    "    #print (\"starting frame: \", frame)\n",
    "    cds = 'ATGGG'\n",
    "    #cds = ''\n",
    "    if_stop_present = 0\n",
    "    out_stop_present = 0\n",
    "    stops = ['TAA', 'TGA', 'TAG']\n",
    "    for i in range(0, len(utr) - 2):\n",
    "        #print (\"i: \", i)\n",
    "        #print (\"codon: \", utr[i:i+3])\n",
    "        if utr[i:i+3] in stops and i != 9:\n",
    "            #print (\"FOUND A STOP\")\n",
    "            if frame == 0: #in frame, priority to find these. If one is found return it.\n",
    "                return \"IF Stop\" \n",
    "            else:\n",
    "                return \"OOF Stop\"\n",
    "        if frame == -1:\n",
    "            #print (\"frame is \", frame)\n",
    "            if utr[i:i+3] == codon:\n",
    "                #print (\"found a start! \")\n",
    "                if (i + len(cds) > len(utr)):\n",
    "                    cds_to_add = cds[:i + len(cds) - len(utr)]\n",
    "                    stop_info = find_stop(utr, i)\n",
    "                    #return -1, utr[i-kozak_len:len(utr)+1] + cds_to_add, stop_info[0], stop_info[1], i\n",
    "                else:\n",
    "                    stop_info = find_stop(utr, i)\n",
    "                    #return -1, utr[i-kozak_len:i + len(cds)], stop_info[0], stop_info[1], i\n",
    "\n",
    "            frame += 1\n",
    "            continue\n",
    "        \n",
    "        if frame == -2:\n",
    "            #print (\"frame is \", frame)\n",
    "            if utr[i:i+3] == codon:\n",
    "                #print (\"found a start! \")\n",
    "                if (i + len(cds) > len(utr)):\n",
    "                    cds_to_add = cds[:i + len(cds) - len(utr)]\n",
    "                    stop_info = find_stop(utr, i)\n",
    "                    #return -2, utr[i-kozak_len:len(utr)+1] + cds_to_add, stop_info[0], stop_info[1], i\n",
    "                else:\n",
    "                    stop_info = find_stop(utr, i)\n",
    "                    #return -2, utr[i-kozak_len:i + len(cds)], stop_info[0], stop_info[1], i\n",
    "            \n",
    "            frame += 1\n",
    "        \n",
    "        if frame == 0:\n",
    "            #print (\"frame is \", frame)\n",
    "            if utr[i:i+3] == codon:\n",
    "                if (i + len(cds) > len(utr)):\n",
    "                    cds_to_add = cds[:i + len(cds) - len(utr)]\n",
    "                    stop_info = find_stop(utr, i)\n",
    "                    #return 0, utr[i-kozak_len:len(utr)+1] + cds_to_add, stop_info[0], stop_info[1], i\n",
    "                else:\n",
    "                    stop_info = find_stop(utr, i)\n",
    "                    #return 0, utr[i-kozak_len:i + len(cds)], stop_info[0], stop_info[1], i                 \n",
    "            frame = -2\n",
    "        #input()\n",
    "    # return the intended start codon if no uAUGs are found\n",
    "    uorf_len = 0\n",
    "    stop_index = 0\n",
    "    uaug_index = 0\n",
    "    return \"No stop\"\n",
    "\n",
    "def find_stop(utr, inc_i):\n",
    "    codon_count = 0\n",
    "    #75 is the length of this UTR construct.\n",
    "    for i in range(inc_i, len(utr) - 2, 3):\n",
    "        codon_count += 1\n",
    "        if utr[i:i+3] == 'TAA':\n",
    "            return codon_count, i\n",
    "        if utr[i:i+3] == 'TGA':\n",
    "            return codon_count, i\n",
    "        if utr[i:i+3] == 'TAG':\n",
    "            return codon_count, i\n",
    "    return 0, 0\n",
    "\n",
    "def simple_label_uaug_status_combine_uorf(frame, uorf_len, codon='AUG'):\n",
    "    if frame == 3:\n",
    "        return 'None'\n",
    "    if frame == 0:\n",
    "        if uorf_len == 0:\n",
    "            return 'IF u' + codon\n",
    "        else:\n",
    "            return 'IF uORF'\n",
    "    if frame < 0:\n",
    "        if uorf_len == 0:\n",
    "            return 'OOF u' + codon\n",
    "        else:\n",
    "            return 'OOF uORF'\n",
    "\n",
    "def replaceNone(row):\n",
    "    if row['simple_uaug_status_text'] == \"None\":\n",
    "        return \"None\"\n",
    "    else:\n",
    "        return row['simple_uaug_status_text']\n",
    "        \n",
    "\n",
    "def makeLabelsInDF(df):\n",
    "    df['full_utr'] = 'GGGACATCGTAGAGAGTCGTACTTA' + df['utr']\n",
    "    df['tmp'] = df['full_utr'].apply(lambda x: inframe_aug_vector(x,5, False, codon='ATG'))\n",
    "    df['uaug_frame'] = df['tmp'].apply(lambda x: x[0])\n",
    "    df['kozak'] = df['tmp'].apply(lambda x: x[1])\n",
    "    df['uorf_length'] = df['tmp'].apply(lambda x: x[2])\n",
    "    df = df.reset_index(drop=True)\n",
    "    print (len(df))\n",
    "    df['stop'] = df['full_utr'].apply(lambda x: inframe_stop(x,5, False, codon='ATG'))\n",
    "    df['simple_uaug_status_text'] = df.apply(lambda x: simple_label_uaug_status_combine_uorf(x['uaug_frame'], x['uorf_length'], codon='AUG'), axis=1,)\n",
    "    df['-3'] = df['kozak'].str[2]\n",
    "    df['-3'] = df['-3'].apply(lambda x: x.replace('T','U'))\n",
    "    df['actual_simple_status'] = df.apply(replaceNone, axis = 1)\n",
    "    return df \n",
    "\n",
    "\n"
   ]
  },
  {
   "cell_type": "code",
   "execution_count": 3,
   "metadata": {},
   "outputs": [
    {
     "name": "stdout",
     "output_type": "stream",
     "text": [
      "280000\n"
     ]
    }
   ],
   "source": [
    "#create training, validation, and test samples from the dataset \n",
    "#load data MRL \n",
    "#############################################################\n",
    "df = pd.read_csv(\"../../../seqprop/examples/optimus5/GSM3130435_egfp_unmod_1.csv\")\n",
    "\n",
    "df.sort_values('total_reads', inplace=True, ascending=False)\n",
    "df.reset_index(inplace=True, drop=True)\n",
    "df = df.iloc[:280000]\n",
    "df = makeLabelsInDF(df)\n",
    "# The training set has 260k UTRs and the test set has 20k UTRs.\n",
    "e_test = df.iloc[:20000].copy().reset_index(drop = True)\n",
    "e_train = df.iloc[20000:].copy().reset_index(drop = True)\n",
    "\n",
    "#need IF stops "
   ]
  },
  {
   "cell_type": "code",
   "execution_count": 4,
   "metadata": {
    "scrolled": true
   },
   "outputs": [
    {
     "name": "stdout",
     "output_type": "stream",
     "text": [
      "ALL\n",
      "None        124338\n",
      "OOF uAUG     65784\n",
      "IF uAUG      35958\n",
      "OOF uORF     32273\n",
      "IF uORF      21647\n",
      "Name: simple_uaug_status_text, dtype: int64\n",
      "OOF Stop    95769\n",
      "IF Stop     22392\n",
      "No stop      6177\n",
      "Name: stop, dtype: int64\n",
      "TEST\n",
      "OOF uAUG    7891\n",
      "None        5813\n",
      "OOF uORF    2522\n",
      "IF uAUG     2082\n",
      "IF uORF     1692\n",
      "Name: simple_uaug_status_text, dtype: int64\n",
      "OOF Stop    4441\n",
      "IF Stop     1048\n",
      "No stop      324\n",
      "Name: stop, dtype: int64\n",
      "TRAIN\n",
      "None        118525\n",
      "OOF uAUG     57893\n",
      "IF uAUG      33876\n",
      "OOF uORF     29751\n",
      "IF uORF      19955\n",
      "Name: simple_uaug_status_text, dtype: int64\n",
      "OOF Stop    91328\n",
      "IF Stop     21344\n",
      "No stop      5853\n",
      "Name: stop, dtype: int64\n"
     ]
    }
   ],
   "source": [
    "print (\"ALL\")\n",
    "print (df.simple_uaug_status_text.value_counts())\n",
    "print (df[df.simple_uaug_status_text == \"None\"].stop.value_counts())\n",
    "#total in test\n",
    "print (\"TEST\")\n",
    "print (e_test.simple_uaug_status_text.value_counts())\n",
    "print (e_test[e_test.simple_uaug_status_text == \"None\"].stop.value_counts())\n",
    "#total in train\n",
    "print (\"TRAIN\")\n",
    "print (e_train.simple_uaug_status_text.value_counts())\n",
    "print (e_train[e_train.simple_uaug_status_text == \"None\"].stop.value_counts())"
   ]
  },
  {
   "cell_type": "code",
   "execution_count": 5,
   "metadata": {},
   "outputs": [
    {
     "name": "stdout",
     "output_type": "stream",
     "text": [
      "Number training IF stops:  10000\n",
      "Number training IF starts:  10000\n",
      "Number training IF uORFs:  10016\n",
      "(30016, 42)\n"
     ]
    },
    {
     "name": "stderr",
     "output_type": "stream",
     "text": [
      "/home/ubuntu/anaconda3/envs/tensorflow_p36/lib/python3.6/site-packages/scipy/stats/stats.py:1713: FutureWarning: Using a non-tuple sequence for multidimensional indexing is deprecated; use `arr[tuple(seq)]` instead of `arr[seq]`. In the future this will be interpreted as an array index, `arr[np.array(seq)]`, which will result either in an error or a different result.\n",
      "  return np.add.reduce(sorted[indexer] * weights, axis=axis) / sumval\n"
     ]
    },
    {
     "data": {
      "image/png": "[encoded data removed]",
      "text/plain": [
       "<Figure size 432x288 with 1 Axes>"
      ]
     },
     "metadata": {},
     "output_type": "display_data"
    }
   ],
   "source": [
    "#Method 1) Random Sampling \n",
    "#Will try 10K RS training set from IF start, IF stop, and IF uORF for training (30K set)\n",
    "ifStops = e_train[(e_train['simple_uaug_status_text'] == \"None\") & (e_train['stop'] == \"IF Stop\")].copy().reset_index(drop=True).sample(n=10000)\n",
    "print (\"Number training IF stops: \", ifStops.shape[0])\n",
    "ifStarts = e_train[(e_train['simple_uaug_status_text'] == \"IF uAUG\")].copy().reset_index(drop=True).sample(n=10000)\n",
    "print (\"Number training IF starts: \", ifStarts.shape[0])\n",
    "ifORFs = e_train[e_train['simple_uaug_status_text'] == 'IF uORF'].copy().reset_index(drop=True).sample(n=10016)\n",
    "print (\"Number training IF uORFs: \", ifORFs.shape[0])\n",
    "concat = pd.concat([ifStops, ifStarts, ifORFs])\n",
    "print (concat.shape)\n",
    "concat.to_csv(\"randomSampleTrainingAllIFtypes.csv\", )\n",
    "\n",
    "x = sns.violinplot(x = 'simple_uaug_status_text', y = 'rl', data = concat )\n"
   ]
  },
  {
   "cell_type": "code",
   "execution_count": 6,
   "metadata": {},
   "outputs": [
    {
     "name": "stdout",
     "output_type": "stream",
     "text": [
      "total if stops:  21344\n",
      "total if stops:  33876\n",
      "Number training IF starts:  33876\n",
      "total if stops:  19955\n",
      "(30016, 42)\n"
     ]
    },
    {
     "name": "stderr",
     "output_type": "stream",
     "text": [
      "/home/ubuntu/anaconda3/envs/tensorflow_p36/lib/python3.6/site-packages/scipy/stats/stats.py:1713: FutureWarning: Using a non-tuple sequence for multidimensional indexing is deprecated; use `arr[tuple(seq)]` instead of `arr[seq]`. In the future this will be interpreted as an array index, `arr[np.array(seq)]`, which will result either in an error or a different result.\n",
      "  return np.add.reduce(sorted[indexer] * weights, axis=axis) / sumval\n"
     ]
    },
    {
     "data": {
      "image/png": "[encoded data removed]",
      "text/plain": [
       "<Figure size 432x288 with 1 Axes>"
      ]
     },
     "metadata": {},
     "output_type": "display_data"
    }
   ],
   "source": [
    "#Method 2) Select top and bottoms of IF types   \n",
    "\n",
    "#Will try 10K RS training set from IF start, IF stop, and IF uORF for training (30K set)\n",
    "ifStops = e_train[(e_train['simple_uaug_status_text'] == \"None\") & (e_train['stop'] == \"IF Stop\")].copy().reset_index(drop=True)\n",
    "#sort if Stops, get bottom and top 5000\n",
    "ifStops = ifStops.sort_values('rl')\n",
    "print (\"total if stops: \",  ifStops.shape[0])\n",
    "bottomSetIFStops = ifStops.iloc[:5000]\n",
    "topSetIFStops = ifStops.iloc[-5000:]\n",
    "\n",
    "ifStarts = e_train[(e_train['simple_uaug_status_text'] == \"IF uAUG\")].copy().reset_index(drop=True)\n",
    "ifStarts = ifStarts.sort_values('rl')\n",
    "print (\"total if stops: \",  ifStarts.shape[0])\n",
    "bottomSetIFStarts = ifStarts.iloc[:5000]\n",
    "topSetIFStarts = ifStarts.iloc[-5000:]\n",
    "\n",
    "print (\"Number training IF starts: \", ifStarts.shape[0])\n",
    "ifORFs = e_train[e_train['simple_uaug_status_text'] == 'IF uORF'].copy().reset_index(drop=True)\n",
    "ifORFs = ifORFs.sort_values('rl')\n",
    "print (\"total if stops: \",  ifORFs.shape[0])\n",
    "bottomSetIFORFs = ifORFs.iloc[:5008]\n",
    "topSetIFORFs = ifORFs.iloc[-5008:]\n",
    "\n",
    "concat = pd.concat([bottomSetIFStops, topSetIFStops, bottomSetIFStarts, topSetIFStarts, bottomSetIFORFs, topSetIFORFs])\n",
    "print (concat.shape)\n",
    "\n",
    "concat.to_csv(\"extremesTrainingAllIFtypes.csv\")\n",
    "x = sns.violinplot(x = 'simple_uaug_status_text', y = 'rl', data = concat )\n"
   ]
  },
  {
   "cell_type": "code",
   "execution_count": 7,
   "metadata": {},
   "outputs": [
    {
     "name": "stdout",
     "output_type": "stream",
     "text": [
      "total if stops:  21344\n",
      "total if stops:  33876\n",
      "Number training IF starts:  33876\n",
      "total if stops:  19955\n",
      "(15008, 42)\n"
     ]
    },
    {
     "name": "stderr",
     "output_type": "stream",
     "text": [
      "/home/ubuntu/anaconda3/envs/tensorflow_p36/lib/python3.6/site-packages/scipy/stats/stats.py:1713: FutureWarning: Using a non-tuple sequence for multidimensional indexing is deprecated; use `arr[tuple(seq)]` instead of `arr[seq]`. In the future this will be interpreted as an array index, `arr[np.array(seq)]`, which will result either in an error or a different result.\n",
      "  return np.add.reduce(sorted[indexer] * weights, axis=axis) / sumval\n"
     ]
    },
    {
     "data": {
      "image/png": "[encoded data removed]",
      "text/plain": [
       "<Figure size 432x288 with 1 Axes>"
      ]
     },
     "metadata": {},
     "output_type": "display_data"
    }
   ],
   "source": [
    "#Method 2) Select top and bottoms of IF types   \n",
    "\n",
    "#Will try 10K RS training set from IF start, IF stop, and IF uORF for training (30K set)\n",
    "ifStops = e_train[(e_train['simple_uaug_status_text'] == \"None\") & (e_train['stop'] == \"IF Stop\")].copy().reset_index(drop=True)\n",
    "#sort if Stops, get bottom and top 5000\n",
    "ifStops = ifStops.sort_values('rl')\n",
    "#print (ifStops)\n",
    "print (\"total if stops: \",  ifStops.shape[0])\n",
    "#bottomSetIFStops = ifStops.iloc[:5000]\n",
    "topSetIFStops = ifStops.iloc[-5000:]\n",
    "\n",
    "ifStarts = e_train[(e_train['simple_uaug_status_text'] == \"IF uAUG\")].copy().reset_index(drop=True)\n",
    "ifStarts = ifStarts.sort_values('rl')\n",
    "print (\"total if stops: \",  ifStarts.shape[0])\n",
    "#bottomSetIFStarts = ifStarts.iloc[:5000]\n",
    "topSetIFStarts = ifStarts.iloc[-5000:]\n",
    "\n",
    "print (\"Number training IF starts: \", ifStarts.shape[0])\n",
    "ifORFs = e_train[e_train['simple_uaug_status_text'] == 'IF uORF'].copy().reset_index(drop=True)\n",
    "ifORFs = ifORFs.sort_values('rl')\n",
    "print (\"total if stops: \",  ifORFs.shape[0])\n",
    "bottomSetIFORFs = ifORFs.iloc[:5008]\n",
    "#topSetIFORFs = ifORFs.iloc[-5008:]\n",
    "\n",
    "concat = pd.concat([topSetIFStops, topSetIFStarts, bottomSetIFORFs])\n",
    "print (concat.shape)\n",
    "\n",
    "concat.to_csv(\"bottom5KIFuAUGTop5KIFuAUG.csv\")\n",
    "x = sns.violinplot(x = 'simple_uaug_status_text', y = 'rl', data = concat )\n"
   ]
  },
  {
   "cell_type": "code",
   "execution_count": 8,
   "metadata": {},
   "outputs": [
    {
     "name": "stdout",
     "output_type": "stream",
     "text": [
      "Number training IF stops:  1000\n",
      "Number training IF starts:  1000\n",
      "Number training IF uORFs:  1008\n",
      "(3008, 42)\n"
     ]
    }
   ],
   "source": [
    "#random sample test set from IF start, IF stop, IF uORF 3k\n",
    "ifStops = e_test[(e_test['simple_uaug_status_text'] == \"None\") & (e_test['stop'] == \"IF Stop\")].copy().reset_index(drop=True).sample(n=1000)\n",
    "print (\"Number training IF stops: \", ifStops.shape[0])\n",
    "ifStarts = e_test[(e_test['simple_uaug_status_text'] == \"IF uAUG\")].copy().reset_index(drop=True).sample(n=1000)\n",
    "print (\"Number training IF starts: \", ifStarts.shape[0])\n",
    "ifORFs = e_test[e_test['simple_uaug_status_text'] == 'IF uORF'].copy().reset_index(drop=True).sample(n=1008)\n",
    "print (\"Number training IF uORFs: \", ifORFs.shape[0])\n",
    "concat = pd.concat([ifStops, ifStarts, ifORFs])\n",
    "print (concat.shape)\n",
    "concat.to_csv(\"randomSampleTestingAllIFtypes.csv\", )"
   ]
  },
  {
   "cell_type": "code",
   "execution_count": 9,
   "metadata": {},
   "outputs": [
    {
     "name": "stdout",
     "output_type": "stream",
     "text": [
      "Number training IF starts:  16000\n",
      "Number training IF starts:  16000\n",
      "(32000, 42)\n"
     ]
    },
    {
     "name": "stderr",
     "output_type": "stream",
     "text": [
      "/home/ubuntu/anaconda3/envs/tensorflow_p36/lib/python3.6/site-packages/scipy/stats/stats.py:1713: FutureWarning: Using a non-tuple sequence for multidimensional indexing is deprecated; use `arr[tuple(seq)]` instead of `arr[seq]`. In the future this will be interpreted as an array index, `arr[np.array(seq)]`, which will result either in an error or a different result.\n",
      "  return np.add.reduce(sorted[indexer] * weights, axis=axis) / sumval\n"
     ]
    },
    {
     "data": {
      "image/png": "[encoded data removed]",
      "text/plain": [
       "<Figure size 432x288 with 1 Axes>"
      ]
     },
     "metadata": {},
     "output_type": "display_data"
    }
   ],
   "source": [
    "#upstream AUGs\n",
    "#Method 1) Random Sampling \n",
    "#Will try 15K RS \n",
    "ifStarts = e_train[(e_train['simple_uaug_status_text'] == \"IF uAUG\")].copy().reset_index(drop=True).sample(n=16000)\n",
    "print (\"Number training IF starts: \", ifStarts.shape[0])\n",
    "oofStarts = e_train[(e_train['simple_uaug_status_text'] == \"OOF uAUG\")].copy().reset_index(drop=True).sample(n=16000)\n",
    "print (\"Number training IF starts: \", oofStarts.shape[0])\n",
    "\n",
    "concat = pd.concat([oofStarts, ifStarts])\n",
    "print (concat.shape)\n",
    "concat.to_csv(\"randomSampleTrainingAllAUGtypes.csv\", )\n",
    "\n",
    "x = sns.violinplot(x = 'simple_uaug_status_text', y = 'rl', data = concat )"
   ]
  },
  {
   "cell_type": "code",
   "execution_count": 10,
   "metadata": {},
   "outputs": [
    {
     "name": "stdout",
     "output_type": "stream",
     "text": [
      "Number training IF starts:  33876\n",
      "Number training IF starts:  57893\n",
      "(32000, 42)\n"
     ]
    },
    {
     "name": "stderr",
     "output_type": "stream",
     "text": [
      "/home/ubuntu/anaconda3/envs/tensorflow_p36/lib/python3.6/site-packages/scipy/stats/stats.py:1713: FutureWarning: Using a non-tuple sequence for multidimensional indexing is deprecated; use `arr[tuple(seq)]` instead of `arr[seq]`. In the future this will be interpreted as an array index, `arr[np.array(seq)]`, which will result either in an error or a different result.\n",
      "  return np.add.reduce(sorted[indexer] * weights, axis=axis) / sumval\n"
     ]
    },
    {
     "data": {
      "image/png": "[encoded data removed]",
      "text/plain": [
       "<Figure size 432x288 with 1 Axes>"
      ]
     },
     "metadata": {},
     "output_type": "display_data"
    }
   ],
   "source": [
    "#upstream AUGs\n",
    "#Method 1) Top and bottoms \n",
    "#Will try 15K RS \n",
    "ifStarts = e_train[(e_train['simple_uaug_status_text'] == \"IF uAUG\")].copy().reset_index(drop=True)\n",
    "print (\"Number training IF starts: \", ifStarts.shape[0])\n",
    "ifStarts = ifStarts.sort_values('rl')\n",
    "bottomSetIFStarts = ifStarts.iloc[:8000]\n",
    "topSetIFStarts = ifStarts.iloc[-8000:]\n",
    "\n",
    "\n",
    "oofStarts = e_train[(e_train['simple_uaug_status_text'] == \"OOF uAUG\")].copy().reset_index(drop=True)\n",
    "print (\"Number training IF starts: \", oofStarts.shape[0])\n",
    "oofStarts = oofStarts.sort_values('rl')\n",
    "bottomSetOOFStarts = oofStarts.iloc[:8000]\n",
    "topSetOOFStarts = oofStarts.iloc[-8000:]\n",
    "\n",
    "concat = pd.concat([bottomSetIFStarts, topSetIFStarts, bottomSetOOFStarts, topSetOOFStarts])\n",
    "print (concat.shape)\n",
    "concat.to_csv(\"topAndBottomTrainingAllAUGtypes.csv\", )\n",
    "\n",
    "x = sns.violinplot(x = 'simple_uaug_status_text', y = 'rl', data = concat )"
   ]
  },
  {
   "cell_type": "code",
   "execution_count": 11,
   "metadata": {},
   "outputs": [
    {
     "name": "stdout",
     "output_type": "stream",
     "text": [
      "Number training IF starts:  1600\n",
      "Number training IF starts:  1600\n",
      "(3200, 42)\n"
     ]
    },
    {
     "name": "stderr",
     "output_type": "stream",
     "text": [
      "/home/ubuntu/anaconda3/envs/tensorflow_p36/lib/python3.6/site-packages/scipy/stats/stats.py:1713: FutureWarning: Using a non-tuple sequence for multidimensional indexing is deprecated; use `arr[tuple(seq)]` instead of `arr[seq]`. In the future this will be interpreted as an array index, `arr[np.array(seq)]`, which will result either in an error or a different result.\n",
      "  return np.add.reduce(sorted[indexer] * weights, axis=axis) / sumval\n"
     ]
    },
    {
     "data": {
      "image/png": "[encoded data removed]",
      "text/plain": [
       "<Figure size 432x288 with 1 Axes>"
      ]
     },
     "metadata": {},
     "output_type": "display_data"
    }
   ],
   "source": [
    "#upstream AUGs\n",
    "#Method 1) Random Sampling \n",
    "#Will try 15K RS \n",
    "ifStarts = e_test[(e_test['simple_uaug_status_text'] == \"IF uAUG\")].copy().reset_index(drop=True).sample(n=1600)\n",
    "print (\"Number training IF starts: \", ifStarts.shape[0])\n",
    "oofStarts = e_test[(e_test['simple_uaug_status_text'] == \"OOF uAUG\")].copy().reset_index(drop=True).sample(n=1600)\n",
    "print (\"Number training IF starts: \", oofStarts.shape[0])\n",
    "\n",
    "concat = pd.concat([oofStarts, ifStarts])\n",
    "print (concat.shape)\n",
    "concat.to_csv(\"randomSampleTestingAllAUGtypes.csv\", )\n",
    "\n",
    "x = sns.violinplot(x = 'simple_uaug_status_text', y = 'rl', data = concat )"
   ]
  },
  {
   "cell_type": "code",
   "execution_count": null,
   "metadata": {},
   "outputs": [],
   "source": []
  }
 ],
 "metadata": {
  "kernelspec": {
   "display_name": "Environment (conda_tensorflow_p36)",
   "language": "python",
   "name": "conda_tensorflow_p36"
  },
  "language_info": {
   "codemirror_mode": {
    "name": "ipython",
    "version": 3
   },
   "file_extension": ".py",
   "mimetype": "text/x-python",
   "name": "python",
   "nbconvert_exporter": "python",
   "pygments_lexer": "ipython3",
   "version": "3.6.5"
  }
 },
 "nbformat": 4,
 "nbformat_minor": 2
}

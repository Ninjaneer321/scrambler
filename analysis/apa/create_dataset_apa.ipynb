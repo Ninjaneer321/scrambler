{
 "cells": [
  {
   "cell_type": "code",
   "execution_count": 2,
   "metadata": {},
   "outputs": [
    {
     "name": "stderr",
     "output_type": "stream",
     "text": [
      "Using TensorFlow backend.\n"
     ]
    }
   ],
   "source": [
    "import pandas as pd\n",
    "\n",
    "import os\n",
    "import pickle\n",
    "import numpy as np\n",
    "\n",
    "import scipy.sparse as sp\n",
    "import scipy.io as spio\n",
    "\n",
    "import matplotlib.pyplot as plt\n",
    "\n",
    "import isolearn.io as isoio\n",
    "import isolearn.keras as isol\n"
   ]
  },
  {
   "cell_type": "code",
   "execution_count": 105,
   "metadata": {},
   "outputs": [
    {
     "name": "stdout",
     "output_type": "stream",
     "text": [
      "len(plasmid_df) = 3818077\n"
     ]
    }
   ],
   "source": [
    "\n",
    "#Load APA plasmid data (random mpra)\n",
    "file_path = '../../../../aparent/data/apa_plasmid_data/apa_plasmid_data'\n",
    "\n",
    "plasmid_dict = isoio.load(file_path)\n",
    "\n",
    "plasmid_df = plasmid_dict['plasmid_df']\n",
    "plasmid_cuts = plasmid_dict['plasmid_cuts']\n",
    "\n",
    "print(\"len(plasmid_df) = \" + str(len(plasmid_df)))\n"
   ]
  },
  {
   "cell_type": "code",
   "execution_count": 106,
   "metadata": {},
   "outputs": [],
   "source": [
    "\n",
    "prox_c = np.ravel(plasmid_cuts[:, 180+70+6:180+70+6+35].sum(axis=-1))\n",
    "total_c = np.ravel(plasmid_cuts[:, 180:180+205].sum(axis=-1)) + np.ravel(plasmid_cuts[:, -1].todense())\n",
    "\n",
    "plasmid_df['proximal_count_from_cuts'] = prox_c\n",
    "plasmid_df['total_count_from_cuts'] = total_c\n"
   ]
  },
  {
   "cell_type": "code",
   "execution_count": 109,
   "metadata": {},
   "outputs": [
    {
     "name": "stdout",
     "output_type": "stream",
     "text": [
      "len(plasmid_df_pos) = 11033 (filtered)\n"
     ]
    }
   ],
   "source": [
    "#Filter data (positive set)\n",
    "kept_libraries = [20]\n",
    "\n",
    "min_count = 10\n",
    "min_usage = 0.80\n",
    "\n",
    "plasmid_df_pos = plasmid_df.copy()\n",
    "\n",
    "keep_index = np.nonzero(plasmid_df_pos.sublibrary.isin([\"doubledope_5prime_0\"]))[0]\n",
    "plasmid_df_pos = plasmid_df_pos.iloc[keep_index].copy()\n",
    "\n",
    "if kept_libraries is not None :\n",
    "    keep_index = np.nonzero(plasmid_df_pos.library_index.isin(kept_libraries))[0]\n",
    "    plasmid_df_pos = plasmid_df_pos.iloc[keep_index].copy()\n",
    "\n",
    "keep_index = np.nonzero(plasmid_df_pos.seq.str.slice(70, 76).isin(['ATTAAA', 'AATAAA']))[0]\n",
    "plasmid_df_pos = plasmid_df_pos.iloc[keep_index].copy()\n",
    "\n",
    "keep_index = np.nonzero(~plasmid_df_pos.seq.str.slice(155, 161).isin(['ATTAAA', 'AATAAA', 'AGTAAA', 'ACTAAA']))[0]\n",
    "plasmid_df_pos = plasmid_df_pos.iloc[keep_index].copy()\n",
    "\n",
    "if min_count is not None :\n",
    "    keep_index = np.nonzero(plasmid_df_pos.total_count_from_cuts >= min_count)[0]\n",
    "    plasmid_df_pos = plasmid_df_pos.iloc[keep_index].copy()\n",
    "\n",
    "if min_usage is not None :\n",
    "    keep_index = np.nonzero(plasmid_df_pos.proximal_count_from_cuts / plasmid_df_pos.total_count_from_cuts >= min_usage)[0]\n",
    "    plasmid_df_pos = plasmid_df_pos.iloc[keep_index].copy()\n",
    "\n",
    "print(\"len(plasmid_df_pos) = \" + str(len(plasmid_df_pos)) + \" (filtered)\")"
   ]
  },
  {
   "cell_type": "code",
   "execution_count": 114,
   "metadata": {},
   "outputs": [
    {
     "name": "stdout",
     "output_type": "stream",
     "text": [
      "len(plasmid_df_neg) = 23715 (filtered)\n"
     ]
    }
   ],
   "source": [
    "#Filter data (negative set)\n",
    "kept_libraries = [20]\n",
    "\n",
    "min_count = 4\n",
    "max_usage = 0.20\n",
    "\n",
    "plasmid_df_neg = plasmid_df.copy()\n",
    "\n",
    "keep_index = np.nonzero(plasmid_df_neg.sublibrary.isin([\"doubledope_5prime_0\"]))[0]\n",
    "plasmid_df_neg = plasmid_df_neg.iloc[keep_index].copy()\n",
    "\n",
    "if kept_libraries is not None :\n",
    "    keep_index = np.nonzero(plasmid_df_neg.library_index.isin(kept_libraries))[0]\n",
    "    plasmid_df_neg = plasmid_df_neg.iloc[keep_index].copy()\n",
    "\n",
    "keep_index = np.nonzero(plasmid_df_neg.seq.str.slice(70, 76).isin(['ATTAAA', 'AATAAA']))[0]\n",
    "plasmid_df_neg = plasmid_df_neg.iloc[keep_index].copy()\n",
    "\n",
    "keep_index = np.nonzero(~plasmid_df_neg.seq.str.slice(155, 161).isin(['ATTAAA', 'AATAAA', 'AGTAAA', 'ACTAAA']))[0]\n",
    "plasmid_df_neg = plasmid_df_neg.iloc[keep_index].copy()\n",
    "\n",
    "if min_count is not None :\n",
    "    keep_index = np.nonzero(plasmid_df_neg.total_count_from_cuts >= min_count)[0]\n",
    "    plasmid_df_neg = plasmid_df_neg.iloc[keep_index].copy()\n",
    "\n",
    "if max_usage is not None :\n",
    "    keep_index = np.nonzero(plasmid_df_neg.proximal_count_from_cuts / plasmid_df_neg.total_count_from_cuts <= max_usage)[0]\n",
    "    plasmid_df_neg = plasmid_df_neg.iloc[keep_index].copy()\n",
    "\n",
    "print(\"len(plasmid_df_neg) = \" + str(len(plasmid_df_neg)) + \" (filtered)\")"
   ]
  },
  {
   "cell_type": "code",
   "execution_count": 115,
   "metadata": {},
   "outputs": [],
   "source": [
    "\n",
    "data_df = pd.concat([plasmid_df_pos, plasmid_df_neg]).copy().reset_index(drop=True)\n",
    "\n",
    "shuffle_index = np.arange(len(data_df))\n",
    "np.random.shuffle(shuffle_index)\n",
    "\n",
    "data_df = data_df.iloc[shuffle_index].copy().reset_index(drop=True)\n",
    "\n",
    "data_df['proximal_usage'] = data_df.proximal_count_from_cuts / data_df.total_count_from_cuts\n"
   ]
  },
  {
   "cell_type": "code",
   "execution_count": 116,
   "metadata": {
    "scrolled": true
   },
   "outputs": [
    {
     "data": {
      "text/plain": [
       "<matplotlib.axes._subplots.AxesSubplot at 0x7f964cd20208>"
      ]
     },
     "execution_count": 116,
     "metadata": {},
     "output_type": "execute_result"
    },
    {
     "data": {
      "image/png": "[encoded data removed]",
      "text/plain": [
       "<Figure size 432x288 with 1 Axes>"
      ]
     },
     "metadata": {},
     "output_type": "display_data"
    }
   ],
   "source": [
    "data_df['proximal_usage'].hist(bins=50)"
   ]
  },
  {
   "cell_type": "code",
   "execution_count": null,
   "metadata": {},
   "outputs": [],
   "source": [
    "#Store cached filtered dataframe\n",
    "\n",
    "pickle.dump({'data_df' : data_df}, open('apa_doubledope_cached_set.pickle', 'wb'))\n",
    "\n",
    "data_df[['padded_seq', 'proximal_usage']].to_csv('apa_doubledope_cached_set.csv', sep='\\t', index=False)\n"
   ]
  },
  {
   "cell_type": "code",
   "execution_count": null,
   "metadata": {},
   "outputs": [],
   "source": []
  }
 ],
 "metadata": {
  "kernelspec": {
   "display_name": "Environment (conda_tensorflow_p36)",
   "language": "python",
   "name": "conda_tensorflow_p36"
  },
  "language_info": {
   "codemirror_mode": {
    "name": "ipython",
    "version": 3
   },
   "file_extension": ".py",
   "mimetype": "text/x-python",
   "name": "python",
   "nbconvert_exporter": "python",
   "pygments_lexer": "ipython3",
   "version": "3.6.5"
  }
 },
 "nbformat": 4,
 "nbformat_minor": 2
}

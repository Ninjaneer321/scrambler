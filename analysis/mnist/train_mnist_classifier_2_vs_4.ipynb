{
 "cells": [
  {
   "cell_type": "code",
   "execution_count": 1,
   "metadata": {},
   "outputs": [
    {
     "name": "stderr",
     "output_type": "stream",
     "text": [
      "Using TensorFlow backend.\n"
     ]
    }
   ],
   "source": [
    "from __future__ import print_function\n",
    "import keras\n",
    "from keras.datasets import mnist\n",
    "from keras.models import Sequential, Model\n",
    "from keras.layers import Dense, Dropout, Flatten\n",
    "from keras.layers import Conv2D, MaxPooling2D\n",
    "from keras import backend as K\n",
    "\n",
    "import numpy as np\n",
    "import scipy\n",
    "import scipy.sparse as sp\n",
    "\n",
    "import matplotlib.pyplot as plt\n",
    "\n",
    "import os\n"
   ]
  },
  {
   "cell_type": "code",
   "execution_count": 2,
   "metadata": {},
   "outputs": [
    {
     "name": "stdout",
     "output_type": "stream",
     "text": [
      "x_train.shape = (11800, 28, 28, 1)\n",
      "n train samples = 11800\n",
      "n test samples = 2014\n"
     ]
    }
   ],
   "source": [
    "#Load MNIST data\n",
    "\n",
    "dataset_name = \"mnist_2_vs_4\"\n",
    "\n",
    "img_rows, img_cols = 28, 28\n",
    "\n",
    "num_classes = 10\n",
    "batch_size = 32\n",
    "\n",
    "included_classes = [ 2, 4 ]\n",
    "\n",
    "(x_train, y_train), (x_test, y_test) = mnist.load_data()\n",
    "\n",
    "keep_index_train = []\n",
    "for i in range(y_train.shape[0]) :\n",
    "    if y_train[i] in included_classes :\n",
    "        keep_index_train.append(i)\n",
    "\n",
    "keep_index_test = []\n",
    "for i in range(y_test.shape[0]) :\n",
    "    if y_test[i] in included_classes :\n",
    "        keep_index_test.append(i)\n",
    "\n",
    "x_train = x_train[keep_index_train]\n",
    "x_test = x_test[keep_index_test]\n",
    "y_train = y_train[keep_index_train]\n",
    "y_test = y_test[keep_index_test]\n",
    "\n",
    "x_train = x_train.reshape(x_train.shape[0], img_rows, img_cols, 1)\n",
    "x_test = x_test.reshape(x_test.shape[0], img_rows, img_cols, 1)\n",
    "\n",
    "input_shape = (img_rows, img_cols, 1)\n",
    "\n",
    "x_train = x_train.astype('float32')\n",
    "x_test = x_test.astype('float32')\n",
    "x_train /= 255\n",
    "x_test /= 255\n",
    "\n",
    "print(\"x_train.shape = \" + str(x_train.shape))\n",
    "\n",
    "print(\"n train samples = \" + str(x_train.shape[0]))\n",
    "print(\"n test samples = \" + str(x_test.shape[0]))\n",
    "\n",
    "y_train = keras.utils.to_categorical(y_train, num_classes)\n",
    "y_test = keras.utils.to_categorical(y_test, num_classes)\n"
   ]
  },
  {
   "cell_type": "code",
   "execution_count": 3,
   "metadata": {},
   "outputs": [],
   "source": [
    "#Make binary labels\n",
    "\n",
    "digit_train = np.argmax(y_train, axis=-1)\n",
    "digit_test = np.argmax(y_test, axis=-1)\n",
    "\n",
    "y_train = np.zeros((digit_train.shape[0], 1))\n",
    "y_train[digit_train == included_classes[0], 0] = 0\n",
    "y_train[digit_train == included_classes[1], 0] = 1\n",
    "\n",
    "y_test = np.zeros((digit_test.shape[0], 1))\n",
    "y_test[digit_test == included_classes[0], 0] = 0\n",
    "y_test[digit_test == included_classes[1], 0] = 1\n"
   ]
  },
  {
   "cell_type": "code",
   "execution_count": 4,
   "metadata": {},
   "outputs": [
    {
     "data": {
      "image/png": "[encoded data removed]",
      "text/plain": [
       "<Figure size 288x288 with 1 Axes>"
      ]
     },
     "metadata": {},
     "output_type": "display_data"
    }
   ],
   "source": [
    "#Plot an example image\n",
    "\n",
    "f = plt.figure(figsize=(4, 4))\n",
    "\n",
    "plot_ix = 0\n",
    "\n",
    "plt.imshow(x_train[plot_ix, :, :, 0], cmap=\"Greys\", vmin=0.0, vmax=1.0, aspect='equal')\n",
    "\n",
    "plt.xticks([], [])\n",
    "plt.yticks([], [])\n",
    "\n",
    "plt.title(\"Digit \" + str(int(np.argmax(y_train[plot_ix]))) + \" (Original)\", fontsize=14)\n",
    "\n",
    "plt.tight_layout()\n",
    "plt.show()\n"
   ]
  },
  {
   "cell_type": "code",
   "execution_count": 5,
   "metadata": {},
   "outputs": [],
   "source": [
    "#Binarize images\n",
    "\n",
    "def _binarize_images(x, val_thresh=0.5) :\n",
    "    \n",
    "    x_bin = np.zeros(x.shape)\n",
    "    x_bin[x >= val_thresh] = 1.\n",
    "    \n",
    "    return x_bin\n",
    "\n",
    "x_bin_train = _binarize_images(x_train, val_thresh=0.5)\n",
    "x_bin_test = _binarize_images(x_test, val_thresh=0.5)\n"
   ]
  },
  {
   "cell_type": "code",
   "execution_count": 6,
   "metadata": {},
   "outputs": [
    {
     "data": {
      "image/png": "[encoded data removed]",
      "text/plain": [
       "<Figure size 288x288 with 1 Axes>"
      ]
     },
     "metadata": {},
     "output_type": "display_data"
    }
   ],
   "source": [
    "#Plot an example binarized image\n",
    "\n",
    "f = plt.figure(figsize=(4, 4))\n",
    "\n",
    "plot_ix = 0\n",
    "\n",
    "plt.imshow(x_bin_train[plot_ix, :, :, 0], cmap=\"Greys\", vmin=0.0, vmax=1.0, aspect='equal')\n",
    "\n",
    "plt.xticks([], [])\n",
    "plt.yticks([], [])\n",
    "\n",
    "plt.title(\"Digit \" + str(int(np.argmax(y_train[plot_ix]))) + \" (Original)\", fontsize=14)\n",
    "\n",
    "plt.tight_layout()\n",
    "plt.show()\n"
   ]
  },
  {
   "cell_type": "code",
   "execution_count": 7,
   "metadata": {},
   "outputs": [
    {
     "name": "stdout",
     "output_type": "stream",
     "text": [
      "WARNING:tensorflow:From /home/ubuntu/anaconda3/envs/tensorflow_p36/lib/python3.6/site-packages/tensorflow/python/framework/op_def_library.py:263: colocate_with (from tensorflow.python.framework.ops) is deprecated and will be removed in a future version.\n",
      "Instructions for updating:\n",
      "Colocations handled automatically by placer.\n",
      "WARNING:tensorflow:From /home/ubuntu/anaconda3/envs/tensorflow_p36/lib/python3.6/site-packages/keras/backend/tensorflow_backend.py:3445: calling dropout (from tensorflow.python.ops.nn_ops) with keep_prob is deprecated and will be removed in a future version.\n",
      "Instructions for updating:\n",
      "Please use `rate` instead of `keep_prob`. Rate should be set to `rate = 1 - keep_prob`.\n",
      "WARNING:tensorflow:From /home/ubuntu/anaconda3/envs/tensorflow_p36/lib/python3.6/site-packages/tensorflow/python/ops/math_ops.py:3066: to_int32 (from tensorflow.python.ops.math_ops) is deprecated and will be removed in a future version.\n",
      "Instructions for updating:\n",
      "Use tf.cast instead.\n",
      "Train on 11800 samples, validate on 2014 samples\n",
      "Epoch 1/12\n",
      "11800/11800 [==============================] - 5s 462us/step - loss: 0.0605 - acc: 0.9798 - val_loss: 0.0220 - val_acc: 0.9926\n",
      "Epoch 2/12\n",
      "11800/11800 [==============================] - 3s 271us/step - loss: 0.0133 - acc: 0.9962 - val_loss: 0.0119 - val_acc: 0.9955\n",
      "Epoch 3/12\n",
      "11800/11800 [==============================] - 3s 270us/step - loss: 0.0089 - acc: 0.9972 - val_loss: 0.0071 - val_acc: 0.9975\n",
      "Epoch 4/12\n",
      "11800/11800 [==============================] - 3s 271us/step - loss: 0.0063 - acc: 0.9981 - val_loss: 0.0067 - val_acc: 0.9970\n",
      "Epoch 5/12\n",
      "11800/11800 [==============================] - 3s 271us/step - loss: 0.0062 - acc: 0.9981 - val_loss: 0.0059 - val_acc: 0.9975\n",
      "Epoch 6/12\n",
      "11800/11800 [==============================] - 3s 266us/step - loss: 0.0061 - acc: 0.9988 - val_loss: 0.0053 - val_acc: 0.9985\n",
      "Epoch 7/12\n",
      "11800/11800 [==============================] - 3s 262us/step - loss: 0.0056 - acc: 0.9985 - val_loss: 0.0061 - val_acc: 0.9990\n",
      "Epoch 8/12\n",
      "11800/11800 [==============================] - 3s 262us/step - loss: 0.0041 - acc: 0.9990 - val_loss: 0.0050 - val_acc: 0.9985\n",
      "Epoch 9/12\n",
      "11800/11800 [==============================] - 3s 262us/step - loss: 0.0037 - acc: 0.9992 - val_loss: 0.0046 - val_acc: 0.9975\n",
      "Epoch 10/12\n",
      "11800/11800 [==============================] - 3s 261us/step - loss: 0.0029 - acc: 0.9992 - val_loss: 0.0030 - val_acc: 0.9990\n",
      "Epoch 11/12\n",
      "11800/11800 [==============================] - 3s 262us/step - loss: 0.0030 - acc: 0.9991 - val_loss: 0.0083 - val_acc: 0.9980\n",
      "Epoch 12/12\n",
      "11800/11800 [==============================] - 3s 262us/step - loss: 0.0029 - acc: 0.9992 - val_loss: 0.0035 - val_acc: 0.9975\n",
      "Test loss: 0.003450674167696353\n",
      "Test accuracy: 0.9975173783515392\n"
     ]
    }
   ],
   "source": [
    "\n",
    "batch_size = 32\n",
    "epochs = 12\n",
    "\n",
    "model = Sequential()\n",
    "\n",
    "model.add(Conv2D(32, kernel_size=(3, 3), activation='relu', input_shape=input_shape))\n",
    "model.add(Conv2D(64, (3, 3), activation='relu'))\n",
    "model.add(MaxPooling2D(pool_size=(2, 2)))\n",
    "model.add(Dropout(0.25))\n",
    "model.add(Flatten())\n",
    "model.add(Dense(64, activation='relu'))\n",
    "model.add(Dropout(0.5))\n",
    "model.add(Dense(1, activation='sigmoid'))\n",
    "\n",
    "model.compile(\n",
    "    loss=keras.losses.binary_crossentropy,\n",
    "    optimizer=keras.optimizers.Adadelta(),\n",
    "    metrics=['accuracy']\n",
    ")\n",
    "\n",
    "train_history = model.fit(x_train, y_train,\n",
    "          batch_size=batch_size,\n",
    "          epochs=epochs,\n",
    "          verbose=1,\n",
    "          validation_data=(x_test, y_test)\n",
    ")\n",
    "\n",
    "score = model.evaluate(x_test, y_test, verbose=0)\n",
    "print('Test loss:', score[0])\n",
    "print('Test accuracy:', score[1])\n"
   ]
  },
  {
   "cell_type": "code",
   "execution_count": 8,
   "metadata": {},
   "outputs": [
    {
     "data": {
      "image/png": "[encoded data removed]",
      "text/plain": [
       "<Figure size 360x288 with 1 Axes>"
      ]
     },
     "metadata": {},
     "output_type": "display_data"
    }
   ],
   "source": [
    "\n",
    "f = plt.figure(figsize=(5, 4))\n",
    "\n",
    "n_epochs_actual = len(train_history.history['loss'])\n",
    "\n",
    "plt.plot(np.arange(1, n_epochs_actual + 1), train_history.history['loss'], linewidth=3, color='green')\n",
    "plt.plot(np.arange(1, n_epochs_actual + 1), train_history.history['val_loss'], linewidth=3, color='orange')\n",
    "\n",
    "plt.xlabel(\"Epochs\", fontsize=14)\n",
    "plt.ylabel(\"Loss\", fontsize=14)\n",
    "plt.xlim(1, n_epochs_actual)\n",
    "plt.xticks([1, n_epochs_actual], [1, n_epochs_actual], fontsize=12)\n",
    "plt.yticks(fontsize=12)\n",
    "\n",
    "plt.tight_layout()\n",
    "\n",
    "plt.show()\n"
   ]
  },
  {
   "cell_type": "code",
   "execution_count": 10,
   "metadata": {},
   "outputs": [
    {
     "name": "stdout",
     "output_type": "stream",
     "text": [
      "Saved model at saved_models/mnist_binarized_cnn_digit_2_vs_4.h5 \n"
     ]
    }
   ],
   "source": [
    "\n",
    "model_name = \"mnist_binarized_cnn_digit_2_vs_4\"\n",
    "\n",
    "# Save model and weights\n",
    "save_dir = 'saved_models'\n",
    "\n",
    "if not os.path.isdir(save_dir):\n",
    "    os.makedirs(save_dir)\n",
    "\n",
    "model_path = os.path.join(save_dir, model_name + '.h5')\n",
    "\n",
    "model.save(model_path)\n",
    "print('Saved model at %s ' % (model_path))\n"
   ]
  },
  {
   "cell_type": "code",
   "execution_count": null,
   "metadata": {},
   "outputs": [],
   "source": []
  }
 ],
 "metadata": {
  "kernelspec": {
   "display_name": "Environment (conda_tensorflow_p36)",
   "language": "python",
   "name": "conda_tensorflow_p36"
  },
  "language_info": {
   "codemirror_mode": {
    "name": "ipython",
    "version": 3
   },
   "file_extension": ".py",
   "mimetype": "text/x-python",
   "name": "python",
   "nbconvert_exporter": "python",
   "pygments_lexer": "ipython3",
   "version": "3.6.5"
  }
 },
 "nbformat": 4,
 "nbformat_minor": 2
}

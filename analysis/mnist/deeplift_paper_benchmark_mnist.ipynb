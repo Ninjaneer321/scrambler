{
 "cells": [
  {
   "cell_type": "code",
   "execution_count": 2,
   "metadata": {
    "scrolled": true
   },
   "outputs": [
    {
     "name": "stderr",
     "output_type": "stream",
     "text": [
      "Using TensorFlow backend.\n",
      "/home/ubuntu/anaconda3/envs/tensorflow_p36_deeplift/lib/python3.6/site-packages/tensorflow/python/framework/dtypes.py:517: FutureWarning: Passing (type, 1) or '1type' as a synonym of type is deprecated; in a future version of numpy, it will be understood as (type, (1,)) / '(1,)type'.\n",
      "  _np_qint8 = np.dtype([(\"qint8\", np.int8, 1)])\n",
      "/home/ubuntu/anaconda3/envs/tensorflow_p36_deeplift/lib/python3.6/site-packages/tensorflow/python/framework/dtypes.py:518: FutureWarning: Passing (type, 1) or '1type' as a synonym of type is deprecated; in a future version of numpy, it will be understood as (type, (1,)) / '(1,)type'.\n",
      "  _np_quint8 = np.dtype([(\"quint8\", np.uint8, 1)])\n",
      "/home/ubuntu/anaconda3/envs/tensorflow_p36_deeplift/lib/python3.6/site-packages/tensorflow/python/framework/dtypes.py:519: FutureWarning: Passing (type, 1) or '1type' as a synonym of type is deprecated; in a future version of numpy, it will be understood as (type, (1,)) / '(1,)type'.\n",
      "  _np_qint16 = np.dtype([(\"qint16\", np.int16, 1)])\n",
      "/home/ubuntu/anaconda3/envs/tensorflow_p36_deeplift/lib/python3.6/site-packages/tensorflow/python/framework/dtypes.py:520: FutureWarning: Passing (type, 1) or '1type' as a synonym of type is deprecated; in a future version of numpy, it will be understood as (type, (1,)) / '(1,)type'.\n",
      "  _np_quint16 = np.dtype([(\"quint16\", np.uint16, 1)])\n",
      "/home/ubuntu/anaconda3/envs/tensorflow_p36_deeplift/lib/python3.6/site-packages/tensorflow/python/framework/dtypes.py:521: FutureWarning: Passing (type, 1) or '1type' as a synonym of type is deprecated; in a future version of numpy, it will be understood as (type, (1,)) / '(1,)type'.\n",
      "  _np_qint32 = np.dtype([(\"qint32\", np.int32, 1)])\n",
      "/home/ubuntu/anaconda3/envs/tensorflow_p36_deeplift/lib/python3.6/site-packages/tensorflow/python/framework/dtypes.py:526: FutureWarning: Passing (type, 1) or '1type' as a synonym of type is deprecated; in a future version of numpy, it will be understood as (type, (1,)) / '(1,)type'.\n",
      "  np_resource = np.dtype([(\"resource\", np.ubyte, 1)])\n"
     ]
    }
   ],
   "source": [
    "import keras\n",
    "from keras.datasets import mnist\n",
    "from keras.models import load_model\n",
    "from keras.models import Sequential, Model\n",
    "from keras.layers import Dense, Dropout, Flatten\n",
    "from keras.layers import Conv2D, MaxPooling2D, Activation\n",
    "\n",
    "from functools import partial\n",
    "\n",
    "from collections import defaultdict\n",
    "\n",
    "import os\n",
    "import pickle\n",
    "import numpy as np\n",
    "\n",
    "import scipy.sparse as sp\n",
    "import scipy.io as spio\n",
    "\n",
    "import matplotlib.pyplot as plt\n"
   ]
  },
  {
   "cell_type": "code",
   "execution_count": 3,
   "metadata": {},
   "outputs": [
    {
     "name": "stdout",
     "output_type": "stream",
     "text": [
      "x_train.shape = (11968, 28, 28, 1)\n",
      "n train samples = 11968\n",
      "n test samples = 1984\n"
     ]
    }
   ],
   "source": [
    "#Load MNIST data\n",
    "\n",
    "dataset_name = \"mnist_3_vs_8\"\n",
    "\n",
    "img_rows, img_cols = 28, 28\n",
    "\n",
    "num_classes = 10\n",
    "batch_size = 32\n",
    "\n",
    "included_classes = { 3, 8 }\n",
    "\n",
    "(X_train, y_train), (X_test, y_test) = mnist.load_data()\n",
    "\n",
    "keep_index_train = []\n",
    "for i in range(y_train.shape[0]) :\n",
    "    if y_train[i] in included_classes :\n",
    "        keep_index_train.append(i)\n",
    "\n",
    "keep_index_test = []\n",
    "for i in range(y_test.shape[0]) :\n",
    "    if y_test[i] in included_classes :\n",
    "        keep_index_test.append(i)\n",
    "\n",
    "original_test_idx = np.arange(X_test.shape[0])\n",
    "\n",
    "X_train = X_train[keep_index_train]\n",
    "X_test = X_test[keep_index_test]\n",
    "y_train = y_train[keep_index_train]\n",
    "y_test = y_test[keep_index_test]\n",
    "original_test_idx = original_test_idx[keep_index_test]\n",
    "\n",
    "n_train = int((X_train.shape[0] // batch_size) * batch_size)\n",
    "n_test = int((X_test.shape[0] // batch_size) * batch_size)\n",
    "X_train = X_train[:n_train]\n",
    "X_test = X_test[:n_test]\n",
    "y_train = y_train[:n_train]\n",
    "y_test = y_test[:n_test]\n",
    "original_test_idx = original_test_idx[:n_test]\n",
    "\n",
    "\n",
    "X_train = X_train.reshape(X_train.shape[0], img_rows, img_cols, 1)\n",
    "X_test = X_test.reshape(X_test.shape[0], img_rows, img_cols, 1)\n",
    "\n",
    "input_shape = (img_rows, img_cols, 1)\n",
    "\n",
    "X_train = X_train.astype('float32')\n",
    "X_test = X_test.astype('float32')\n",
    "X_train /= 255\n",
    "X_test /= 255\n",
    "\n",
    "print(\"x_train.shape = \" + str(X_train.shape))\n",
    "\n",
    "print(\"n train samples = \" + str(X_train.shape[0]))\n",
    "print(\"n test samples = \" + str(X_test.shape[0]))\n",
    "\n",
    "y_train = keras.utils.to_categorical(y_train, num_classes)\n",
    "y_test = keras.utils.to_categorical(y_test, num_classes)\n",
    "\n",
    "#Binarize images\n",
    "\n",
    "def _binarize_images(x, val_thresh=0.5) :\n",
    "    \n",
    "    x_bin = np.zeros(x.shape)\n",
    "    x_bin[x >= val_thresh] = 1.\n",
    "    \n",
    "    return x_bin\n",
    "\n",
    "X_train = _binarize_images(X_train, val_thresh=0.5)\n",
    "X_test = _binarize_images(X_test, val_thresh=0.5)\n"
   ]
  },
  {
   "cell_type": "code",
   "execution_count": 4,
   "metadata": {},
   "outputs": [],
   "source": [
    "#Re-make one-hot targets into int labels\n",
    "\n",
    "y_train = np.argmax(y_train, axis=-1)\n",
    "y_test = np.argmax(y_test, axis=-1)\n"
   ]
  },
  {
   "cell_type": "code",
   "execution_count": 5,
   "metadata": {},
   "outputs": [
    {
     "data": {
      "image/png": "[encoded data removed]",
      "text/plain": [
       "<Figure size 288x288 with 1 Axes>"
      ]
     },
     "metadata": {},
     "output_type": "display_data"
    }
   ],
   "source": [
    "#Visualize background image distribution\n",
    "\n",
    "pseudo_count = 1.0\n",
    "\n",
    "X_mean = (np.sum(X_train, axis=(0, 3)) + pseudo_count) / (X_train.shape[0] + pseudo_count)\n",
    "X_mean_logits = np.log(X_mean / (1. - X_mean))\n",
    "\n",
    "f = plt.figure(figsize=(4, 4))\n",
    "\n",
    "plot_ix = 0\n",
    "\n",
    "plt.imshow(X_mean, cmap=\"Greys\", vmin=0.0, vmax=1.0, aspect='equal')\n",
    "\n",
    "plt.xticks([], [])\n",
    "plt.yticks([], [])\n",
    "\n",
    "plt.tight_layout()\n",
    "plt.show()\n"
   ]
  },
  {
   "cell_type": "code",
   "execution_count": 6,
   "metadata": {
    "scrolled": true
   },
   "outputs": [
    {
     "name": "stdout",
     "output_type": "stream",
     "text": [
      "WARNING:tensorflow:From /home/ubuntu/anaconda3/envs/tensorflow_p36_deeplift/lib/python3.6/site-packages/keras/backend/tensorflow_backend.py:1062: calling reduce_prod (from tensorflow.python.ops.math_ops) with keep_dims is deprecated and will be removed in a future version.\n",
      "Instructions for updating:\n",
      "keep_dims is deprecated, use keepdims instead\n",
      "WARNING:tensorflow:From /home/ubuntu/anaconda3/envs/tensorflow_p36_deeplift/lib/python3.6/site-packages/keras/backend/tensorflow_backend.py:2550: calling reduce_sum (from tensorflow.python.ops.math_ops) with keep_dims is deprecated and will be removed in a future version.\n",
      "Instructions for updating:\n",
      "keep_dims is deprecated, use keepdims instead\n",
      "WARNING:tensorflow:From /home/ubuntu/anaconda3/envs/tensorflow_p36_deeplift/lib/python3.6/site-packages/keras/backend/tensorflow_backend.py:1123: calling reduce_mean (from tensorflow.python.ops.math_ops) with keep_dims is deprecated and will be removed in a future version.\n",
      "Instructions for updating:\n",
      "keep_dims is deprecated, use keepdims instead\n"
     ]
    }
   ],
   "source": [
    "#Load predictor model\n",
    "\n",
    "saved_model_file = \"saved_models/mnist_binarized_cnn_10_digits.h5\"\n",
    "\n",
    "keras_model = Sequential()\n",
    "\n",
    "keras_model.add(Conv2D(32, kernel_size=(3, 3), activation='relu', input_shape=input_shape, name='conv2d_1'))\n",
    "keras_model.add(Conv2D(64, (3, 3), activation='relu', name='conv2d_2'))\n",
    "keras_model.add(MaxPooling2D(pool_size=(2, 2)))\n",
    "keras_model.add(Dropout(0.25))\n",
    "keras_model.add(Flatten())\n",
    "keras_model.add(Dense(128, activation='relu', name='dense_1'))\n",
    "keras_model.add(Dropout(0.5))\n",
    "keras_model.add(Dense(num_classes, activation='linear', name='dense_2'))\n",
    "keras_model.add(Activation('softmax'))\n",
    "\n",
    "keras_model.load_weights(saved_model_file)\n",
    "keras_model.trainable = False\n",
    "\n",
    "keras_model.compile(\n",
    "    loss=keras.losses.categorical_crossentropy,\n",
    "    optimizer=keras.optimizers.Adadelta(),\n",
    "    metrics=['accuracy']\n",
    ")\n"
   ]
  },
  {
   "cell_type": "code",
   "execution_count": 7,
   "metadata": {},
   "outputs": [
    {
     "name": "stdout",
     "output_type": "stream",
     "text": [
      "nonlinear_mxts_mode is set to: RevealCancel\n"
     ]
    },
    {
     "name": "stderr",
     "output_type": "stream",
     "text": [
      "/home/ubuntu/anaconda3/envs/tensorflow_p36_deeplift/lib/python3.6/site-packages/deeplift/conversion/kerasapi_conversion.py:352: H5pyDeprecationWarning: The default file mode will change to 'r' (read-only) in h5py 3.0. To suppress this warning, pass the mode you need to h5py.File(), or set the global default h5.get_config().default_file_mode, or set the environment variable H5PY_DEFAULT_READONLY=1. Available modes are: 'r', 'r+', 'w', 'w-'/'x', 'a'. See the docs for details.\n",
      "  str_data = h5py.File(h5_file).attrs[\"model_config\"]\n",
      "/home/ubuntu/anaconda3/envs/tensorflow_p36_deeplift/lib/python3.6/site-packages/deeplift/conversion/kerasapi_conversion.py:359: H5pyDeprecationWarning: The default file mode will change to 'r' (read-only) in h5py 3.0. To suppress this warning, pass the mode you need to h5py.File(), or set the global default h5.get_config().default_file_mode, or set the environment variable H5PY_DEFAULT_READONLY=1. Available modes are: 'r', 'r+', 'w', 'w-'/'x', 'a'. See the docs for details.\n",
      "  model_weights = h5py.File(h5_file)\n"
     ]
    },
    {
     "name": "stdout",
     "output_type": "stream",
     "text": [
      "Heads-up: current implementation assumes maxpool layer is followed by a linear transformation (conv/dense layer)\n",
      "Heads-up: I assume softmax is the output layer, not an intermediate one; if it's an intermediate layer, please let me know and I will prioritise that use-case\n",
      "nonlinear_mxts_mode is set to: Gradient\n",
      "Heads-up: current implementation assumes maxpool layer is followed by a linear transformation (conv/dense layer)\n",
      "Heads-up: I assume softmax is the output layer, not an intermediate one; if it's an intermediate layer, please let me know and I will prioritise that use-case\n",
      "nonlinear_mxts_mode is set to: GuidedBackprop\n",
      "Heads-up: current implementation assumes maxpool layer is followed by a linear transformation (conv/dense layer)\n",
      "Heads-up: I assume softmax is the output layer, not an intermediate one; if it's an intermediate layer, please let me know and I will prioritise that use-case\n"
     ]
    }
   ],
   "source": [
    "#DeepLIFT Notebook Cell 5\n",
    "\n",
    "import deeplift\n",
    "from deeplift.layers import NonlinearMxtsMode\n",
    "from deeplift.conversion import kerasapi_conversion as kc\n",
    "\n",
    "#Three different models, one each for RevealCancel, Gradient and GuidedBackprop\n",
    "revealcancel_model = kc.convert_model_from_saved_files(\n",
    "                            h5_file=saved_model_file,\n",
    "                            nonlinear_mxts_mode=NonlinearMxtsMode.RevealCancel)\n",
    "grad_model = kc.convert_model_from_saved_files(\n",
    "                            h5_file=saved_model_file,\n",
    "                            nonlinear_mxts_mode=NonlinearMxtsMode.Gradient)\n",
    "guided_backprop_model = kc.convert_model_from_saved_files(\n",
    "                            h5_file=saved_model_file,\n",
    "                            nonlinear_mxts_mode=NonlinearMxtsMode.GuidedBackprop)\n"
   ]
  },
  {
   "cell_type": "code",
   "execution_count": 8,
   "metadata": {},
   "outputs": [
    {
     "name": "stdout",
     "output_type": "stream",
     "text": [
      "difference in predictions: 0.0\n"
     ]
    }
   ],
   "source": [
    "#DeepLIFT Notebook Cell 6\n",
    "\n",
    "from deeplift.util import compile_func\n",
    "import numpy as np\n",
    "from keras import backend as K\n",
    "\n",
    "deeplift_model = revealcancel_model\n",
    "deeplift_prediction_func = compile_func([deeplift_model.get_layers()[0].get_activation_vars()],\n",
    "                                       deeplift_model.get_layers()[-1].get_activation_vars())\n",
    "original_model_predictions = keras_model.predict(X_test, batch_size=200)\n",
    "converted_model_predictions = deeplift.util.run_function_in_batches(\n",
    "                                input_data_list=[X_test],\n",
    "                                func=deeplift_prediction_func,\n",
    "                                batch_size=200,\n",
    "                                progress_update=None)\n",
    "print(\"difference in predictions:\",np.max(np.array(converted_model_predictions)-np.array(original_model_predictions)))\n",
    "assert np.max(np.array(converted_model_predictions)-np.array(original_model_predictions)) < 10**-5\n",
    "predictions = converted_model_predictions\n"
   ]
  },
  {
   "cell_type": "code",
   "execution_count": 9,
   "metadata": {},
   "outputs": [
    {
     "name": "stdout",
     "output_type": "stream",
     "text": [
      "TARGET LAYER SET TO preact_7\n",
      "TARGET LAYER SET TO preact_7\n",
      "TARGET LAYER SET TO preact_7\n",
      "TARGET LAYER SET TO preact_7\n",
      "TARGET LAYER SET TO preact_7\n"
     ]
    }
   ],
   "source": [
    "#DeepLIFT Notebook Cell 7\n",
    "#Altered: We compute the multipliers rather than masked scores multipliers\n",
    "\n",
    "from keras import backend as K\n",
    "import deeplift\n",
    "from deeplift.util import get_integrated_gradients_function\n",
    "\n",
    "revealcancel_func = revealcancel_model.get_target_multipliers_func(find_scores_layer_idx=0, target_layer_idx=-2)\n",
    "grad_times_inp_func = grad_model.get_target_multipliers_func(find_scores_layer_idx=0, target_layer_idx=-2)\n",
    "guided_backprop_times_inp_func = guided_backprop_model.get_target_multipliers_func(find_scores_layer_idx=0, target_layer_idx=-2)\n",
    "\n",
    "gradient_func = grad_model.get_target_multipliers_func(find_scores_layer_idx=0, target_layer_idx=-2)\n",
    "guided_backprop_func = guided_backprop_model.get_target_multipliers_func(find_scores_layer_idx=0, target_layer_idx=-2)\n",
    "\n",
    "#pure-gradients or pure-guidedbackprop perform rather poorly because they produce scores on pixels that are 0 (which are\n",
    "#the backround in MNIST). But we can give them a slight advantage by masking out positions that\n",
    "#are zero. Also, the method of simonyan et al uses the magnitude of the gradient.\n",
    "simonyan_func_masked = lambda input_data_list, **kwargs: ((input_data_list[0]>0.0)*\n",
    "                        np.abs(np.array(gradient_func(input_data_list=input_data_list,**kwargs))))\n",
    "guided_backprop_func_masked = lambda input_data_list, **kwargs: ((input_data_list[0]>0.0)*\n",
    "                               guided_backprop_func(input_data_list=input_data_list, **kwargs))\n",
    "\n",
    "#prepare the integrated gradients scoring functions\n",
    "#heads-up: these take 5x and 10x longer to compute respectively!\n",
    "integrated_grads_5 = get_integrated_gradients_function(gradient_func, 5)\n",
    "integrated_grads_10 = get_integrated_gradients_function(gradient_func, 10)\n"
   ]
  },
  {
   "cell_type": "code",
   "execution_count": 10,
   "metadata": {},
   "outputs": [
    {
     "name": "stdout",
     "output_type": "stream",
     "text": [
      "HEADS UP! integrated_grads_5 and integrated_grads_10 take 5x and 10x longer to run respectively\n",
      "Consider leaving them out to get faster results\n",
      "Computing scores for: revealcancel\n",
      "\tComputing scores for task: 3\n",
      "\tComputing scores for task: 8\n",
      "Computing scores for: guided_backprop_times_inp\n",
      "\tComputing scores for task: 3\n",
      "\tComputing scores for task: 8\n",
      "Computing scores for: grad_times_inp\n",
      "\tComputing scores for task: 3\n",
      "\tComputing scores for task: 8\n",
      "Computing scores for: integrated_grads_5\n",
      "\tComputing scores for task: 3\n",
      "\tComputing scores for task: 8\n",
      "Computing scores for: integrated_grads_10\n",
      "\tComputing scores for task: 3\n",
      "\tComputing scores for task: 8\n"
     ]
    }
   ],
   "source": [
    "#DeepLIFT Notebook Cell 8\n",
    "#Altered: We only compute scores for task_idx 3 and 8\n",
    "#Altered: Use non-masked functions for simonyan and guided backprop\n",
    "#Altered: Use the mean as background distribution\n",
    "\n",
    "#Tile the ref background to same shape as test set\n",
    "X_mean_tiled_test = np.tile(np.expand_dims(np.expand_dims(X_mean, axis=0), axis=-1), (X_test.shape[0], 1, 1, 1))\n",
    "\n",
    "from collections import OrderedDict\n",
    "method_to_task_to_scores = OrderedDict()\n",
    "print(\"HEADS UP! integrated_grads_5 and integrated_grads_10 take 5x and 10x longer to run respectively\")\n",
    "print(\"Consider leaving them out to get faster results\")\n",
    "for method_name, score_func in [\n",
    "                               ('revealcancel', revealcancel_func),\n",
    "                               #('guided_backprop_masked', guided_backprop_func),\n",
    "                               ('guided_backprop_times_inp', guided_backprop_times_inp_func),\n",
    "                               #('simonyan_masked', gradient_func), \n",
    "                               ('grad_times_inp', grad_times_inp_func),\n",
    "                               ('integrated_grads_5', integrated_grads_5),\n",
    "                               ('integrated_grads_10', integrated_grads_10)\n",
    "]:\n",
    "    print(\"Computing scores for:\",method_name)\n",
    "    method_to_task_to_scores[method_name] = {}\n",
    "    for task_idx in [3, 8] :\n",
    "        print(\"\\tComputing scores for task: \"+str(task_idx))\n",
    "        scores = np.array(score_func(\n",
    "                    task_idx=task_idx,\n",
    "                    input_data_list=[X_test],\n",
    "                    input_references_list=[X_mean_tiled_test],#[np.zeros_like(X_test)],\n",
    "                    batch_size=1000,\n",
    "                    progress_update=None))\n",
    "        method_to_task_to_scores[method_name][task_idx] = scores\n"
   ]
  },
  {
   "cell_type": "code",
   "execution_count": 11,
   "metadata": {},
   "outputs": [],
   "source": [
    "#Load Scrambler importance scores\n",
    "\n",
    "scrambler_scores_3_vs_8_file = \"autoscrambler_dataset_mnist_3_vs_8_n_samples_32_resnet_5_4_32_3_00_n_epochs_50_target_bits_0005_kl_divergence_higher_entropy_penalty_importance_scores_test.npy\"\n",
    "\n",
    "scrambler_scores_3_vs_8 = np.load(scrambler_scores_3_vs_8_file)\n",
    "\n",
    "method_to_task_to_scores['scrambler'] = {}\n",
    "method_to_task_to_scores['scrambler'][8] = scrambler_scores_3_vs_8\n",
    "method_to_task_to_scores['scrambler'][3] = np.zeros(scrambler_scores_3_vs_8.shape)\n",
    "\n",
    "scrambler_inverted_scores_3_vs_8_file = \"autoscrambler_dataset_mnist_3_vs_8_inverted_scores_n_samples_32_resnet_5_4_32_3_00_n_epochs_50_target_bits_03_kl_divergence_higher_entropy_penalty_importance_scores_test.npy\"\n",
    "\n",
    "scrambler_inverted_scores_3_vs_8 = np.load(scrambler_inverted_scores_3_vs_8_file)\n",
    "\n",
    "method_to_task_to_scores['scrambler_inverted'] = {}\n",
    "method_to_task_to_scores['scrambler_inverted'][8] = scrambler_inverted_scores_3_vs_8\n",
    "method_to_task_to_scores['scrambler_inverted'][3] = np.zeros(scrambler_inverted_scores_3_vs_8.shape)\n",
    "\n"
   ]
  },
  {
   "cell_type": "code",
   "execution_count": 14,
   "metadata": {},
   "outputs": [],
   "source": [
    "#DeepLIFT Notebook Cell 9\n",
    "\n",
    "%matplotlib inline\n",
    "import matplotlib.pyplot as plt\n",
    "import matplotlib.colors as colors\n",
    "from keras import backend as K\n",
    "\n",
    "\n",
    "#Function to plot scores of an MNIST figure\n",
    "def viz_scores(scores,ax):\n",
    "    reshaped_scores = scores.reshape(28,28)\n",
    "    the_min = np.min(reshaped_scores)\n",
    "    the_max = np.max(reshaped_scores)\n",
    "    center = 0.0\n",
    "    negative_vals = (reshaped_scores <= 0.0)*reshaped_scores/(the_min + 10**-7)\n",
    "    positive_vals = (reshaped_scores > 0.0)*reshaped_scores/float(the_max + 10**-7)\n",
    "    reshaped_scores = -negative_vals + positive_vals\n",
    "    ax.imshow(-reshaped_scores, cmap=\"Greys\")\n",
    "    ax.set_xticks([])\n",
    "    ax.set_yticks([])\n",
    "\n",
    "#Function that masks out the top n pixels where the score for\n",
    "#task_1 is higher than the score for task_2\n",
    "def get_masked_image(idx, scores, task_1, task_2, n_to_erase):\n",
    "    difference = scores[task_1][idx].ravel() - scores[task_2][idx].ravel()\n",
    "    #highlight the top n\n",
    "    top_nth_threshold = max(sorted(difference, key=lambda x: -x)[n_to_erase],0.0)\n",
    "    thresholded_points = 1.0*(difference <= top_nth_threshold)\n",
    "    masked_inp = thresholded_points.reshape(28,28,1)*X_test[idx]\n",
    "    return masked_inp\n",
    "\n",
    "#Function to plot the result of masking on a single example, for converting\n",
    "#from task1->task2 and task1->task3\n",
    "def plot_two_way_figures(idx, task_1, task_2, task_3, method_names, n_to_erase):\n",
    "    print(\"example index: \"+str(idx))\n",
    "    print(\"Order of columns is:\",\"task \"+str(task_1)+\" scores\",\"task \"+str(task_2)+\" scores\",\n",
    "                                 str(task_1)+\"->\"+str(task_2)+\" masking\",\n",
    "                                 \"task \"+str(task_3)+\" scores\", str(task_1)+\"->\"+str(task_3)+\" masking\")\n",
    "    print(\"Order of the methods is: \"+\", \".join(str(x) for x in method_names))\n",
    "    for method_name in method_names:\n",
    "        scores = method_to_task_to_scores[method_name]\n",
    "        mean_scores_over_all_tasks = np.zeros(scores[task_1][idx].shape)#np.mean(np.array([scores[i][idx] for i in range(10)]), axis=0)\n",
    "        f, axarr = plt.subplots(1, 6, sharey=False, figsize=(15,10))\n",
    "        viz_scores(X_test[idx], axarr[0])      \n",
    "        viz_scores(scores[task_1][idx] - mean_scores_over_all_tasks, axarr[1])\n",
    "        viz_scores(scores[task_2][idx] - mean_scores_over_all_tasks, axarr[2])\n",
    "        viz_scores(get_masked_image(idx, scores, task_1, task_2, n_to_erase), axarr[3])\n",
    "        viz_scores(scores[task_3][idx] - mean_scores_over_all_tasks, axarr[4])\n",
    "        viz_scores(get_masked_image(idx, scores, task_1, task_3, n_to_erase), axarr[5])\n",
    "    plt.show()\n",
    "    \n",
    "#Function to compute change in log-odds scores after\n",
    "#pixels have been masked to convert from original_class to target_class\n",
    "def compute_delta_log_odds(X, y, predict_func, imp_scores,\n",
    "                           original_class, target_class,\n",
    "                           num_perturbations):\n",
    "    original_class_mask = y_test==original_class\n",
    "    X = np.compress(condition=original_class_mask,\n",
    "                    a=X,axis=0)\n",
    "    \n",
    "    \n",
    "    #compute log-odds of model for those two classes\n",
    "    predictions = np.array(deeplift.util.run_function_in_batches(predict_func,\n",
    "                                                        input_data_list=[X],\n",
    "                                                        batch_size=200, progress_update=None))\n",
    "    orig_log_odds = predictions[:,original_class] - predictions[:,target_class]\n",
    "    \n",
    "    #make num_perturbations to move from original_class\n",
    "    #to target_class according to imp_scores\n",
    "    #first, get the difference of imp_scores for the two classes\n",
    "    diff_of_scores = (np.compress(original_class_mask, imp_scores[original_class].reshape((-1, 784)), axis=0) - \n",
    "                      np.compress(original_class_mask, imp_scores[target_class].reshape((-1, 784)), axis=0))\n",
    "    modified_inp = []\n",
    "    #then, for each example, sort the scores and zero out indices\n",
    "    for inp, diff_of_scores in zip(X, diff_of_scores):\n",
    "        top_nth_threshold = max(sorted(diff_of_scores, key=lambda x: -x)[num_perturbations], 0.0)\n",
    "        thresholded_points = 1.0*(diff_of_scores <= top_nth_threshold)\n",
    "        modified_inp.append(thresholded_points.reshape(28,28,1)*inp)\n",
    "    modified_inp = np.array(modified_inp)\n",
    "    \n",
    "    #assess change in log-odds for the modified images\n",
    "    new_predictions = np.array(deeplift.util.run_function_in_batches(predict_func,\n",
    "                                                        input_data_list=[modified_inp],\n",
    "                                                        batch_size=200, progress_update=None))\n",
    "    new_log_odds = new_predictions[:,original_class] - new_predictions[:,target_class]\n",
    "    \n",
    "    to_return = orig_log_odds - new_log_odds\n",
    "    \n",
    "    return (to_return,\n",
    "            sum(new_log_odds < 0.0)/float(len(new_log_odds)),\n",
    "            new_predictions[:,[original_class, target_class]],\n",
    "            predictions[:,[original_class, target_class]])\n",
    "\n",
    "#pre_softmax_func computes the output of the linear layer preceding the\n",
    "#Final softmax noninearity\n",
    "pre_softmax_func_inner = K.function([keras_model.input, K.learning_phase()],\n",
    "                                    [keras_model.layers[-2].output])\n",
    "pre_softmax_func = lambda x: pre_softmax_func_inner(x+[False])[0]\n",
    "\n",
    "def barplot_scores(original_class, target_class, method_names_and_short_names, n_to_erase):\n",
    "    print(\"converting: \"+str(original_class)+\"->\"+str(target_class))\n",
    "    method_names = [x[0] for x in method_names_and_short_names]\n",
    "    short_names = [x[1] for x in method_names_and_short_names]\n",
    "    original_class_mask = y_test==original_class\n",
    "    scores_to_plot = []\n",
    "    fig, ax = plt.subplots(figsize=(2*len(method_names),5))\n",
    "    for method_name in method_names:\n",
    "        logodds_diff, flipped, new_predictions, old_predictions = compute_delta_log_odds(\n",
    "                                                                     X=X_test, y=y_test,\n",
    "                                                                     predict_func=pre_softmax_func,\n",
    "                                                                     imp_scores=method_to_task_to_scores[method_name],\n",
    "                                                                     original_class=original_class,\n",
    "                                                                     target_class=target_class,\n",
    "                                                                     num_perturbations=n_to_erase)\n",
    "        #figure out indices with big shifts\n",
    "        retained_indices = np.compress(condition=original_class_mask, a=np.arange(len(y_test)))\n",
    "        \n",
    "        #sorted_shifts\n",
    "        sorted_shifts = sorted(enumerate(zip(logodds_diff,new_predictions,old_predictions)), key=lambda x: -x[1][0])\n",
    "        print(\"top indices for \"+str(method_name)+\": \"+\" \".join([str(retained_indices[x[0]]) for x in sorted_shifts[:10]]))\n",
    "        scores_to_plot.append(logodds_diff)\n",
    "        \n",
    "    ax.boxplot(scores_to_plot, widths=[0.5 for x in method_names])\n",
    "    #ax.set_ylim(-1000,17000)\n",
    "    ax.set_ylabel(\"Change in log-odds\")\n",
    "    ax.set_xticklabels(short_names)\n",
    "    plt.title(str(original_class)+\" --> \"+str(target_class), fontsize=24)\n",
    "    plt.tick_params(labelsize=17)\n",
    "    plt.show()\n"
   ]
  },
  {
   "cell_type": "code",
   "execution_count": 15,
   "metadata": {},
   "outputs": [
    {
     "name": "stdout",
     "output_type": "stream",
     "text": [
      "example index: 1154\n",
      "Order of columns is: task 8 scores task 3 scores 8->3 masking task 8 scores 8->8 masking\n",
      "Order of the methods is: grad_times_inp, guided_backprop_times_inp, integrated_grads_5, revealcancel, scrambler, scrambler_inverted\n"
     ]
    },
    {
     "data": {
      "image/png": "[encoded data removed]",
      "text/plain": [
       "<Figure size 1080x720 with 6 Axes>"
      ]
     },
     "metadata": {},
     "output_type": "display_data"
    },
    {
     "data": {
      "image/png": "[encoded data removed]",
      "text/plain": [
       "<Figure size 1080x720 with 6 Axes>"
      ]
     },
     "metadata": {},
     "output_type": "display_data"
    },
    {
     "data": {
      "image/png": "[encoded data removed]",
      "text/plain": [
       "<Figure size 1080x720 with 6 Axes>"
      ]
     },
     "metadata": {},
     "output_type": "display_data"
    },
    {
     "data": {
      "image/png": "[encoded data removed]",
      "text/plain": [
       "<Figure size 1080x720 with 6 Axes>"
      ]
     },
     "metadata": {},
     "output_type": "display_data"
    },
    {
     "data": {
      "image/png": "[encoded data removed]",
      "text/plain": [
       "<Figure size 1080x720 with 6 Axes>"
      ]
     },
     "metadata": {},
     "output_type": "display_data"
    },
    {
     "data": {
      "image/png": "[encoded data removed]",
      "text/plain": [
       "<Figure size 1080x720 with 6 Axes>"
      ]
     },
     "metadata": {},
     "output_type": "display_data"
    }
   ],
   "source": [
    "#DeepLIFT Notebook Cell 10\n",
    "\n",
    "n_to_erase=157\n",
    "#method_names = ['simonyan_masked', 'guided_backprop_masked', 'grad_times_inp', 'integrated_grads_5', 'revealcancel', 'scrambler']\n",
    "method_names = ['grad_times_inp', 'guided_backprop_times_inp', 'integrated_grads_5', 'revealcancel', 'scrambler', 'scrambler_inverted']\n",
    "plot_two_way_figures(np.where(original_test_idx == 5846)[0][0],8,3,8,method_names,n_to_erase)\n"
   ]
  },
  {
   "cell_type": "code",
   "execution_count": 16,
   "metadata": {
    "scrolled": false
   },
   "outputs": [
    {
     "name": "stdout",
     "output_type": "stream",
     "text": [
      "converting: 8->3\n",
      "top indices for guided_backprop_times_inp: 1787 1979 229 1000 1678 1391 38 1844 1436 910\n",
      "top indices for grad_times_inp: 229 1678 728 868 910 553 116 1979 938 1844\n",
      "top indices for integrated_grads_5: 1678 229 910 553 938 1611 1350 868 245 329\n",
      "top indices for integrated_grads_10: 1678 229 1611 910 553 445 938 1350 329 868\n",
      "top indices for revealcancel: 1678 229 910 1035 756 1979 553 1611 1010 1488\n",
      "top indices for scrambler: 154 201 1979 1705 178 1678 731 734 245 1513\n",
      "top indices for scrambler_inverted: 1678 1273 553 229 341 1844 1387 565 577 910\n"
     ]
    },
    {
     "data": {
      "image/png": "[encoded data removed]",
      "text/plain": [
       "<Figure size 1008x360 with 1 Axes>"
      ]
     },
     "metadata": {
      "needs_background": "light"
     },
     "output_type": "display_data"
    }
   ],
   "source": [
    "#DeepLIFT Notebook Cell 11\n",
    "\n",
    "method_names_and_short_names = [\n",
    "    #('simonyan_masked', '|grad|\\n(Simonyan)'),\n",
    "    #('guided_backprop_masked', 'Guided\\nBackprop'),\n",
    "    ('guided_backprop_times_inp', 'Guided\\nBackprop'),\n",
    "    ('grad_times_inp', 'gradient'),\n",
    "    ('integrated_grads_5', 'integrated\\ngrads-5'),\n",
    "    ('integrated_grads_10', 'integrated\\ngrads-10'),\n",
    "    ('revealcancel', 'DeepLIFT-\\nRevealCancel'),\n",
    "    ('scrambler', 'Scrambler'),\n",
    "    ('scrambler_inverted', 'Scrambler\\n(inverted)'),\n",
    "]\n",
    "\n",
    "barplot_scores(8,3,method_names_and_short_names, n_to_erase)\n"
   ]
  },
  {
   "cell_type": "code",
   "execution_count": 4,
   "metadata": {},
   "outputs": [],
   "source": []
  }
 ],
 "metadata": {
  "kernelspec": {
   "display_name": "Environment (conda_tensorflow_p36_deeplift)",
   "language": "python",
   "name": "conda_tensorflow_p36_deeplift"
  },
  "language_info": {
   "codemirror_mode": {
    "name": "ipython",
    "version": 3
   },
   "file_extension": ".py",
   "mimetype": "text/x-python",
   "name": "python",
   "nbconvert_exporter": "python",
   "pygments_lexer": "ipython3",
   "version": "3.6.10"
  }
 },
 "nbformat": 4,
 "nbformat_minor": 2
}

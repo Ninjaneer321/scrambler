{
 "cells": [
  {
   "cell_type": "code",
   "execution_count": 1,
   "metadata": {},
   "outputs": [
    {
     "name": "stderr",
     "output_type": "stream",
     "text": [
      "Using TensorFlow backend.\n"
     ]
    }
   ],
   "source": [
    "import keras\n",
    "from keras.datasets import mnist\n",
    "from keras.models import load_model\n",
    "from keras.models import Sequential, Model\n",
    "from keras.layers import Dense, Dropout, Flatten\n",
    "from keras.layers import Conv2D, MaxPooling2D\n",
    "\n",
    "from functools import partial\n",
    "\n",
    "from collections import defaultdict\n",
    "\n",
    "import isolearn.keras as iso\n",
    "\n",
    "import os\n",
    "import pickle\n",
    "import numpy as np\n",
    "\n",
    "import scipy.sparse as sp\n",
    "import scipy.io as spio\n",
    "\n",
    "import matplotlib.pyplot as plt\n"
   ]
  },
  {
   "cell_type": "code",
   "execution_count": 2,
   "metadata": {},
   "outputs": [
    {
     "name": "stdout",
     "output_type": "stream",
     "text": [
      "x_train.shape = (11552, 28, 28, 1)\n",
      "n train samples = 11552\n",
      "n test samples = 1888\n"
     ]
    }
   ],
   "source": [
    "#Load MNIST data\n",
    "\n",
    "dataset_name = \"mnist_3_vs_5\"\n",
    "\n",
    "img_rows, img_cols = 28, 28\n",
    "\n",
    "num_classes = 10\n",
    "batch_size = 32\n",
    "\n",
    "included_classes = { 3, 5 }\n",
    "\n",
    "(x_train, y_train), (x_test, y_test) = mnist.load_data()\n",
    "\n",
    "keep_index_train = []\n",
    "for i in range(y_train.shape[0]) :\n",
    "    if y_train[i] in included_classes :\n",
    "        keep_index_train.append(i)\n",
    "\n",
    "keep_index_test = []\n",
    "for i in range(y_test.shape[0]) :\n",
    "    if y_test[i] in included_classes :\n",
    "        keep_index_test.append(i)\n",
    "\n",
    "x_train = x_train[keep_index_train]\n",
    "x_test = x_test[keep_index_test]\n",
    "y_train = y_train[keep_index_train]\n",
    "y_test = y_test[keep_index_test]\n",
    "\n",
    "n_train = int((x_train.shape[0] // batch_size) * batch_size)\n",
    "n_test = int((x_test.shape[0] // batch_size) * batch_size)\n",
    "x_train = x_train[:n_train]\n",
    "x_test = x_test[:n_test]\n",
    "y_train = y_train[:n_train]\n",
    "y_test = y_test[:n_test]\n",
    "\n",
    "\n",
    "x_train = x_train.reshape(x_train.shape[0], img_rows, img_cols, 1)\n",
    "x_test = x_test.reshape(x_test.shape[0], img_rows, img_cols, 1)\n",
    "\n",
    "input_shape = (img_rows, img_cols, 1)\n",
    "\n",
    "x_train = x_train.astype('float32')\n",
    "x_test = x_test.astype('float32')\n",
    "x_train /= 255\n",
    "x_test /= 255\n",
    "\n",
    "print(\"x_train.shape = \" + str(x_train.shape))\n",
    "\n",
    "print(\"n train samples = \" + str(x_train.shape[0]))\n",
    "print(\"n test samples = \" + str(x_test.shape[0]))\n",
    "\n",
    "y_train = keras.utils.to_categorical(y_train, num_classes)\n",
    "y_test = keras.utils.to_categorical(y_test, num_classes)\n",
    "\n",
    "#Binarize images\n",
    "\n",
    "def _binarize_images(x, val_thresh=0.5) :\n",
    "    \n",
    "    x_bin = np.zeros(x.shape)\n",
    "    x_bin[x >= val_thresh] = 1.\n",
    "    \n",
    "    return x_bin\n",
    "\n",
    "x_train = _binarize_images(x_train, val_thresh=0.5)\n",
    "x_test = _binarize_images(x_test, val_thresh=0.5)\n"
   ]
  },
  {
   "cell_type": "code",
   "execution_count": 3,
   "metadata": {},
   "outputs": [
    {
     "name": "stdout",
     "output_type": "stream",
     "text": [
      "WARNING:tensorflow:From /home/ubuntu/anaconda3/envs/tensorflow_p36/lib/python3.6/site-packages/tensorflow/python/framework/op_def_library.py:263: colocate_with (from tensorflow.python.framework.ops) is deprecated and will be removed in a future version.\n",
      "Instructions for updating:\n",
      "Colocations handled automatically by placer.\n",
      "WARNING:tensorflow:From /home/ubuntu/anaconda3/envs/tensorflow_p36/lib/python3.6/site-packages/keras/backend/tensorflow_backend.py:3445: calling dropout (from tensorflow.python.ops.nn_ops) with keep_prob is deprecated and will be removed in a future version.\n",
      "Instructions for updating:\n",
      "Please use `rate` instead of `keep_prob`. Rate should be set to `rate = 1 - keep_prob`.\n"
     ]
    }
   ],
   "source": [
    "predictor = Sequential()\n",
    "\n",
    "predictor.add(Conv2D(32, kernel_size=(3, 3), activation='relu', input_shape=input_shape, name='conv2d_1'))\n",
    "predictor.add(Conv2D(64, (3, 3), activation='relu', name='conv2d_2'))\n",
    "predictor.add(MaxPooling2D(pool_size=(2, 2)))\n",
    "predictor.add(Dropout(0.25))\n",
    "predictor.add(Flatten())\n",
    "predictor.add(Dense(128, activation='relu', name='dense_1'))\n",
    "predictor.add(Dropout(0.5))\n",
    "predictor.add(Dense(num_classes, activation='linear', name='dense_2'))\n",
    "\n",
    "predictor.load_weights('saved_models/mnist_binarized_cnn_10_digits.h5')\n",
    "predictor.trainable = False\n",
    "\n",
    "predictor.compile(\n",
    "    loss=keras.losses.categorical_crossentropy,\n",
    "    optimizer=keras.optimizers.Adadelta(),\n",
    "    metrics=['accuracy']\n",
    ")"
   ]
  },
  {
   "cell_type": "code",
   "execution_count": 4,
   "metadata": {},
   "outputs": [
    {
     "name": "stdout",
     "output_type": "stream",
     "text": [
      "1888/1888 [==============================] - 3s 1ms/step\n",
      "Processing example 0...\n",
      "Processing example 100...\n",
      "Processing example 200...\n",
      "Processing example 300...\n",
      "Processing example 400...\n",
      "Processing example 500...\n",
      "Processing example 600...\n",
      "Processing example 700...\n",
      "Processing example 800...\n",
      "Processing example 900...\n",
      "Processing example 1000...\n",
      "Processing example 1100...\n",
      "Processing example 1200...\n",
      "Processing example 1300...\n",
      "Processing example 1400...\n",
      "Processing example 1500...\n",
      "Processing example 1600...\n",
      "Processing example 1700...\n",
      "Processing example 1800...\n"
     ]
    }
   ],
   "source": [
    "#Feature substitution, 2D images\n",
    "\n",
    "digit_test = np.argmax(y_test, axis=1)\n",
    "\n",
    "importance_scores_test = np.zeros((x_test.shape[0], x_test.shape[1], x_test.shape[2], 1))\n",
    "\n",
    "y_hat_ref = predictor.predict(x_test, batch_size=32, verbose=True)\n",
    "y_hat_ref = np.array([y_hat_ref[data_ix, digit_test[data_ix]] - np.mean(y_hat_ref[data_ix, :]) for data_ix in range(x_test.shape[0])])\n",
    "\n",
    "for data_ix in range(x_test.shape[0]) :\n",
    "    \n",
    "    if data_ix % 100 == 0 :\n",
    "        print(\"Processing example \" + str(data_ix) + \"...\")\n",
    "    \n",
    "    x = x_test[data_ix, :, :, :]\n",
    "    x_var = np.zeros((2 * x.shape[0] * x.shape[1], x.shape[0], x.shape[1], 1))\n",
    "    \n",
    "    x_var[:, :, :, :] = x[:, :, :]\n",
    "    \n",
    "    for i in range(x_test.shape[1]) :\n",
    "        for j in range(x_test.shape[2]) :\n",
    "            x_var[i * x_test.shape[2] + j, i, j, 0] = 1.\n",
    "            x_var[i * x_test.shape[2] + j, i, j, 0] = 0.\n",
    "    \n",
    "            x_var[x_test.shape[1] * x_test.shape[2] + i * x_test.shape[2] + j, i, j, 0] = 0.\n",
    "            x_var[x_test.shape[1] * x_test.shape[2] + i * x_test.shape[2] + j, i, j, 0] = 1.\n",
    "    \n",
    "    y_hat_var = predictor.predict(x_var, batch_size=32)\n",
    "    y_hat_var = y_hat_var[:, digit_test[data_ix]] - np.mean(y_hat_var[:, :], axis=-1)\n",
    "    \n",
    "    for i in range(x_test.shape[1]) :\n",
    "        for j in range(x_test.shape[2]) :\n",
    "            importance_scores_test[data_ix, i, j, 0] += np.abs(y_hat_var[i * x_test.shape[2] + j] - y_hat_ref[data_ix])\n",
    "            importance_scores_test[data_ix, i, j, 0] += np.abs(y_hat_var[x_test.shape[1] * x_test.shape[2] + i * x_test.shape[2] + j] - y_hat_ref[data_ix])\n"
   ]
  },
  {
   "cell_type": "code",
   "execution_count": 5,
   "metadata": {
    "scrolled": true
   },
   "outputs": [
    {
     "data": {
      "text/plain": [
       "array([[[[0.01305389],\n",
       "         [0.01554871],\n",
       "         [0.02820206],\n",
       "         ...,\n",
       "         [0.01754379],\n",
       "         [0.00166893],\n",
       "         [0.00299835]],\n",
       "\n",
       "        [[0.00806808],\n",
       "         [0.00383377],\n",
       "         [0.0296669 ],\n",
       "         ...,\n",
       "         [0.02844238],\n",
       "         [0.04889297],\n",
       "         [0.00882721]],\n",
       "\n",
       "        [[0.03899193],\n",
       "         [0.00134277],\n",
       "         [0.06876373],\n",
       "         ...,\n",
       "         [0.04811478],\n",
       "         [0.09124756],\n",
       "         [0.00525665]],\n",
       "\n",
       "        ...,\n",
       "\n",
       "        [[0.04961014],\n",
       "         [0.10145187],\n",
       "         [0.10399246],\n",
       "         ...,\n",
       "         [0.02278137],\n",
       "         [0.15839767],\n",
       "         [0.01452255]],\n",
       "\n",
       "        [[0.02941132],\n",
       "         [0.07494545],\n",
       "         [0.07942772],\n",
       "         ...,\n",
       "         [0.064991  ],\n",
       "         [0.0449028 ],\n",
       "         [0.00099182]],\n",
       "\n",
       "        [[0.01350403],\n",
       "         [0.05931473],\n",
       "         [0.0800705 ],\n",
       "         ...,\n",
       "         [0.0779686 ],\n",
       "         [0.01581955],\n",
       "         [0.00430679]]],\n",
       "\n",
       "\n",
       "       [[[0.01001167],\n",
       "         [0.01621056],\n",
       "         [0.03698349],\n",
       "         ...,\n",
       "         [0.01099777],\n",
       "         [0.00591087],\n",
       "         [0.00048447]],\n",
       "\n",
       "        [[0.00388908],\n",
       "         [0.01017952],\n",
       "         [0.04354858],\n",
       "         ...,\n",
       "         [0.00643349],\n",
       "         [0.0155735 ],\n",
       "         [0.00615311]],\n",
       "\n",
       "        [[0.02685356],\n",
       "         [0.00682068],\n",
       "         [0.07256889],\n",
       "         ...,\n",
       "         [0.02382851],\n",
       "         [0.02556038],\n",
       "         [0.00349998]],\n",
       "\n",
       "        ...,\n",
       "\n",
       "        [[0.04333115],\n",
       "         [0.09615898],\n",
       "         [0.10654068],\n",
       "         ...,\n",
       "         [0.00787544],\n",
       "         [0.11435127],\n",
       "         [0.00506783]],\n",
       "\n",
       "        [[0.02771568],\n",
       "         [0.07245064],\n",
       "         [0.06909561],\n",
       "         ...,\n",
       "         [0.0540905 ],\n",
       "         [0.03620338],\n",
       "         [0.00351143]],\n",
       "\n",
       "        [[0.01307487],\n",
       "         [0.05461502],\n",
       "         [0.06324959],\n",
       "         ...,\n",
       "         [0.06674385],\n",
       "         [0.01465225],\n",
       "         [0.00377846]]],\n",
       "\n",
       "\n",
       "       [[[0.00267029],\n",
       "         [0.00082588],\n",
       "         [0.01834297],\n",
       "         ...,\n",
       "         [0.01664734],\n",
       "         [0.02081871],\n",
       "         [0.01910973]],\n",
       "\n",
       "        [[0.00686646],\n",
       "         [0.02178383],\n",
       "         [0.01009178],\n",
       "         ...,\n",
       "         [0.06084633],\n",
       "         [0.04427528],\n",
       "         [0.02620125]],\n",
       "\n",
       "        [[0.02345085],\n",
       "         [0.04349136],\n",
       "         [0.0780468 ],\n",
       "         ...,\n",
       "         [0.21016121],\n",
       "         [0.08989906],\n",
       "         [0.05820084]],\n",
       "\n",
       "        ...,\n",
       "\n",
       "        [[0.02523232],\n",
       "         [0.08438301],\n",
       "         [0.22780037],\n",
       "         ...,\n",
       "         [0.02428055],\n",
       "         [0.00101471],\n",
       "         [0.03125   ]],\n",
       "\n",
       "        [[0.00077057],\n",
       "         [0.01316261],\n",
       "         [0.02637863],\n",
       "         ...,\n",
       "         [0.01342583],\n",
       "         [0.01246071],\n",
       "         [0.00402451]],\n",
       "\n",
       "        [[0.00272179],\n",
       "         [0.00748062],\n",
       "         [0.00737   ],\n",
       "         ...,\n",
       "         [0.00146103],\n",
       "         [0.00892067],\n",
       "         [0.00216675]]],\n",
       "\n",
       "\n",
       "       ...,\n",
       "\n",
       "\n",
       "       [[[0.02170181],\n",
       "         [0.02323151],\n",
       "         [0.04550171],\n",
       "         ...,\n",
       "         [0.05571747],\n",
       "         [0.03533173],\n",
       "         [0.02722931]],\n",
       "\n",
       "        [[0.01873779],\n",
       "         [0.00713348],\n",
       "         [0.01534271],\n",
       "         ...,\n",
       "         [0.05930328],\n",
       "         [0.02306366],\n",
       "         [0.02810287]],\n",
       "\n",
       "        [[0.06075668],\n",
       "         [0.00409317],\n",
       "         [0.02709961],\n",
       "         ...,\n",
       "         [0.10122681],\n",
       "         [0.01209259],\n",
       "         [0.04994965]],\n",
       "\n",
       "        ...,\n",
       "\n",
       "        [[0.01437378],\n",
       "         [0.00570679],\n",
       "         [0.12998199],\n",
       "         ...,\n",
       "         [0.01472473],\n",
       "         [0.07556915],\n",
       "         [0.02557755]],\n",
       "\n",
       "        [[0.02017593],\n",
       "         [0.044487  ],\n",
       "         [0.01309967],\n",
       "         ...,\n",
       "         [0.01177979],\n",
       "         [0.06077576],\n",
       "         [0.00048828]],\n",
       "\n",
       "        [[0.01199722],\n",
       "         [0.04906464],\n",
       "         [0.04180145],\n",
       "         ...,\n",
       "         [0.0375824 ],\n",
       "         [0.0014801 ],\n",
       "         [0.00137329]]],\n",
       "\n",
       "\n",
       "       [[[0.00403786],\n",
       "         [0.00906944],\n",
       "         [0.02708435],\n",
       "         ...,\n",
       "         [0.03547478],\n",
       "         [0.02818108],\n",
       "         [0.02276039]],\n",
       "\n",
       "        [[0.0051384 ],\n",
       "         [0.0150547 ],\n",
       "         [0.00135994],\n",
       "         ...,\n",
       "         [0.06168938],\n",
       "         [0.04259109],\n",
       "         [0.02557564]],\n",
       "\n",
       "        [[0.01244164],\n",
       "         [0.02324295],\n",
       "         [0.05038071],\n",
       "         ...,\n",
       "         [0.13557243],\n",
       "         [0.05441856],\n",
       "         [0.03819275]],\n",
       "\n",
       "        ...,\n",
       "\n",
       "        [[0.01439095],\n",
       "         [0.04511833],\n",
       "         [0.17153358],\n",
       "         ...,\n",
       "         [0.04574394],\n",
       "         [0.01333046],\n",
       "         [0.0356369 ]],\n",
       "\n",
       "        [[0.00513458],\n",
       "         [0.0092659 ],\n",
       "         [0.01311684],\n",
       "         ...,\n",
       "         [0.01422119],\n",
       "         [0.03015137],\n",
       "         [0.00219154]],\n",
       "\n",
       "        [[0.00349426],\n",
       "         [0.01187134],\n",
       "         [0.00649071],\n",
       "         ...,\n",
       "         [0.00101471],\n",
       "         [0.00463867],\n",
       "         [0.00144768]]],\n",
       "\n",
       "\n",
       "       [[[0.02239609],\n",
       "         [0.02382851],\n",
       "         [0.04797745],\n",
       "         ...,\n",
       "         [0.02993011],\n",
       "         [0.00862503],\n",
       "         [0.01019669]],\n",
       "\n",
       "        [[0.01364517],\n",
       "         [0.00736809],\n",
       "         [0.04127884],\n",
       "         ...,\n",
       "         [0.01634598],\n",
       "         [0.02381134],\n",
       "         [0.00138474]],\n",
       "\n",
       "        [[0.0582943 ],\n",
       "         [0.01363754],\n",
       "         [0.0737133 ],\n",
       "         ...,\n",
       "         [0.04965019],\n",
       "         [0.07176208],\n",
       "         [0.00766182]],\n",
       "\n",
       "        ...,\n",
       "\n",
       "        [[0.06056976],\n",
       "         [0.12065125],\n",
       "         [0.14935303],\n",
       "         ...,\n",
       "         [0.00085831],\n",
       "         [0.17272949],\n",
       "         [0.0200119 ]],\n",
       "\n",
       "        [[0.03416824],\n",
       "         [0.0876236 ],\n",
       "         [0.11764145],\n",
       "         ...,\n",
       "         [0.06396484],\n",
       "         [0.06274986],\n",
       "         [0.00281143]],\n",
       "\n",
       "        [[0.01617432],\n",
       "         [0.07003784],\n",
       "         [0.0981369 ],\n",
       "         ...,\n",
       "         [0.07756233],\n",
       "         [0.00743103],\n",
       "         [0.00216293]]]])"
      ]
     },
     "execution_count": 5,
     "metadata": {},
     "output_type": "execute_result"
    }
   ],
   "source": [
    "importance_scores_test"
   ]
  },
  {
   "cell_type": "code",
   "execution_count": 6,
   "metadata": {},
   "outputs": [
    {
     "name": "stdout",
     "output_type": "stream",
     "text": [
      "Test image 0:\n"
     ]
    },
    {
     "data": {
      "image/png": "[encoded data removed]",
      "text/plain": [
       "<Figure size 648x216 with 3 Axes>"
      ]
     },
     "metadata": {},
     "output_type": "display_data"
    },
    {
     "name": "stdout",
     "output_type": "stream",
     "text": [
      "Test image 1:\n"
     ]
    },
    {
     "data": {
      "image/png": "[encoded data removed]",
      "text/plain": [
       "<Figure size 648x216 with 3 Axes>"
      ]
     },
     "metadata": {},
     "output_type": "display_data"
    },
    {
     "name": "stdout",
     "output_type": "stream",
     "text": [
      "Test image 2:\n"
     ]
    },
    {
     "data": {
      "image/png": "[encoded data removed]",
      "text/plain": [
       "<Figure size 648x216 with 3 Axes>"
      ]
     },
     "metadata": {},
     "output_type": "display_data"
    },
    {
     "name": "stdout",
     "output_type": "stream",
     "text": [
      "Test image 3:\n"
     ]
    },
    {
     "data": {
      "image/png": "[encoded data removed]",
      "text/plain": [
       "<Figure size 648x216 with 3 Axes>"
      ]
     },
     "metadata": {},
     "output_type": "display_data"
    },
    {
     "name": "stdout",
     "output_type": "stream",
     "text": [
      "Test image 4:\n"
     ]
    },
    {
     "data": {
      "image/png": "[encoded data removed]",
      "text/plain": [
       "<Figure size 648x216 with 3 Axes>"
      ]
     },
     "metadata": {},
     "output_type": "display_data"
    },
    {
     "name": "stdout",
     "output_type": "stream",
     "text": [
      "Test image 5:\n"
     ]
    },
    {
     "data": {
      "image/png": "[encoded data removed]",
      "text/plain": [
       "<Figure size 648x216 with 3 Axes>"
      ]
     },
     "metadata": {},
     "output_type": "display_data"
    },
    {
     "name": "stdout",
     "output_type": "stream",
     "text": [
      "Test image 6:\n"
     ]
    },
    {
     "data": {
      "image/png": "[encoded data removed]",
      "text/plain": [
       "<Figure size 648x216 with 3 Axes>"
      ]
     },
     "metadata": {},
     "output_type": "display_data"
    },
    {
     "name": "stdout",
     "output_type": "stream",
     "text": [
      "Test image 7:\n"
     ]
    },
    {
     "data": {
      "image/png": "[encoded data removed]",
      "text/plain": [
       "<Figure size 648x216 with 3 Axes>"
      ]
     },
     "metadata": {},
     "output_type": "display_data"
    },
    {
     "name": "stdout",
     "output_type": "stream",
     "text": [
      "Test image 8:\n"
     ]
    },
    {
     "data": {
      "image/png": "[encoded data removed]",
      "text/plain": [
       "<Figure size 648x216 with 3 Axes>"
      ]
     },
     "metadata": {},
     "output_type": "display_data"
    },
    {
     "name": "stdout",
     "output_type": "stream",
     "text": [
      "Test image 9:\n"
     ]
    },
    {
     "data": {
      "image/png": "[encoded data removed]",
      "text/plain": [
       "<Figure size 648x216 with 3 Axes>"
      ]
     },
     "metadata": {},
     "output_type": "display_data"
    },
    {
     "name": "stdout",
     "output_type": "stream",
     "text": [
      "Test image 10:\n"
     ]
    },
    {
     "data": {
      "image/png": "[encoded data removed]",
      "text/plain": [
       "<Figure size 648x216 with 3 Axes>"
      ]
     },
     "metadata": {},
     "output_type": "display_data"
    },
    {
     "name": "stdout",
     "output_type": "stream",
     "text": [
      "Test image 11:\n"
     ]
    },
    {
     "data": {
      "image/png": "[encoded data removed]",
      "text/plain": [
       "<Figure size 648x216 with 3 Axes>"
      ]
     },
     "metadata": {},
     "output_type": "display_data"
    },
    {
     "name": "stdout",
     "output_type": "stream",
     "text": [
      "Test image 12:\n"
     ]
    },
    {
     "data": {
      "image/png": "[encoded data removed]",
      "text/plain": [
       "<Figure size 648x216 with 3 Axes>"
      ]
     },
     "metadata": {},
     "output_type": "display_data"
    },
    {
     "name": "stdout",
     "output_type": "stream",
     "text": [
      "Test image 13:\n"
     ]
    },
    {
     "data": {
      "image/png": "[encoded data removed]",
      "text/plain": [
       "<Figure size 648x216 with 3 Axes>"
      ]
     },
     "metadata": {},
     "output_type": "display_data"
    },
    {
     "name": "stdout",
     "output_type": "stream",
     "text": [
      "Test image 14:\n"
     ]
    },
    {
     "data": {
      "image/png": "[encoded data removed]",
      "text/plain": [
       "<Figure size 648x216 with 3 Axes>"
      ]
     },
     "metadata": {},
     "output_type": "display_data"
    },
    {
     "name": "stdout",
     "output_type": "stream",
     "text": [
      "Test image 15:\n"
     ]
    },
    {
     "data": {
      "image/png": "[encoded data removed]",
      "text/plain": [
       "<Figure size 648x216 with 3 Axes>"
      ]
     },
     "metadata": {},
     "output_type": "display_data"
    },
    {
     "name": "stdout",
     "output_type": "stream",
     "text": [
      "Test image 16:\n"
     ]
    },
    {
     "data": {
      "image/png": "[encoded data removed]",
      "text/plain": [
       "<Figure size 648x216 with 3 Axes>"
      ]
     },
     "metadata": {},
     "output_type": "display_data"
    },
    {
     "name": "stdout",
     "output_type": "stream",
     "text": [
      "Test image 17:\n"
     ]
    },
    {
     "data": {
      "image/png": "[encoded data removed]",
      "text/plain": [
       "<Figure size 648x216 with 3 Axes>"
      ]
     },
     "metadata": {},
     "output_type": "display_data"
    },
    {
     "name": "stdout",
     "output_type": "stream",
     "text": [
      "Test image 18:\n"
     ]
    },
    {
     "data": {
      "image/png": "[encoded data removed]",
      "text/plain": [
       "<Figure size 648x216 with 3 Axes>"
      ]
     },
     "metadata": {},
     "output_type": "display_data"
    },
    {
     "name": "stdout",
     "output_type": "stream",
     "text": [
      "Test image 19:\n"
     ]
    },
    {
     "data": {
      "image/png": "[encoded data removed]",
      "text/plain": [
       "<Figure size 648x216 with 3 Axes>"
      ]
     },
     "metadata": {},
     "output_type": "display_data"
    }
   ],
   "source": [
    "#Visualize a few images\n",
    "\n",
    "for plot_i in range(0, 20) :\n",
    "    \n",
    "    print(\"Test image \" + str(plot_i) + \":\")\n",
    "    \n",
    "    f, (ax1, ax2, ax3) = plt.subplots(1, 3, figsize=(3 * 3, 3))\n",
    "\n",
    "    ax1.imshow(x_test[plot_i, :, :, 0], cmap=\"Greys\", vmin=0.0, vmax=1.0, aspect='equal')\n",
    "\n",
    "    plt.sca(ax1)\n",
    "    plt.xticks([], [])\n",
    "    plt.yticks([], [])\n",
    "    \n",
    "    ax2.imshow(importance_scores_test[plot_i, :, :, 0], cmap=\"hot\", vmin=0.0, vmax=np.max(importance_scores_test[plot_i, :, :, 0]), aspect='equal')\n",
    "\n",
    "    plt.sca(ax2)\n",
    "    plt.xticks([], [])\n",
    "    plt.yticks([], [])\n",
    "    \n",
    "    ax3.imshow(x_test[plot_i, :, :, 0], cmap=\"Greys\", vmin=0.0, vmax=1.0, aspect='equal')\n",
    "\n",
    "    ax3.imshow(importance_scores_test[plot_i, :, :, 0], alpha=0.75, cmap=\"hot\", vmin=0.0, vmax=np.max(importance_scores_test[plot_i, :, :, 0]), aspect='equal')\n",
    "\n",
    "    plt.sca(ax3)\n",
    "    plt.xticks([], [])\n",
    "    plt.yticks([], [])\n",
    "\n",
    "    plt.tight_layout()\n",
    "    plt.show()\n"
   ]
  },
  {
   "cell_type": "code",
   "execution_count": 7,
   "metadata": {},
   "outputs": [],
   "source": [
    "#Save predicted importance scores\n",
    "\n",
    "model_name = \"perturbation_dense_\" + dataset_name\n",
    "\n",
    "np.save(model_name + \"_importance_scores_test\", importance_scores_test)\n"
   ]
  },
  {
   "cell_type": "code",
   "execution_count": null,
   "metadata": {},
   "outputs": [],
   "source": []
  }
 ],
 "metadata": {
  "kernelspec": {
   "display_name": "Environment (conda_tensorflow_p36)",
   "language": "python",
   "name": "conda_tensorflow_p36"
  },
  "language_info": {
   "codemirror_mode": {
    "name": "ipython",
    "version": 3
   },
   "file_extension": ".py",
   "mimetype": "text/x-python",
   "name": "python",
   "nbconvert_exporter": "python",
   "pygments_lexer": "ipython3",
   "version": "3.6.5"
  }
 },
 "nbformat": 4,
 "nbformat_minor": 2
}

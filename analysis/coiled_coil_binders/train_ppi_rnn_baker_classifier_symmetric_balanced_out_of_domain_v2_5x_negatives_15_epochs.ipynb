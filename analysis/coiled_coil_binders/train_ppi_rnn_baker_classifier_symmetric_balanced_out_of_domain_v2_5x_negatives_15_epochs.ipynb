{
 "cells": [
  {
   "cell_type": "code",
   "execution_count": 1,
   "metadata": {},
   "outputs": [
    {
     "name": "stderr",
     "output_type": "stream",
     "text": [
      "Using TensorFlow backend.\n"
     ]
    }
   ],
   "source": [
    "from __future__ import print_function\n",
    "import keras\n",
    "from keras.models import Sequential, Model, load_model\n",
    "from keras.layers import Dense, Dropout, Activation, Flatten, Input, Lambda\n",
    "from keras.layers import Conv1D, MaxPooling1D, Conv2D, MaxPooling2D, LSTM, GRU, CuDNNLSTM, CuDNNGRU, Masking, TimeDistributed, BatchNormalization\n",
    "from keras.layers import Concatenate, Reshape, Bidirectional, Softmax, LocallyConnected1D\n",
    "from keras.callbacks import ModelCheckpoint, EarlyStopping\n",
    "from keras import regularizers\n",
    "from keras import backend as K\n",
    "import keras.losses\n",
    "\n",
    "import tensorflow as tf\n",
    "\n",
    "import pandas as pd\n",
    "\n",
    "import math\n",
    "\n",
    "import os\n",
    "import pickle\n",
    "import numpy as np\n",
    "\n",
    "import scipy.sparse as sp\n",
    "import scipy.io as spio\n",
    "\n",
    "import matplotlib.pyplot as plt\n",
    "import matplotlib.cm as cm\n",
    "from mpl_toolkits.mplot3d import Axes3D\n",
    "\n",
    "import isolearn_keras as iso\n",
    "\n",
    "from sklearn.metrics import roc_curve, roc_auc_score\n",
    "from sklearn.metrics import precision_recall_curve, average_precision_score\n",
    "from sklearn.metrics import confusion_matrix\n",
    "\n",
    "from scipy.stats import pearsonr\n",
    "\n",
    "from keras.backend.tensorflow_backend import set_session\n",
    "\n",
    "def contain_tf_gpu_mem_usage() :\n",
    "    config = tf.ConfigProto()\n",
    "    config.gpu_options.allow_growth = True\n",
    "    sess = tf.Session(config=config)\n",
    "    set_session(sess)\n",
    "\n",
    "contain_tf_gpu_mem_usage()\n"
   ]
  },
  {
   "cell_type": "code",
   "execution_count": 2,
   "metadata": {},
   "outputs": [
    {
     "name": "stdout",
     "output_type": "stream",
     "text": [
      "len(pair_df) = 47524\n"
     ]
    }
   ],
   "source": [
    "#Load pair enrichment data\n",
    "\n",
    "pair_df = pd.read_csv('pair_df_all_experiments_w_extra_fields.csv', sep='\\t')\n",
    "\n",
    "print('len(pair_df) = ' + str(len(pair_df)))\n"
   ]
  },
  {
   "cell_type": "code",
   "execution_count": 3,
   "metadata": {},
   "outputs": [],
   "source": [
    "measured_df_a = pair_df[['monomer_id_1', 'amino_seq_1']].drop_duplicates(subset='amino_seq_1', keep='first').copy().reset_index(drop=True)\n",
    "measured_df_a = measured_df_a.rename(\n",
    "    columns = {\n",
    "        'monomer_id_1' : 'protein_id',\n",
    "        'amino_seq_1' : 'protein_seq'\n",
    "    }\n",
    ")\n",
    "\n",
    "measured_df_b = pair_df[['monomer_id_2', 'amino_seq_2']].drop_duplicates(subset='amino_seq_2', keep='first').copy().reset_index(drop=True)\n",
    "measured_df_b = measured_df_b.rename(\n",
    "    columns = {\n",
    "        'monomer_id_2' : 'protein_id',\n",
    "        'amino_seq_2' : 'protein_seq'\n",
    "    }\n",
    ")\n",
    "\n",
    "measured_df = pd.concat([measured_df_a, measured_df_b]).drop_duplicates(subset='protein_seq', keep='first').copy().reset_index(drop=True)\n"
   ]
  },
  {
   "cell_type": "code",
   "execution_count": 4,
   "metadata": {},
   "outputs": [],
   "source": [
    "\n",
    "candidate_dict = {}\n",
    "with open('180312_massive_set.fasta') as f :\n",
    "    i = 0\n",
    "    protein_id = ''\n",
    "    protein_str = ''\n",
    "    for line in f :\n",
    "        line_strip = line.strip()\n",
    "        if line_strip[0] == '>' :\n",
    "            if i > 0 :\n",
    "                candidate_dict[protein_id] = protein_str\n",
    "            protein_id = line_strip[1:]\n",
    "            protein_str = ''\n",
    "        else :\n",
    "            protein_str += line_strip\n",
    "        \n",
    "        i += 1\n",
    "\n",
    "candidate_dict[protein_id] = protein_str\n",
    "\n",
    "protein_ids = []\n",
    "protein_seqs = []\n",
    "for protein_id in candidate_dict :\n",
    "    protein_ids.append(protein_id)\n",
    "    protein_seqs.append(candidate_dict[protein_id])\n",
    "\n",
    "candidate_df = pd.DataFrame({\n",
    "    'protein_id' : protein_ids,\n",
    "    'protein_seq' : protein_seqs\n",
    "})\n",
    "\n",
    "candidate_df = candidate_df[['protein_id', 'protein_seq']]\n",
    "candidate_df = candidate_df.copy().reset_index(drop=True)\n",
    "\n",
    "candidate_df['orientation'] = candidate_df['protein_id'].apply(lambda x: x[-1])\n",
    "\n",
    "candidate_df_a = candidate_df.query(\"orientation == 'A'\").copy().reset_index(drop=True)\n",
    "candidate_df_b = candidate_df.query(\"orientation == 'B'\").copy().reset_index(drop=True)\n",
    "\n",
    "candidate_df_a['protein_id_cognate'] = candidate_df_a['protein_id'].apply(lambda x: x[:-1] + \"B\")\n",
    "\n",
    "pair_df = candidate_df_a.join(candidate_df_b.set_index('protein_id'), on='protein_id_cognate', how='inner', rsuffix='_cognate').copy().reset_index(drop=True)\n",
    "\n",
    "pair_df = pair_df.rename(\n",
    "    columns = {\n",
    "        'protein_id' : 'monomer_id_1',\n",
    "        'protein_seq' : 'amino_seq_1',\n",
    "        'orientation' : 'orientation_1',\n",
    "        'protein_id_cognate' : 'monomer_id_2',\n",
    "        'protein_seq_cognate' : 'amino_seq_2',\n",
    "        'orientation_cognate' : 'orientation_2'\n",
    "    }\n",
    ")\n",
    "\n",
    "pair_df['interacts'] = 1.\n"
   ]
  },
  {
   "cell_type": "code",
   "execution_count": 5,
   "metadata": {
    "scrolled": true
   },
   "outputs": [
    {
     "name": "stdout",
     "output_type": "stream",
     "text": [
      "len(pair_df) = 179871\n",
      "len(pair_df) = 179821\n"
     ]
    }
   ],
   "source": [
    "#Remove held-out experimentally assayed pairs\n",
    "\n",
    "print(\"len(pair_df) = \" + str(len(pair_df)))\n",
    "\n",
    "remove_ix_list = pair_df.join(measured_df.set_index('protein_seq'), on='amino_seq_2', how='inner')['monomer_id_1'].unique().tolist()\n",
    "\n",
    "pair_df = pair_df.loc[~pair_df['monomer_id_1'].isin(remove_ix_list)].copy().reset_index(drop=True)\n",
    "\n",
    "print(\"len(pair_df) = \" + str(len(pair_df)))\n"
   ]
  },
  {
   "cell_type": "code",
   "execution_count": 6,
   "metadata": {
    "scrolled": true
   },
   "outputs": [
    {
     "name": "stdout",
     "output_type": "stream",
     "text": [
      "Only positives: len(pair_df) = 179821\n",
      "After upsampling 0: len(pair_df) = 359641\n",
      "After upsampling 1: len(pair_df) = 539461\n",
      "After upsampling 2: len(pair_df) = 719281\n",
      "After upsampling 3: len(pair_df) = 899101\n",
      "After upsampling 4: len(pair_df) = 1078921\n"
     ]
    }
   ],
   "source": [
    "#Add 100% random negative interaction set\n",
    "\n",
    "upsampling_rate = 5\n",
    "\n",
    "print(\"Only positives: len(pair_df) = \" + str(len(pair_df)))\n",
    "\n",
    "pos_df = pair_df.copy().reset_index(drop=True)\n",
    "#Make dataframe even size\n",
    "if len(pos_df) % 2 == 1 :\n",
    "    pos_df = pos_df.iloc[:-1].copy().reset_index(drop=True)\n",
    "\n",
    "for upsample_ix in range(upsampling_rate) :\n",
    "    \n",
    "    #Shuffle dataframe\n",
    "    shuffle_index = np.arange(len(pos_df))\n",
    "    np.random.shuffle(shuffle_index)\n",
    "\n",
    "    pos_df = pos_df.iloc[shuffle_index].copy().reset_index(drop=True)\n",
    "\n",
    "    #Match to other half to get guaranteed negative interactions\n",
    "    neg_match_ix = np.arange(len(pos_df))[::-1]\n",
    "\n",
    "    neg_shuffle_df = pos_df.iloc[neg_match_ix][['monomer_id_2', 'amino_seq_2', 'orientation_2']].copy().reset_index(drop=True)\n",
    "\n",
    "    neg_pair_df = pos_df[['monomer_id_1', 'amino_seq_1', 'orientation_1']].copy().reset_index(drop=True)\n",
    "    neg_pair_df['monomer_id_2'] = neg_shuffle_df['monomer_id_2']\n",
    "    neg_pair_df['amino_seq_2'] = neg_shuffle_df['amino_seq_2']\n",
    "    neg_pair_df['orientation_2'] = neg_shuffle_df['orientation_2']\n",
    "    neg_pair_df['interacts'] = 0.\n",
    "\n",
    "    pair_df = pd.concat([pair_df, neg_pair_df]).copy().reset_index(drop=True)\n",
    "\n",
    "    print(\"After upsampling \" + str(upsample_ix) + \": len(pair_df) = \" + str(len(pair_df)))\n",
    "\n",
    "#Shuffle dataframe (again)\n",
    "shuffle_index = np.arange(len(pair_df))\n",
    "np.random.shuffle(shuffle_index)\n",
    "\n",
    "pair_df = pair_df.iloc[shuffle_index].copy().reset_index(drop=True)\n"
   ]
  },
  {
   "cell_type": "code",
   "execution_count": 7,
   "metadata": {},
   "outputs": [],
   "source": [
    "\n",
    "pair_df['design_1'] = pair_df['monomer_id_1'].apply(lambda c: c[:-1])\n",
    "pair_df['design_2'] = pair_df['monomer_id_2'].apply(lambda c: c[:-1])\n"
   ]
  },
  {
   "cell_type": "code",
   "execution_count": 3,
   "metadata": {},
   "outputs": [],
   "source": [
    "\n",
    "experiment = 'baker_big_set_5x_negatives'\n"
   ]
  },
  {
   "cell_type": "code",
   "execution_count": 9,
   "metadata": {
    "scrolled": true
   },
   "outputs": [],
   "source": [
    "designs = np.unique(list(pair_df['design_1'].unique()) + list(pair_df['design_2'].unique()))\n",
    "\n",
    "shuffle_index = np.arange(len(designs))\n",
    "np.random.shuffle(shuffle_index)\n",
    "\n",
    "designs = designs[shuffle_index].tolist()\n",
    "\n",
    "in_domain_size = 0.9\n",
    "\n",
    "in_designs = designs[:int(in_domain_size * len(designs))]\n",
    "out_designs = designs[len(in_designs):]\n",
    "\n",
    "import pickle\n",
    "\n",
    "'''\n",
    "pickle.dump({\n",
    "    'in_designs' : in_designs,\n",
    "    'out_designs' : out_designs\n",
    "}, open('design_partition_' + experiment + '.pickle', 'wb'))\n",
    "'''\n",
    "\n",
    "design_dict = pickle.load(open('design_partition_' + experiment + '.pickle', 'rb'))\n",
    "in_designs = design_dict['in_designs']\n",
    "out_designs = design_dict['out_designs']\n"
   ]
  },
  {
   "cell_type": "code",
   "execution_count": 10,
   "metadata": {},
   "outputs": [
    {
     "name": "stdout",
     "output_type": "stream",
     "text": [
      "890124\n",
      "188797\n"
     ]
    }
   ],
   "source": [
    "\n",
    "in_domain_df = pair_df.loc[pair_df['design_1'].isin(in_designs)].copy().reset_index(drop=True)\n",
    "in_domain_df = in_domain_df.loc[in_domain_df['design_2'].isin(in_designs)].copy().reset_index(drop=True)\n",
    "\n",
    "out_domain_df = pair_df.loc[pair_df['design_1'].isin(out_designs) | pair_df['design_2'].isin(out_designs)].copy().reset_index(drop=True)\n",
    "\n",
    "#out_domain_df = pair_df.loc[pair_df['design_1'].isin(out_designs)].copy().reset_index(drop=True)\n",
    "#out_domain_df = out_domain_df.loc[out_domain_df['design_2'].isin(out_designs)].copy().reset_index(drop=True)\n",
    "\n",
    "\n",
    "print(len(in_domain_df))\n",
    "\n",
    "print(len(out_domain_df))\n"
   ]
  },
  {
   "cell_type": "code",
   "execution_count": 11,
   "metadata": {
    "scrolled": true
   },
   "outputs": [
    {
     "name": "stdout",
     "output_type": "stream",
     "text": [
      "df = \n",
      "                                        monomer_id_1  \\\n",
      "0  redesigned_closed_5_6_9_10middlesscott_1_1_S_3...   \n",
      "1  redesigned_closed_5_6_9_10middlesbobby_1_1_S_3...   \n",
      "2  redesigned_closed_5_7_8_8middlesbobby_1_2_S_06...   \n",
      "3  redesigned_closed_6_7_7_9middlesbobby_1_6_S_06...   \n",
      "4  redesigned_closed_6_6_9_9middlesbobby_1_4_S_07...   \n",
      "\n",
      "                                        monomer_id_2  \\\n",
      "0  redesigned_closed_5_6_9_10middlesscott_1_1_S_3...   \n",
      "1  redesigned_closed_5_7_9_9middleszibo_1_1_zibo_...   \n",
      "2  redesigned_closed_6_6_9_9middlesscott_1_4_S_07...   \n",
      "3  redesigned_closed_5_7_9_10middlesbobby_1_1_S_5...   \n",
      "4  redesigned_closed_5_6_9_10middlesbobby_1_1_S_3...   \n",
      "\n",
      "                                         amino_seq_1  \\\n",
      "0  SKKELVEIAEQDVKNTRRLVELIREDVKLSKEAAKNTKDLDEIIKK...   \n",
      "1  DEKEILEIVREILEIHERSLKINDEQLEIVKEAETRRDDKDRIKRA...   \n",
      "2  SEDEVVKVAEKNARLLKRNIDLIEAIARLLEKAAKDSGKERVDTLL...   \n",
      "3  SEEELIKELEELLRDAKRKSEEFSKTQDEQAKKLKDRDKREVRDAL...   \n",
      "4  SEEDIVRRLEEIIKRSEEIAKRLREIIRESRELLDDSTKEALDRNA...   \n",
      "\n",
      "                                         amino_seq_2  interacts  \n",
      "0  SKKDLAEVIDRSLDQSKKLAELSREVLELIKVLAKNEVSEEMVKEI...        0.0  \n",
      "1  SEKEALEELAKALERAIKAHRDLDKLHEEILRILKKEVSEEAAKKL...        0.0  \n",
      "2  SLEKLVEEVIELQERNNELVKKLLELSKELEKDSSAEELAREYDKT...        0.0  \n",
      "3  DLEEQRRRVEEIVRKQTRQQERTDRILRTLKAAAEGRRREDVLRDL...        0.0  \n",
      "4  SLRELLEEIVKIVEDQNESDKENLKILRRALELSKKGASEEDKKRI...        0.0  \n",
      "df (shuffled) = \n",
      "                                        monomer_id_1  \\\n",
      "0  redesigned_closed_6_6_9_9middlesbobby_1_4_S_01...   \n",
      "1  redesigned_closed_6_8_9_9middlesbobby_1_4_S_40...   \n",
      "2  redesigned_closed_6_6_9_10middlesbobby_1_4_S_1...   \n",
      "3  redesigned_closed_5_7_9_9middlesbobby_1_1_S_43...   \n",
      "4  redesigned_closed_6_6_8_10middlesbobby_1_5_S_2...   \n",
      "\n",
      "                                        monomer_id_2  \\\n",
      "0  redesigned_closed_6_6_8_10middlesbobby_1_5_S_2...   \n",
      "1  redesigned_closed_5_7_8_10middlesbobby_1_2_S_0...   \n",
      "2  redesigned_closed_6_6_9_9middlesbobby_1_4_S_07...   \n",
      "3  redesigned_closed_5_6_9_9middlesbobby_1_1_S_25...   \n",
      "4  redesigned_closed_6_6_8_9middlesbobby_1_5_S_16...   \n",
      "\n",
      "                                         amino_seq_1  \\\n",
      "0  SEKDLLRLNREILEEIERIQKDLEELLERAERDAEGGLEELEKLVR...   \n",
      "1  SEKEVMKEQIRLIRENIKAQEEILRLLKELERKGVDKEVEEVIKRI...   \n",
      "2  DEEEILKILEENLRIQREIDRIHEEQVKALERITRRREDREEIEKL...   \n",
      "3  STEDIARELRKIIRRDKESKKEIKRVHDEQRELAKDAEDSRVVRRL...   \n",
      "4  SEKEIIKRLNKLNEDLTRLLETYRRLVEEVERAGALEEELRRRQRE...   \n",
      "\n",
      "                                         amino_seq_2  interacts  \n",
      "0  TSEENVERQREHVRTTDEAIKEMEKIIRLLEVVARGEMDRDELRKV...        0.0  \n",
      "1  STEEVERIVEEVERISRRVVEISRRVVEKIRELIRRMKNERLVELL...        0.0  \n",
      "2  RTRELLDEHRKLLEEQERQTKQDEELLREVERRLREELIEMAKDVQ...        0.0  \n",
      "3  GKEEVLEVAKRLLELQEKLQRLHEELQRILDDIVRRKNADDTLVRR...        0.0  \n",
      "4  SEKEELKRLLEESNKLLELVKEQLRLAEDALRKIAKKARGEVEILE...        0.0  \n",
      "df = \n",
      "                                        monomer_id_1  \\\n",
      "0  redesigned_closed_8_8_7_8middlesbobby_2_3_S_10...   \n",
      "1  redesigned_closed_6_7_8_8middlesscott_1_5_S_29...   \n",
      "2  redesigned_closed_5_7_9_9middlesbobby_1_1_S_43...   \n",
      "3  redesigned_closed_6_7_8_10middlesscott_1_5_S_4...   \n",
      "4  redesigned_closed_5_8_9_9middlesbobby_1_1_S_58...   \n",
      "\n",
      "                                        monomer_id_2  \\\n",
      "0  redesigned_closed_5_6_9_10middlesbobby_1_1_S_3...   \n",
      "1  redesigned_closed_6_6_9_9middlesbobby_1_4_S_07...   \n",
      "2  redesigned_closed_6_6_8_9middlesbobby_1_5_S_12...   \n",
      "3  redesigned_closed_5_7_9_9middlesscott_1_1_S_39...   \n",
      "4  redesigned_closed_5_6_9_10middlesbobby_1_1_S_3...   \n",
      "\n",
      "                                         amino_seq_1  \\\n",
      "0  SLDEEIERTLKELEESLRELRRLLEELRRVAKKLADRGADRELLEL...   \n",
      "1  SAEEELKRLVEEIKRLVDESKEALDEVRRSVKEIADREGSENENVE...   \n",
      "2  SAEEIKKRLDDLVRQLEESKKVSEEHTKLLDEVERDAKIEALRRAI...   \n",
      "3  SEEEIIRKLKEVAKKHTKVVEKQKRSLEKLRRRFEEREVVREWLES...   \n",
      "4  SEEDLLRELDDILREQEDLLRRLDEINKRQKEMDKNNRPDEELLDS...   \n",
      "\n",
      "                                         amino_seq_2  interacts  \n",
      "0  SIEELLRLSEQLLQNQRRLTEIAERLIRLLEKLIREEKNDDLVREI...        0.0  \n",
      "1  SAEEILETILELLREYIKLSEDHARLSETIADLAKRGTREKDLKKL...        0.0  \n",
      "2  SKMELSEEQVKLTKKSVKLVREIVDLVRKVVELIKRNQEVRERLKD...        0.0  \n",
      "3  SREEKLDEILDRIEKILREDRKLQEENKKLLEDLKKKEVSEELREI...        0.0  \n",
      "4  SLEELLRVLEELLRLQRESNELQDRILELMRRITDENDEEAKEILK...        0.0  \n",
      "df (shuffled) = \n",
      "                                        monomer_id_1  \\\n",
      "0  redesigned_closed_6_6_9_9middlesbobby_1_4_S_08...   \n",
      "1  redesigned_closed_7_7_7_9middlesbobby_1_9_S_21...   \n",
      "2  redesigned_closed_5_7_9_9middlesbobby_1_1_S_43...   \n",
      "3  redesigned_closed_5_7_9_9middlesbobby_1_1_S_43...   \n",
      "4  redesigned_closed_5_7_9_9middlesbobby_1_1_S_39...   \n",
      "\n",
      "                                        monomer_id_2  \\\n",
      "0  redesigned_closed_6_6_9_9middlesbobby_1_4_S_08...   \n",
      "1  redesigned_closed_7_7_7_9middlesbobby_1_9_S_21...   \n",
      "2  redesigned_closed_6_8_7_7middlesbobby_1_6_S_07...   \n",
      "3  redesigned_closed_6_6_9_9middlesbobby_1_4_S_07...   \n",
      "4  redesigned_closed_5_6_9_10middlesscott_1_1_S_3...   \n",
      "\n",
      "                                         amino_seq_1  \\\n",
      "0  TREKLLKVLRELLRAQKELLKVIKKTVEVARLLTEGNLRKEEAEEI...   \n",
      "1  DEEDILRRQLRLLERQIDALRRVLELNEELLKDMRKEIVTELLKIH...   \n",
      "2  GLEEALKLVKENLDLLRKNARILKEILKVLEELVKRENLDRTLLDR...   \n",
      "3  SIEELLELARRNLELLKRLLEILDENVELLAEAARTTDKDRLEELS...   \n",
      "4  SKKEIVEALVRANEENLRSLEESVKSLKELLELARNNAREEDLERV...   \n",
      "\n",
      "                                         amino_seq_2  interacts  \n",
      "0  TTRELLDEVLELVKESDKLVEELQKIQKRVLDVLREGRILRELMEE...        1.0  \n",
      "1  SHTEQHERVSRESARILERIEEILRELEELVKKQEEMSEEDHKRVQ...        0.0  \n",
      "2  KKEEVLRRSREMAKKSEEILDKSRKVVEILRRILELLKSKVSGRED...        0.0  \n",
      "3  SEEELVKEIERLVRKYEEIVKRQEEVLRRLKELMERGKLDDREIKR...        0.0  \n",
      "4  DSEEIFRLNEEIVKRVKDIVRKVREQVERVKKIAKGELSEEEVKRV...        0.0  \n"
     ]
    }
   ],
   "source": [
    "#Create filtered, shuffled dataframe and cache it\n",
    "\n",
    "'''\n",
    "minimal_in_domain_df = in_domain_df.copy().reset_index(drop=True)\n",
    "\n",
    "minimal_in_domain_df = minimal_in_domain_df[[\n",
    "    'monomer_id_1',\n",
    "    'monomer_id_2',\n",
    "    'amino_seq_1',\n",
    "    'amino_seq_2',\n",
    "    'interacts'\n",
    "]]\n",
    "\n",
    "print(\"df = \")\n",
    "print(minimal_in_domain_df.head())\n",
    "\n",
    "minimal_in_domain_df.to_csv(\"pair_df_\" + experiment + \"_in.csv\", sep=\"\\t\")\n",
    "\n",
    "shuffle_index = np.arange(len(minimal_in_domain_df))\n",
    "np.random.shuffle(shuffle_index)\n",
    "\n",
    "minimal_in_domain_df = minimal_in_domain_df.iloc[shuffle_index].copy().reset_index(drop=True)\n",
    "\n",
    "print(\"df (shuffled) = \")\n",
    "print(minimal_in_domain_df.head())\n",
    "\n",
    "minimal_in_domain_df.to_csv(\"pair_df_\" + experiment + \"_in_shuffled.csv\", sep=\"\\t\")\n",
    "\n",
    "\n",
    "minimal_out_domain_df = out_domain_df.copy().reset_index(drop=True)\n",
    "\n",
    "minimal_out_domain_df = minimal_out_domain_df[[\n",
    "    'monomer_id_1',\n",
    "    'monomer_id_2',\n",
    "    'amino_seq_1',\n",
    "    'amino_seq_2',\n",
    "    'interacts'\n",
    "]]\n",
    "\n",
    "print(\"df = \")\n",
    "print(minimal_out_domain_df.head())\n",
    "\n",
    "minimal_out_domain_df.to_csv(\"pair_df_\" + experiment + \"_out.csv\", sep=\"\\t\")\n",
    "\n",
    "shuffle_index = np.arange(len(minimal_out_domain_df))\n",
    "np.random.shuffle(shuffle_index)\n",
    "\n",
    "minimal_out_domain_df = minimal_out_domain_df.iloc[shuffle_index].copy().reset_index(drop=True)\n",
    "\n",
    "print(\"df (shuffled) = \")\n",
    "print(minimal_out_domain_df.head())\n",
    "\n",
    "minimal_out_domain_df.to_csv(\"pair_df_\" + experiment + \"_out_shuffled.csv\", sep=\"\\t\")\n",
    "'''\n"
   ]
  },
  {
   "cell_type": "code",
   "execution_count": 4,
   "metadata": {},
   "outputs": [
    {
     "name": "stdout",
     "output_type": "stream",
     "text": [
      "len(pair_df) = 890124\n",
      "   Unnamed: 0                                       monomer_id_1  \\\n",
      "0           0  redesigned_closed_6_6_9_9middlesbobby_1_4_S_01...   \n",
      "1           1  redesigned_closed_6_8_9_9middlesbobby_1_4_S_40...   \n",
      "2           2  redesigned_closed_6_6_9_10middlesbobby_1_4_S_1...   \n",
      "3           3  redesigned_closed_5_7_9_9middlesbobby_1_1_S_43...   \n",
      "4           4  redesigned_closed_6_6_8_10middlesbobby_1_5_S_2...   \n",
      "\n",
      "                                        monomer_id_2  \\\n",
      "0  redesigned_closed_6_6_8_10middlesbobby_1_5_S_2...   \n",
      "1  redesigned_closed_5_7_8_10middlesbobby_1_2_S_0...   \n",
      "2  redesigned_closed_6_6_9_9middlesbobby_1_4_S_07...   \n",
      "3  redesigned_closed_5_6_9_9middlesbobby_1_1_S_25...   \n",
      "4  redesigned_closed_6_6_8_9middlesbobby_1_5_S_16...   \n",
      "\n",
      "                                         amino_seq_1  \\\n",
      "0  SEKDLLRLNREILEEIERIQKDLEELLERAERDAEGGLEELEKLVR...   \n",
      "1  SEKEVMKEQIRLIRENIKAQEEILRLLKELERKGVDKEVEEVIKRI...   \n",
      "2  DEEEILKILEENLRIQREIDRIHEEQVKALERITRRREDREEIEKL...   \n",
      "3  STEDIARELRKIIRRDKESKKEIKRVHDEQRELAKDAEDSRVVRRL...   \n",
      "4  SEKEIIKRLNKLNEDLTRLLETYRRLVEEVERAGALEEELRRRQRE...   \n",
      "\n",
      "                                         amino_seq_2  interacts  \n",
      "0  TSEENVERQREHVRTTDEAIKEMEKIIRLLEVVARGEMDRDELRKV...        0.0  \n",
      "1  STEEVERIVEEVERISRRVVEISRRVVEKIRELIRRMKNERLVELL...        0.0  \n",
      "2  RTRELLDEHRKLLEEQERQTKQDEELLREVERRLREELIEMAKDVQ...        0.0  \n",
      "3  GKEEVLEVAKRLLELQEKLQRLHEELQRILDDIVRRKNADDTLVRR...        0.0  \n",
      "4  SEKEELKRLLEESNKLLELVKEQLRLAEDALRKIAKKARGEVEILE...        0.0  \n",
      "Training set size = 801112\n",
      "Validation set size = 44506\n",
      "Test set size = 44506\n"
     ]
    }
   ],
   "source": [
    "#Re-load cached dataframe (shuffled)\n",
    "\n",
    "experiment = \"baker_big_set_5x_negatives\"\n",
    "\n",
    "pair_df = pd.read_csv(\"pair_df_\" + experiment + \"_in_shuffled.csv\", sep=\"\\t\")\n",
    "\n",
    "print(\"len(pair_df) = \" + str(len(pair_df)))\n",
    "\n",
    "print(pair_df.head())\n",
    "\n",
    "#Generate training and test set indexes\n",
    "valid_set_size = 0.05\n",
    "test_set_size = 0.05\n",
    "\n",
    "data_index = np.arange(len(pair_df), dtype=np.int)\n",
    "\n",
    "train_index = data_index[:-int(len(pair_df) * (valid_set_size + test_set_size))]\n",
    "valid_index = data_index[train_index.shape[0]:-int(len(pair_df) * test_set_size)]\n",
    "test_index = data_index[train_index.shape[0] + valid_index.shape[0]:]\n",
    "\n",
    "print('Training set size = ' + str(train_index.shape[0]))\n",
    "print('Validation set size = ' + str(valid_index.shape[0]))\n",
    "print('Test set size = ' + str(test_index.shape[0]))\n"
   ]
  },
  {
   "cell_type": "code",
   "execution_count": 5,
   "metadata": {},
   "outputs": [
    {
     "name": "stdout",
     "output_type": "stream",
     "text": [
      "n_interact = 161838\n",
      "n_nointeract = 728286\n",
      "(train) n_interact = 145587\n",
      "(train) n_nointeract = 655525\n",
      "(test) n_interact = 8073\n",
      "(test) n_nointeract = 36433\n"
     ]
    }
   ],
   "source": [
    "print(\"n_interact = \" + str(len(pair_df.query(\"interacts == 1.0\"))))\n",
    "print(\"n_nointeract = \" + str(len(pair_df.query(\"interacts == 0.0\"))))\n",
    "\n",
    "print(\"(train) n_interact = \" + str(len(pair_df.iloc[train_index].query(\"interacts == 1.0\"))))\n",
    "print(\"(train) n_nointeract = \" + str(len(pair_df.iloc[train_index].query(\"interacts == 0.0\"))))\n",
    "\n",
    "print(\"(test) n_interact = \" + str(len(pair_df.iloc[test_index].query(\"interacts == 1.0\"))))\n",
    "print(\"(test) n_nointeract = \" + str(len(pair_df.iloc[test_index].query(\"interacts == 0.0\"))))"
   ]
  },
  {
   "cell_type": "code",
   "execution_count": 6,
   "metadata": {},
   "outputs": [
    {
     "name": "stdout",
     "output_type": "stream",
     "text": [
      "Max seq length = 81\n"
     ]
    }
   ],
   "source": [
    "#Calculate max seq length\n",
    "max_seq_len = 0\n",
    "for _, row in pair_df.iterrows() :\n",
    "    max_seq_len = max(max_seq_len, len(row['amino_seq_1']))\n",
    "    max_seq_len = max(max_seq_len, len(row['amino_seq_2']))\n",
    "\n",
    "print(\"Max seq length = \" + str(max_seq_len))"
   ]
  },
  {
   "cell_type": "code",
   "execution_count": 7,
   "metadata": {},
   "outputs": [],
   "source": [
    "\n",
    "class IdentityEncoder(iso.SequenceEncoder) :\n",
    "    \n",
    "    def __init__(self, seq_len, channel_map) :\n",
    "        super(IdentityEncoder, self).__init__('identity', (seq_len, len(channel_map)))\n",
    "        \n",
    "        self.seq_len = seq_len\n",
    "        self.n_channels = len(channel_map)\n",
    "        self.encode_map = channel_map\n",
    "    \n",
    "    def encode(self, seq) :\n",
    "        encoding = np.zeros((self.seq_len, self.n_channels))\n",
    "        \n",
    "        for i in range(len(seq)) :\n",
    "            channel_ix = self.encode_map[seq[i]]\n",
    "            encoding[i, channel_ix] = 1.\n",
    "\n",
    "        return encoding\n",
    "    \n",
    "    def encode_inplace(self, seq, encoding) :\n",
    "        for i in range(len(seq)) :\n",
    "            channel_ix = self.encode_map[seq[i]]\n",
    "            encoding[i, channel_ix] = 1.\n",
    "    \n",
    "    def encode_inplace_sparse(self, seq, encoding_mat, row_index) :\n",
    "        raise NotImplementError()\n",
    "    \n",
    "    def decode(self, encoding) :\n",
    "        raise NotImplementError()\n",
    "    \n",
    "    def decode_sparse(self, encoding_mat, row_index) :\n",
    "        raise NotImplementError()\n",
    "\n",
    "class NopTransformer(iso.ValueTransformer) :\n",
    "    \n",
    "    def __init__(self, n_classes) :\n",
    "        super(NopTransformer, self).__init__('nop', (n_classes, ))\n",
    "        \n",
    "        self.n_classes = n_classes\n",
    "    \n",
    "    def transform(self, values) :\n",
    "        return values\n",
    "    \n",
    "    def transform_inplace(self, values, transform) :\n",
    "        transform[:] = values\n",
    "    \n",
    "    def transform_inplace_sparse(self, values, transform_mat, row_index) :\n",
    "        transform_mat[row_index, :] = np.ravel(values)\n"
   ]
  },
  {
   "cell_type": "code",
   "execution_count": null,
   "metadata": {},
   "outputs": [],
   "source": [
    "#Compile residue encoding\n",
    "residue_map = {}\n",
    "\n",
    "for _, row in pair_df.iterrows():\n",
    "    \n",
    "    residue_types = list(row['amino_seq_1']) + list(row['amino_seq_2'])\n",
    "    \n",
    "    for res_type in residue_types :\n",
    "        if res_type not in residue_map :\n",
    "            residue_map[res_type] = len(residue_map)\n",
    "\n",
    "residue_map['#'] = len(residue_map)\n",
    "\n",
    "print(residue_map)"
   ]
  },
  {
   "cell_type": "code",
   "execution_count": 8,
   "metadata": {},
   "outputs": [],
   "source": [
    "residue_map = {'D': 0, 'E': 1, 'V': 2, 'K': 3, 'R': 4, 'L': 5, 'S': 6, 'T': 7, 'N': 8, 'H': 9, 'A': 10, 'I': 11, 'G': 12, 'P': 13, 'Q': 14, 'Y': 15, 'W': 16, 'M': 17, 'F': 18, '#': 19}"
   ]
  },
  {
   "cell_type": "code",
   "execution_count": 9,
   "metadata": {},
   "outputs": [],
   "source": [
    "#Construct data generators\n",
    "\n",
    "class CategoricalRandomizer :\n",
    "    \n",
    "    def __init__(self, case_range, case_probs) :\n",
    "        self.case_range = case_range\n",
    "        self.case_probs = case_probs\n",
    "        self.cases = 0\n",
    "        \n",
    "    def get_random_sample(self, index=None) :\n",
    "        if index is None :\n",
    "            return self.cases\n",
    "        else :\n",
    "            return self.cases[index]\n",
    "    \n",
    "    def generate_random_sample(self, batch_size=1) :\n",
    "        self.cases = np.random.choice(self.case_range, size=batch_size, replace=True, p=self.case_probs)\n",
    "\n",
    "def get_amino_seq(row, index, flip_randomizer, homodimer_randomizer, max_seq_len=max_seq_len) :\n",
    "    \n",
    "    is_flip = True if flip_randomizer.get_random_sample(index=index) == 1 else False\n",
    "    is_homodimer = True if homodimer_randomizer.get_random_sample(index=index) == 1 else False\n",
    "    \n",
    "    amino_seq_1, amino_seq_2 = row['amino_seq_1'], row['amino_seq_2']\n",
    "    if is_flip :\n",
    "        amino_seq_1, amino_seq_2 = row['amino_seq_2'], row['amino_seq_1']\n",
    "    if is_homodimer and row['interacts'] < 0.5 :\n",
    "        amino_seq_2 = amino_seq_1\n",
    "    \n",
    "    #amino_seq_1 = ((\"#\" * np.random.randint(0, high=max_seq_len - len(amino_seq_1) + 1)) + amino_seq_1 + \"#\" * max_seq_len)[:max_seq_len]\n",
    "    #amino_seq_2 = ((\"#\" * np.random.randint(0, high=max_seq_len - len(amino_seq_2) + 1)) + amino_seq_2 + \"#\" * max_seq_len)[:max_seq_len]\n",
    "    \n",
    "    return amino_seq_1, amino_seq_2\n",
    "\n",
    "flip_randomizer = CategoricalRandomizer(np.arange(2), np.array([0.5, 0.5]))\n",
    "homodimer_randomizer = CategoricalRandomizer(np.arange(2), np.array([0.95, 0.05]))\n",
    "\n",
    "\n",
    "data_gens = {\n",
    "    gen_id : iso.DataGenerator(\n",
    "        idx,\n",
    "        { 'df' : pair_df },\n",
    "        batch_size=32,\n",
    "        inputs = [\n",
    "            {\n",
    "                'id' : 'amino_seq_1',\n",
    "                'source_type' : 'dataframe',\n",
    "                'source' : 'df',\n",
    "                'extractor' : lambda row, index, flip_randomizer=flip_randomizer, homodimer_randomizer=homodimer_randomizer: get_amino_seq(row, index, flip_randomizer, homodimer_randomizer)[0],\n",
    "                'encoder' : IdentityEncoder(max_seq_len, residue_map),\n",
    "                'dim' : (max_seq_len, len(residue_map)),\n",
    "                'sparsify' : False\n",
    "            },\n",
    "            {\n",
    "                'id' : 'amino_seq_2',\n",
    "                'source_type' : 'dataframe',\n",
    "                'source' : 'df',\n",
    "                'extractor' : lambda row, index, flip_randomizer=flip_randomizer, homodimer_randomizer=homodimer_randomizer: get_amino_seq(row, index, flip_randomizer, homodimer_randomizer)[1],\n",
    "                'encoder' : IdentityEncoder(max_seq_len, residue_map),\n",
    "                'dim' : (max_seq_len, len(residue_map)),\n",
    "                'sparsify' : False\n",
    "            }\n",
    "            #,\n",
    "            #{\n",
    "            #    'id' : 'interacts',\n",
    "            #    'source_type' : 'dataframe',\n",
    "            #    'source' : 'df',\n",
    "            #    'extractor' : lambda row, index: row['interacts'],\n",
    "            #    'dim' : (1,),\n",
    "            #    'sparsify' : False\n",
    "            #}\n",
    "        ],\n",
    "        outputs = [\n",
    "            #{\n",
    "            #    'id' : 'dummy_output',\n",
    "            #    'source_type' : 'zeros',\n",
    "            #    'dim' : (1,),\n",
    "            #    'sparsify' : False\n",
    "            #}\n",
    "            {\n",
    "                'id' : 'interacts',\n",
    "                'source_type' : 'dataframe',\n",
    "                'source' : 'df',\n",
    "                'extractor' : lambda row, index: row['interacts'],\n",
    "                'transformer' : NopTransformer(1),\n",
    "                'dim' : (1,),\n",
    "                'sparsify' : False\n",
    "            }\n",
    "        ],\n",
    "        randomizers = [flip_randomizer, homodimer_randomizer],\n",
    "        shuffle = True\n",
    "    ) for gen_id, idx in [('train', train_index), ('valid', valid_index), ('test', test_index)]\n",
    "}\n"
   ]
  },
  {
   "cell_type": "code",
   "execution_count": 18,
   "metadata": {},
   "outputs": [
    {
     "name": "stdout",
     "output_type": "stream",
     "text": [
      "11 ms ± 62.8 µs per loop (mean ± std. dev. of 7 runs, 100 loops each)\n"
     ]
    }
   ],
   "source": [
    "%timeit data_gens['train'][0]"
   ]
  },
  {
   "cell_type": "code",
   "execution_count": 10,
   "metadata": {},
   "outputs": [],
   "source": [
    "#Keras loss functions\n",
    "\n",
    "def sigmoid_nll(y_true, y_pred) : #(inputs) :\n",
    "    #y_true, y_pred = inputs\n",
    "    \n",
    "    y_pred = K.clip(y_pred, K.epsilon(), 1.0 - K.epsilon())\n",
    "    \n",
    "    return K.mean(-y_true * K.log(y_pred) - (1.0 - y_true) * K.log(1.0 - y_pred), axis=-1)\n",
    "\n",
    "def mean_squared_error(inputs) :\n",
    "    y_true, y_pred = inputs\n",
    "    \n",
    "    return K.mean(K.square(y_pred - y_true), axis=-1)\n",
    "\n",
    "def mean_absolute_error(inputs) :\n",
    "    y_true, y_pred = inputs\n",
    "    \n",
    "    return K.mean(K.abs(y_pred - y_true), axis=-1)\n"
   ]
  },
  {
   "cell_type": "code",
   "execution_count": 11,
   "metadata": {},
   "outputs": [
    {
     "name": "stdout",
     "output_type": "stream",
     "text": [
      "WARNING:tensorflow:From /home/ubuntu/anaconda3/envs/tensorflow_p36/lib/python3.6/site-packages/tensorflow/python/framework/op_def_library.py:263: colocate_with (from tensorflow.python.framework.ops) is deprecated and will be removed in a future version.\n",
      "Instructions for updating:\n",
      "Colocations handled automatically by placer.\n",
      "WARNING:tensorflow:From /home/ubuntu/anaconda3/envs/tensorflow_p36/lib/python3.6/site-packages/keras/backend/tensorflow_backend.py:3445: calling dropout (from tensorflow.python.ops.nn_ops) with keep_prob is deprecated and will be removed in a future version.\n",
      "Instructions for updating:\n",
      "Please use `rate` instead of `keep_prob`. Rate should be set to `rate = 1 - keep_prob`.\n"
     ]
    }
   ],
   "source": [
    "#RNN architecture sandbox\n",
    "\n",
    "save_dir = os.path.join(os.getcwd(), 'saved_models')\n",
    "\n",
    "checkpoint_dir = os.path.join(os.getcwd(), 'model_checkpoints')\n",
    "if not os.path.isdir(checkpoint_dir):\n",
    "    os.makedirs(checkpoint_dir)\n",
    "\n",
    "#Shared model definition\n",
    "\n",
    "def get_shared_model() :\n",
    "    \n",
    "    gru_1 = Bidirectional(CuDNNGRU(64, return_sequences=False), merge_mode='concat')\n",
    "    \n",
    "    drop_1 = Dropout(0.25)\n",
    "\n",
    "    def shared_model(inp) :\n",
    "\n",
    "        gru_1_out = gru_1(inp)\n",
    "        \n",
    "        drop_1_out = drop_1(gru_1_out)\n",
    "\n",
    "        return drop_1_out\n",
    "    \n",
    "    return shared_model\n",
    "\n",
    "\n",
    "shared_model = get_shared_model()\n",
    "\n",
    "#Inputs\n",
    "res_1 = Input(shape=(max_seq_len, 19 + 1))\n",
    "res_2 = Input(shape=(max_seq_len, 19 + 1))\n",
    "\n",
    "#Outputs\n",
    "true_interacts = Input(shape=(1,))\n",
    "\n",
    "#Interaction model definition\n",
    "dense_out_1 = shared_model(res_1)\n",
    "dense_out_2 = shared_model(res_2)\n",
    "\n",
    "layer_dense_pair_1 = Dense(128, activation='relu')\n",
    "#layer_drop_pair_1 = Dropout(0.5)\n",
    "dense_out_pair = layer_dense_pair_1(Concatenate(axis=-1)([dense_out_1, dense_out_2]))\n",
    "\n",
    "pred_interacts = Dense(1, activation='sigmoid', kernel_initializer='zeros')(dense_out_pair)\n",
    "\n",
    "interaction_model = Model(\n",
    "    inputs=[\n",
    "        res_1,\n",
    "        res_2\n",
    "    ],\n",
    "    outputs=pred_interacts\n",
    ")\n"
   ]
  },
  {
   "cell_type": "code",
   "execution_count": 13,
   "metadata": {
    "scrolled": false
   },
   "outputs": [
    {
     "name": "stdout",
     "output_type": "stream",
     "text": [
      "WARNING:tensorflow:From /home/ubuntu/anaconda3/envs/tensorflow_p36/lib/python3.6/site-packages/tensorflow/python/ops/math_ops.py:3066: to_int32 (from tensorflow.python.ops.math_ops) is deprecated and will be removed in a future version.\n",
      "Instructions for updating:\n",
      "Use tf.cast instead.\n",
      "Epoch 1/15\n",
      "25034/25034 [==============================] - 1557s 62ms/step - loss: 0.4740 - val_loss: 0.4638\n",
      "Epoch 2/15\n",
      "25034/25034 [==============================] - 1553s 62ms/step - loss: 0.3971 - val_loss: 0.3269\n",
      "Epoch 3/15\n",
      "25034/25034 [==============================] - 1555s 62ms/step - loss: 0.3001 - val_loss: 0.2666\n",
      "Epoch 4/15\n",
      "25034/25034 [==============================] - 1555s 62ms/step - loss: 0.2696 - val_loss: 0.2494\n",
      "Epoch 5/15\n",
      "25034/25034 [==============================] - 1554s 62ms/step - loss: 0.2478 - val_loss: 0.2253\n",
      "Epoch 6/15\n",
      "25034/25034 [==============================] - 1558s 62ms/step - loss: 0.2337 - val_loss: 0.2162\n",
      "Epoch 7/15\n",
      "25034/25034 [==============================] - 1557s 62ms/step - loss: 0.2238 - val_loss: 0.2176\n",
      "Epoch 8/15\n",
      "25034/25034 [==============================] - 1556s 62ms/step - loss: 0.2174 - val_loss: 0.2002\n",
      "Epoch 9/15\n",
      "25034/25034 [==============================] - 1556s 62ms/step - loss: 0.2113 - val_loss: 0.1995\n",
      "Epoch 10/15\n",
      "25034/25034 [==============================] - 1556s 62ms/step - loss: 0.2069 - val_loss: 0.1933\n",
      "Epoch 11/15\n",
      "25034/25034 [==============================] - 1556s 62ms/step - loss: 0.2030 - val_loss: 0.1954\n",
      "Epoch 12/15\n",
      "25034/25034 [==============================] - 1812s 72ms/step - loss: 0.1992 - val_loss: 0.1894\n",
      "Epoch 13/15\n",
      "25034/25034 [==============================] - 1557s 62ms/step - loss: 0.1959 - val_loss: 0.1843\n",
      "Epoch 14/15\n",
      "25034/25034 [==============================] - 1557s 62ms/step - loss: 0.1929 - val_loss: 0.1882\n",
      "Epoch 15/15\n",
      "25034/25034 [==============================] - 1556s 62ms/step - loss: 0.1900 - val_loss: 0.1793\n"
     ]
    },
    {
     "data": {
      "text/plain": [
       "<keras.callbacks.History at 0x7f05b84acbe0>"
      ]
     },
     "execution_count": 13,
     "metadata": {},
     "output_type": "execute_result"
    }
   ],
   "source": [
    "#Fit model\n",
    "epochs = 15\n",
    "\n",
    "opt = keras.optimizers.Adam(lr=0.001, beta_1=0.9, beta_2=0.999)\n",
    "\n",
    "#loss_model.compile(loss=lambda true, pred: pred, optimizer=opt)\n",
    "interaction_model.compile(loss=sigmoid_nll, optimizer=opt)\n",
    "\n",
    "chkpt_name = 'ppi_rnn_' + experiment + '_classifier_symmetric_drop_25_5x_negatives_balanced_partitioned_data'\n",
    "\n",
    "callbacks =[\n",
    "    EarlyStopping(monitor='val_loss', min_delta=0.001, patience=3, verbose=0, mode='auto'),\n",
    "    ModelCheckpoint(filepath='saved_models/' + chkpt_name + '_epoch_{epoch:02d}.h5')\n",
    "]\n",
    "\n",
    "interaction_model.fit_generator(generator=data_gens['train'],\n",
    "                    validation_data=data_gens['valid'],\n",
    "                    epochs=epochs,\n",
    "                    use_multiprocessing=True,\n",
    "                    workers=4,\n",
    "                    callbacks=callbacks)\n"
   ]
  },
  {
   "cell_type": "code",
   "execution_count": 14,
   "metadata": {},
   "outputs": [
    {
     "name": "stdout",
     "output_type": "stream",
     "text": [
      "Saved trained model at /home/ubuntu/deep-protein-interaction/saved_models/ppi_rnn_baker_big_set_5x_negatives_classifier_symmetric_drop_25_5x_negatives_balanced_partitioned_data_15_epochs.h5 \n"
     ]
    }
   ],
   "source": [
    "# Save model and weights\n",
    "save_dir = os.path.join(os.getcwd(), 'saved_models')\n",
    "\n",
    "if not os.path.isdir(save_dir):\n",
    "    os.makedirs(save_dir)\n",
    "\n",
    "model_name = 'ppi_rnn_' + experiment + '_classifier_symmetric_drop_25_5x_negatives_balanced_partitioned_data_15_epochs.h5'\n",
    "model_path = os.path.join(save_dir, model_name)\n",
    "interaction_model.save(model_path)\n",
    "print('Saved trained model at %s ' % model_path)\n"
   ]
  },
  {
   "cell_type": "code",
   "execution_count": 17,
   "metadata": {},
   "outputs": [],
   "source": [
    "#Load model\n",
    "\n",
    "keras.losses.sigmoid_nll = sigmoid_nll\n",
    "\n",
    "save_dir = os.path.join(os.getcwd(), 'saved_models')\n",
    "model_name = 'ppi_rnn_baker_big_set_5x_negatives_classifier_symmetric_drop_25_5x_negatives_balanced_partitioned_data_epoch_10.h5'\n",
    "\n",
    "if not os.path.isdir(save_dir):\n",
    "    os.makedirs(save_dir)\n",
    "model_path = os.path.join(save_dir, model_name)\n",
    "\n",
    "model = load_model(model_path)"
   ]
  },
  {
   "cell_type": "code",
   "execution_count": 18,
   "metadata": {},
   "outputs": [],
   "source": [
    "import pickle\n",
    "from scipy.stats import pearsonr\n",
    "\n",
    "import seaborn as sns\n",
    "\n",
    "class NopTransformer(iso.ValueTransformer) :\n",
    "    \n",
    "    def __init__(self, n_classes) :\n",
    "        super(NopTransformer, self).__init__('nop', (n_classes, ))\n",
    "        \n",
    "        self.n_classes = n_classes\n",
    "    \n",
    "    def transform(self, values) :\n",
    "        return values\n",
    "    \n",
    "    def transform_inplace(self, values, transform) :\n",
    "        transform[:] = values\n",
    "    \n",
    "    def transform_inplace_sparse(self, values, transform_mat, row_index) :\n",
    "        transform_mat[row_index, :] = np.ravel(values)\n",
    "\n",
    "\n",
    "#Re-load cached dataframe (shuffled)\n",
    "\n",
    "def evaluate_on_data(model, pair_df, valid_set_size, test_set_size) :\n",
    "\n",
    "    data_index = np.arange(len(pair_df), dtype=np.int)\n",
    "\n",
    "    train_index = data_index[:-int(len(pair_df) * (valid_set_size + test_set_size))]\n",
    "    valid_index = data_index[train_index.shape[0]:-int(len(pair_df) * test_set_size)]\n",
    "    test_index = data_index[train_index.shape[0] + valid_index.shape[0]:]\n",
    "\n",
    "    print('Training set size = ' + str(train_index.shape[0]))\n",
    "    print('Validation set size = ' + str(valid_index.shape[0]))\n",
    "    print('Test set size = ' + str(test_index.shape[0]))\n",
    "\n",
    "    batch_size = 32\n",
    "\n",
    "    all_gen, train_gen, test_gen = [\n",
    "        iso.DataGenerator(\n",
    "            idx,\n",
    "            { 'df' : pair_df },\n",
    "            batch_size=batch_size,\n",
    "            inputs = [\n",
    "                {\n",
    "                    'id' : 'amino_seq_1',\n",
    "                    'source_type' : 'dataframe',\n",
    "                    'source' : 'df',\n",
    "                    'extractor' : lambda row, index: (row['amino_seq_1'] + \"#\" * max_seq_len)[:max_seq_len],\n",
    "                    'encoder' : IdentityEncoder(max_seq_len, residue_map),\n",
    "                    'dim' : (max_seq_len, len(residue_map)),\n",
    "                    'sparsify' : False\n",
    "                },\n",
    "                {\n",
    "                    'id' : 'amino_seq_2',\n",
    "                    'source_type' : 'dataframe',\n",
    "                    'source' : 'df',\n",
    "                    'extractor' : lambda row, index: (row['amino_seq_2'] + \"#\" * max_seq_len)[:max_seq_len],\n",
    "                    'encoder' : IdentityEncoder(max_seq_len, residue_map),\n",
    "                    'dim' : (max_seq_len, len(residue_map)),\n",
    "                    'sparsify' : False\n",
    "                }\n",
    "            ],\n",
    "            outputs = [\n",
    "                {\n",
    "                    'id' : 'interacts',\n",
    "                    'source_type' : 'dataframe',\n",
    "                    'source' : 'df',\n",
    "                    'extractor' : lambda row, index: row['interacts'],\n",
    "                    'transformer' : NopTransformer(1),\n",
    "                    'dim' : (1,),\n",
    "                    'sparsify' : False\n",
    "                },\n",
    "                {\n",
    "                    'id' : 'enrichment',\n",
    "                    'source_type' : 'dataframe',\n",
    "                    'source' : 'df',\n",
    "                    'extractor' : lambda row, index: row['log_enrichment'] if 'log_enrichment' in row else row['interacts'],\n",
    "                    'transformer' : NopTransformer(1),\n",
    "                    'dim' : (1,),\n",
    "                    'sparsify' : False\n",
    "                }\n",
    "            ],\n",
    "            randomizers = [],\n",
    "            shuffle = False\n",
    "        ) for idx in [np.arange(len(pair_df), dtype=np.int), train_index, test_index]\n",
    "    ]\n",
    "\n",
    "\n",
    "\n",
    "    true_int = np.ravel(np.concatenate([test_gen[i][1][0] for i in range(len(test_gen))], axis=0))\n",
    "    pred_int = np.ravel(model.predict_generator(test_gen, workers=2, use_multiprocessing=True))\n",
    "\n",
    "    true_label = np.zeros(true_int.shape[0])\n",
    "    true_label[true_int > 0.5] = 1\n",
    "\n",
    "    if len(np.unique(true_label)) > 1 :\n",
    "        fpr, tpr, _ = roc_curve(true_label, pred_int)\n",
    "        auc = roc_auc_score(true_label, pred_int)\n",
    "\n",
    "        print(\"AUC = \" + str(round(auc, 3)))\n",
    "\n",
    "        f = plt.figure(figsize=(4, 4))\n",
    "\n",
    "        plt.plot(fpr, tpr, linewidth=3, color='black')\n",
    "\n",
    "        plt.xlabel(\"FPR\", fontsize=14)\n",
    "        plt.ylabel(\"TPR\", fontsize=14)\n",
    "\n",
    "        plt.show()\n",
    "    \n",
    "    f = plt.figure(figsize=(4, 4))\n",
    "\n",
    "    sns.violinplot(data=[pred_int[true_int == 0], pred_int[true_int == 1]], axis=0)\n",
    "\n",
    "    plt.xticks([0, 1], ['No Interact', 'Interact'], fontsize=14)\n",
    "    plt.yticks([0.0, 0.2, 0.4, 0.6, 0.8, 1.0], fontsize=14)\n",
    "    #plt.xlim(0, 1)\n",
    "    #plt.ylim(0, 1)\n",
    "    \n",
    "    plt.ylabel('Pred P(Interact)', fontsize=14)\n",
    "\n",
    "    plt.title('Classifier (Test set)', fontsize=14)\n",
    "\n",
    "    plt.tight_layout()\n",
    "    plt.show()\n",
    "\n",
    "\n",
    "    if len(np.unique(true_label)) > 1 :\n",
    "        average_precision = average_precision_score(true_int, pred_int)\n",
    "\n",
    "        print('Average precision-recall score = ' + str(round(average_precision, 2)))\n",
    "\n",
    "        precision, recall, _ = precision_recall_curve(true_int, pred_int)\n",
    "\n",
    "        f = plt.figure(figsize=(4, 4))\n",
    "\n",
    "        plt.step(precision, recall, linewidth=3, color='black')\n",
    "\n",
    "        plt.xticks([0.0, 0.2, 0.4, 0.6, 0.8, 1.0], fontsize=14)\n",
    "        plt.yticks([0.0, 0.2, 0.4, 0.6, 0.8, 1.0], fontsize=14)\n",
    "        plt.xlim(0, 1)\n",
    "        plt.ylim(0, 1)\n",
    "\n",
    "        plt.xlabel(\"Precision\", fontsize=16)\n",
    "        plt.ylabel(\"Recall\", fontsize=16)\n",
    "\n",
    "        plt.tight_layout()\n",
    "        plt.show()\n",
    "\n",
    "\n",
    "    pred_int_label = np.array([1 if pred_int[i] > 0.5 else 0 for i in range(pred_int.shape[0])])\n",
    "    \n",
    "    confusion_matrix_test = confusion_matrix(true_int, pred_int_label)\n",
    "\n",
    "    print(confusion_matrix_test)\n",
    "\n",
    "    f = plt.figure(figsize = (6, 2))\n",
    "\n",
    "    table = plt.table(cellText=confusion_matrix_test.tolist(), rowLabels=['No Interact', 'Interact'], colLabels=['Pred No Interact', 'Pred Interact'], loc='center')\n",
    "\n",
    "    ax = plt.gca()\n",
    "    #f.patch.set_visible(False)\n",
    "    ax.axis('off')\n",
    "    ax.axis('tight')\n",
    "\n",
    "    plt.tight_layout()\n",
    "    plt.show()\n",
    "    \n",
    "    \n",
    "    true_log_enrich = np.ravel(np.concatenate([test_gen[i][1][1] for i in range(len(test_gen))], axis=0))\n",
    "\n",
    "    f = plt.figure(figsize=(4, 4))\n",
    "\n",
    "    plt.scatter(pred_int[true_int == 0], true_log_enrich[true_int == 0], s = np.pi * (2 * np.ones(1))**2, alpha=0.15, color='black')\n",
    "    plt.scatter(pred_int[true_int == 1], true_log_enrich[true_int == 1], s = np.pi * (2 * np.ones(1))**2, alpha=0.75, color='red')\n",
    "    \n",
    "    plt.xticks([0.0, 0.2, 0.4, 0.6, 0.8, 1.0], fontsize=14)\n",
    "    plt.yticks([-4, -2, 0, 2, 4], fontsize=14)\n",
    "    plt.xlim(0, 1)\n",
    "\n",
    "    plt.xlabel('Predicted P(Interact)', fontsize=14)\n",
    "    plt.ylabel('Measure Enrichment (log)', fontsize=14)\n",
    "\n",
    "    plt.title('Classifier (Train+Test set)', fontsize=14)\n",
    "\n",
    "    plt.tight_layout()\n",
    "    plt.show()\n",
    "    "
   ]
  },
  {
   "cell_type": "code",
   "execution_count": 19,
   "metadata": {
    "scrolled": true
   },
   "outputs": [
    {
     "name": "stdout",
     "output_type": "stream",
     "text": [
      "len(pair_df) = 890124\n",
      "Training set size = 801112\n",
      "Validation set size = 44506\n",
      "Test set size = 44506\n",
      "AUC = 0.972\n"
     ]
    },
    {
     "data": {
      "image/png": "[encoded data removed]",
      "text/plain": [
       "<Figure size 288x288 with 1 Axes>"
      ]
     },
     "metadata": {},
     "output_type": "display_data"
    },
    {
     "name": "stderr",
     "output_type": "stream",
     "text": [
      "/home/ubuntu/anaconda3/envs/tensorflow_p36/lib/python3.6/site-packages/scipy/stats/stats.py:1713: FutureWarning: Using a non-tuple sequence for multidimensional indexing is deprecated; use `arr[tuple(seq)]` instead of `arr[seq]`. In the future this will be interpreted as an array index, `arr[np.array(seq)]`, which will result either in an error or a different result.\n",
      "  return np.add.reduce(sorted[indexer] * weights, axis=axis) / sumval\n"
     ]
    },
    {
     "data": {
      "image/png": "[encoded data removed]",
      "text/plain": [
       "<Figure size 288x288 with 1 Axes>"
      ]
     },
     "metadata": {},
     "output_type": "display_data"
    },
    {
     "name": "stdout",
     "output_type": "stream",
     "text": [
      "Average precision-recall score = 0.88\n"
     ]
    },
    {
     "data": {
      "image/png": "[encoded data removed]",
      "text/plain": [
       "<Figure size 288x288 with 1 Axes>"
      ]
     },
     "metadata": {},
     "output_type": "display_data"
    },
    {
     "name": "stdout",
     "output_type": "stream",
     "text": [
      "[[34675  1736]\n",
      " [ 1440  6629]]\n"
     ]
    },
    {
     "data": {
      "image/png": "[encoded data removed]",
      "text/plain": [
       "<Figure size 432x144 with 1 Axes>"
      ]
     },
     "metadata": {},
     "output_type": "display_data"
    },
    {
     "data": {
      "image/png": "[encoded data removed]",
      "text/plain": [
       "<Figure size 288x288 with 1 Axes>"
      ]
     },
     "metadata": {},
     "output_type": "display_data"
    }
   ],
   "source": [
    "#Within-domain testing\n",
    "\n",
    "experiment = \"baker_big_set_5x_negatives\"\n",
    "\n",
    "design_dict = pickle.load(open('design_partition_' + experiment + '.pickle', 'rb'))\n",
    "in_designs = design_dict['in_designs']\n",
    "out_designs = design_dict['out_designs']\n",
    "\n",
    "pair_df = pd.read_csv(\"pair_df_\" + experiment + \"_in_shuffled.csv\", sep=\"\\t\")\n",
    "\n",
    "#pair_df['design_1'] = pair_df['monomer_id_1'].apply(lambda c: c[2:])\n",
    "#pair_df['design_2'] = pair_df['monomer_id_2'].apply(lambda c: c[2:])\n",
    "\n",
    "#pair_df = pair_df.loc[pair_df['design_1'].isin(out_designs)].copy().reset_index(drop=True)\n",
    "#pair_df = pair_df.loc[pair_df['design_2'].isin(out_designs)].copy().reset_index(drop=True)\n",
    "\n",
    "print(\"len(pair_df) = \" + str(len(pair_df)))\n",
    "\n",
    "#Generate training and test set indexes\n",
    "valid_set_size = 0.05\n",
    "test_set_size = 0.05\n",
    "\n",
    "evaluate_on_data(model, pair_df, valid_set_size, test_set_size)\n"
   ]
  },
  {
   "cell_type": "code",
   "execution_count": 20,
   "metadata": {
    "scrolled": true
   },
   "outputs": [
    {
     "name": "stdout",
     "output_type": "stream",
     "text": [
      "len(pair_df) = 26999\n",
      "Training set size = 270\n",
      "Validation set size = 270\n",
      "Test set size = 26459\n",
      "AUC = 0.972\n"
     ]
    },
    {
     "data": {
      "image/png": "[encoded data removed]",
      "text/plain": [
       "<Figure size 288x288 with 1 Axes>"
      ]
     },
     "metadata": {},
     "output_type": "display_data"
    },
    {
     "name": "stderr",
     "output_type": "stream",
     "text": [
      "/home/ubuntu/anaconda3/envs/tensorflow_p36/lib/python3.6/site-packages/scipy/stats/stats.py:1713: FutureWarning: Using a non-tuple sequence for multidimensional indexing is deprecated; use `arr[tuple(seq)]` instead of `arr[seq]`. In the future this will be interpreted as an array index, `arr[np.array(seq)]`, which will result either in an error or a different result.\n",
      "  return np.add.reduce(sorted[indexer] * weights, axis=axis) / sumval\n"
     ]
    },
    {
     "data": {
      "image/png": "[encoded data removed]",
      "text/plain": [
       "<Figure size 288x288 with 1 Axes>"
      ]
     },
     "metadata": {},
     "output_type": "display_data"
    },
    {
     "name": "stdout",
     "output_type": "stream",
     "text": [
      "Average precision-recall score = 0.98\n"
     ]
    },
    {
     "data": {
      "image/png": "[encoded data removed]",
      "text/plain": [
       "<Figure size 288x288 with 1 Axes>"
      ]
     },
     "metadata": {},
     "output_type": "display_data"
    },
    {
     "name": "stdout",
     "output_type": "stream",
     "text": [
      "[[ 8383   424]\n",
      " [ 3110 14515]]\n"
     ]
    },
    {
     "data": {
      "image/png": "[encoded data removed]",
      "text/plain": [
       "<Figure size 432x144 with 1 Axes>"
      ]
     },
     "metadata": {},
     "output_type": "display_data"
    },
    {
     "data": {
      "image/png": "[encoded data removed]",
      "text/plain": [
       "<Figure size 288x288 with 1 Axes>"
      ]
     },
     "metadata": {},
     "output_type": "display_data"
    }
   ],
   "source": [
    "#Outside-domain testing\n",
    "\n",
    "experiment = \"baker_big_set_5x_negatives\"\n",
    "\n",
    "design_dict = pickle.load(open('design_partition_' + experiment + '.pickle', 'rb'))\n",
    "in_designs = design_dict['in_designs']\n",
    "out_designs = design_dict['out_designs']\n",
    "\n",
    "pair_df = pd.read_csv(\"pair_df_\" + experiment + \"_out_shuffled.csv\", sep=\"\\t\")\n",
    "\n",
    "pair_df['design_1'] = pair_df['monomer_id_1'].apply(lambda c: c[:-1])\n",
    "pair_df['design_2'] = pair_df['monomer_id_2'].apply(lambda c: c[:-1])\n",
    "\n",
    "pair_df = pair_df.loc[pair_df['design_1'].isin(out_designs) & pair_df['design_2'].isin(out_designs)].copy().reset_index(drop=True)\n",
    "\n",
    "print(\"len(pair_df) = \" + str(len(pair_df)))\n",
    "\n",
    "#Generate training and test set indexes\n",
    "valid_set_size = 0.01\n",
    "test_set_size = 0.98\n",
    "\n",
    "evaluate_on_data(model, pair_df, valid_set_size, test_set_size)\n"
   ]
  },
  {
   "cell_type": "code",
   "execution_count": null,
   "metadata": {},
   "outputs": [],
   "source": []
  }
 ],
 "metadata": {
  "kernelspec": {
   "display_name": "Environment (conda_tensorflow_p36)",
   "language": "python",
   "name": "conda_tensorflow_p36"
  },
  "language_info": {
   "codemirror_mode": {
    "name": "ipython",
    "version": 3
   },
   "file_extension": ".py",
   "mimetype": "text/x-python",
   "name": "python",
   "nbconvert_exporter": "python",
   "pygments_lexer": "ipython3",
   "version": "3.6.5"
  }
 },
 "nbformat": 4,
 "nbformat_minor": 2
}
